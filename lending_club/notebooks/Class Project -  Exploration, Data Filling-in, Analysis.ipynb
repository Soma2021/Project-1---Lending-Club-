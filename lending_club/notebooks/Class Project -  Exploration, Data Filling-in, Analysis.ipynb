{
 "cells": [
  {
   "cell_type": "code",
   "execution_count": 153,
   "metadata": {
    "collapsed": false
   },
   "outputs": [],
   "source": [
    "import pandas as pd\n",
    "import numpy as np\n",
    "\n",
    "import scipy.stats as stats\n",
    "\n",
    "%matplotlib inline\n",
    "pd.options.display.mpl_style = 'default'\n",
    "np.set_printoptions(precision=4,suppress=True)\n",
    "import seaborn as sns\n",
    "\n",
    "# %pylab inline\n",
    "# pd.options.display.mpl_style = 'default'"
   ]
  },
  {
   "cell_type": "code",
   "execution_count": 58,
   "metadata": {
    "collapsed": true
   },
   "outputs": [],
   "source": [
    "loandata_sf_final = pd.read_csv(\"..//data//lending_club//loandata_sf_final.csv\")"
   ]
  },
  {
   "cell_type": "code",
   "execution_count": 59,
   "metadata": {
    "collapsed": false
   },
   "outputs": [
    {
     "data": {
      "text/plain": [
       "Index([u'loan_amnt', u'installment', u'annual_inc', u'dti', u'tax_liens',\n",
       "       u'bc_util', u'bc_open_to_buy', u'total_bal_ex_mort',\n",
       "       u'acc_open_past_24mths', u'chargeoff_within_12_mths', u'delinq_2yrs',\n",
       "       u'mths_since_last_delinq', u'pct_tl_nvr_dlq', u'num_sats',\n",
       "       u'num_tl_120dpd_2m', u'num_tl_30dpd', u'num_tl_90g_dpd_24m',\n",
       "       u'num_accts_ever_120_pd', u'mths_since_recent_revol_delinq', u'id',\n",
       "       u'term', u'int_rate', u'grade', u'sub_grade', u'emp_title',\n",
       "       u'emp_length', u'home_ownership', u'verification_status', u'issue_d',\n",
       "       u'loan_status', u'title', u'addr_state', u'credit_score', u'emp_yr',\n",
       "       u'dlq_status', u'loan_issue_date'],\n",
       "      dtype='object')"
      ]
     },
     "execution_count": 59,
     "metadata": {},
     "output_type": "execute_result"
    }
   ],
   "source": [
    "loandata_sf_final.columns"
   ]
  },
  {
   "cell_type": "code",
   "execution_count": 60,
   "metadata": {
    "collapsed": false
   },
   "outputs": [
    {
     "data": {
      "text/html": [
       "<div>\n",
       "<table border=\"1\" class=\"dataframe\">\n",
       "  <thead>\n",
       "    <tr style=\"text-align: right;\">\n",
       "      <th></th>\n",
       "      <th>loan_amnt</th>\n",
       "      <th>installment</th>\n",
       "      <th>annual_inc</th>\n",
       "      <th>dti</th>\n",
       "      <th>tax_liens</th>\n",
       "      <th>bc_util</th>\n",
       "      <th>bc_open_to_buy</th>\n",
       "      <th>total_bal_ex_mort</th>\n",
       "      <th>acc_open_past_24mths</th>\n",
       "      <th>chargeoff_within_12_mths</th>\n",
       "      <th>...</th>\n",
       "      <th>home_ownership</th>\n",
       "      <th>verification_status</th>\n",
       "      <th>issue_d</th>\n",
       "      <th>loan_status</th>\n",
       "      <th>title</th>\n",
       "      <th>addr_state</th>\n",
       "      <th>credit_score</th>\n",
       "      <th>emp_yr</th>\n",
       "      <th>dlq_status</th>\n",
       "      <th>loan_issue_date</th>\n",
       "    </tr>\n",
       "  </thead>\n",
       "  <tbody>\n",
       "    <tr>\n",
       "      <th>0</th>\n",
       "      <td>10400</td>\n",
       "      <td>321.08</td>\n",
       "      <td>58000.0</td>\n",
       "      <td>14.92</td>\n",
       "      <td>0</td>\n",
       "      <td>41.5</td>\n",
       "      <td>7599.0</td>\n",
       "      <td>15030</td>\n",
       "      <td>7</td>\n",
       "      <td>0</td>\n",
       "      <td>...</td>\n",
       "      <td>MORTGAGE</td>\n",
       "      <td>Not Verified</td>\n",
       "      <td>14-Dec</td>\n",
       "      <td>Current</td>\n",
       "      <td>Credit card refinancing</td>\n",
       "      <td>CA</td>\n",
       "      <td>820</td>\n",
       "      <td>8</td>\n",
       "      <td>0</td>\n",
       "      <td>12/1/2014</td>\n",
       "    </tr>\n",
       "    <tr>\n",
       "      <th>1</th>\n",
       "      <td>15000</td>\n",
       "      <td>463.09</td>\n",
       "      <td>80000.0</td>\n",
       "      <td>14.39</td>\n",
       "      <td>0</td>\n",
       "      <td>79.2</td>\n",
       "      <td>2164.0</td>\n",
       "      <td>46949</td>\n",
       "      <td>4</td>\n",
       "      <td>0</td>\n",
       "      <td>...</td>\n",
       "      <td>MORTGAGE</td>\n",
       "      <td>Not Verified</td>\n",
       "      <td>14-Dec</td>\n",
       "      <td>Current</td>\n",
       "      <td>Debt consolidation</td>\n",
       "      <td>TX</td>\n",
       "      <td>820</td>\n",
       "      <td>8</td>\n",
       "      <td>0</td>\n",
       "      <td>12/1/2014</td>\n",
       "    </tr>\n",
       "    <tr>\n",
       "      <th>2</th>\n",
       "      <td>28000</td>\n",
       "      <td>864.44</td>\n",
       "      <td>130000.0</td>\n",
       "      <td>8.61</td>\n",
       "      <td>0</td>\n",
       "      <td>29.1</td>\n",
       "      <td>92775.0</td>\n",
       "      <td>119850</td>\n",
       "      <td>18</td>\n",
       "      <td>0</td>\n",
       "      <td>...</td>\n",
       "      <td>MORTGAGE</td>\n",
       "      <td>Verified</td>\n",
       "      <td>14-Dec</td>\n",
       "      <td>Fully Paid</td>\n",
       "      <td>Credit card refinancing</td>\n",
       "      <td>CA</td>\n",
       "      <td>820</td>\n",
       "      <td>8</td>\n",
       "      <td>0</td>\n",
       "      <td>12/1/2014</td>\n",
       "    </tr>\n",
       "    <tr>\n",
       "      <th>3</th>\n",
       "      <td>12000</td>\n",
       "      <td>370.48</td>\n",
       "      <td>70000.0</td>\n",
       "      <td>21.33</td>\n",
       "      <td>0</td>\n",
       "      <td>56.8</td>\n",
       "      <td>16285.0</td>\n",
       "      <td>39767</td>\n",
       "      <td>2</td>\n",
       "      <td>0</td>\n",
       "      <td>...</td>\n",
       "      <td>MORTGAGE</td>\n",
       "      <td>Not Verified</td>\n",
       "      <td>14-Dec</td>\n",
       "      <td>Current</td>\n",
       "      <td>Credit card refinancing</td>\n",
       "      <td>MA</td>\n",
       "      <td>820</td>\n",
       "      <td>8</td>\n",
       "      <td>0</td>\n",
       "      <td>12/1/2014</td>\n",
       "    </tr>\n",
       "    <tr>\n",
       "      <th>4</th>\n",
       "      <td>24000</td>\n",
       "      <td>740.95</td>\n",
       "      <td>120000.0</td>\n",
       "      <td>16.57</td>\n",
       "      <td>0</td>\n",
       "      <td>47.1</td>\n",
       "      <td>46575.0</td>\n",
       "      <td>70443</td>\n",
       "      <td>4</td>\n",
       "      <td>0</td>\n",
       "      <td>...</td>\n",
       "      <td>RENT</td>\n",
       "      <td>Source Verified</td>\n",
       "      <td>14-Dec</td>\n",
       "      <td>Current</td>\n",
       "      <td>Debt consolidation</td>\n",
       "      <td>OK</td>\n",
       "      <td>820</td>\n",
       "      <td>8</td>\n",
       "      <td>0</td>\n",
       "      <td>12/1/2014</td>\n",
       "    </tr>\n",
       "  </tbody>\n",
       "</table>\n",
       "<p>5 rows × 36 columns</p>\n",
       "</div>"
      ],
      "text/plain": [
       "   loan_amnt  installment  annual_inc    dti  tax_liens  bc_util  \\\n",
       "0      10400       321.08     58000.0  14.92          0     41.5   \n",
       "1      15000       463.09     80000.0  14.39          0     79.2   \n",
       "2      28000       864.44    130000.0   8.61          0     29.1   \n",
       "3      12000       370.48     70000.0  21.33          0     56.8   \n",
       "4      24000       740.95    120000.0  16.57          0     47.1   \n",
       "\n",
       "   bc_open_to_buy  total_bal_ex_mort  acc_open_past_24mths  \\\n",
       "0          7599.0              15030                     7   \n",
       "1          2164.0              46949                     4   \n",
       "2         92775.0             119850                    18   \n",
       "3         16285.0              39767                     2   \n",
       "4         46575.0              70443                     4   \n",
       "\n",
       "   chargeoff_within_12_mths       ...         home_ownership  \\\n",
       "0                         0       ...               MORTGAGE   \n",
       "1                         0       ...               MORTGAGE   \n",
       "2                         0       ...               MORTGAGE   \n",
       "3                         0       ...               MORTGAGE   \n",
       "4                         0       ...                   RENT   \n",
       "\n",
       "   verification_status  issue_d  loan_status                    title  \\\n",
       "0         Not Verified   14-Dec      Current  Credit card refinancing   \n",
       "1         Not Verified   14-Dec      Current       Debt consolidation   \n",
       "2             Verified   14-Dec   Fully Paid  Credit card refinancing   \n",
       "3         Not Verified   14-Dec      Current  Credit card refinancing   \n",
       "4      Source Verified   14-Dec      Current       Debt consolidation   \n",
       "\n",
       "   addr_state  credit_score  emp_yr  dlq_status  loan_issue_date  \n",
       "0          CA           820       8           0        12/1/2014  \n",
       "1          TX           820       8           0        12/1/2014  \n",
       "2          CA           820       8           0        12/1/2014  \n",
       "3          MA           820       8           0        12/1/2014  \n",
       "4          OK           820       8           0        12/1/2014  \n",
       "\n",
       "[5 rows x 36 columns]"
      ]
     },
     "execution_count": 60,
     "metadata": {},
     "output_type": "execute_result"
    }
   ],
   "source": [
    "loandata_sf_final.head()"
   ]
  },
  {
   "cell_type": "code",
   "execution_count": 113,
   "metadata": {
    "collapsed": false
   },
   "outputs": [
    {
     "data": {
      "text/plain": [
       "dtype('O')"
      ]
     },
     "execution_count": 113,
     "metadata": {},
     "output_type": "execute_result"
    }
   ],
   "source": [
    "loandata_sf_final.loan_issue_date.dtype"
   ]
  },
  {
   "cell_type": "code",
   "execution_count": 115,
   "metadata": {
    "collapsed": false
   },
   "outputs": [],
   "source": [
    "loandata_sf_final['issue_d_formatted'] = pd.to_datetime(loandata_sf_final.loan_issue_date,  unit = 'D')"
   ]
  },
  {
   "cell_type": "code",
   "execution_count": 165,
   "metadata": {
    "collapsed": false
   },
   "outputs": [
    {
     "data": {
      "text/plain": [
       "(235629, 36)"
      ]
     },
     "execution_count": 165,
     "metadata": {},
     "output_type": "execute_result"
    }
   ],
   "source": [
    "loandata_sf_final.shape\n",
    "del loandata_sf_final[\"loan_issue_date\"]\n",
    "loandata_sf_final.shape"
   ]
  },
  {
   "cell_type": "markdown",
   "metadata": {},
   "source": [
    "# Data Null Filling In"
   ]
  },
  {
   "cell_type": "code",
   "execution_count": 159,
   "metadata": {
    "collapsed": false
   },
   "outputs": [
    {
     "data": {
      "text/plain": [
       "loan_amnt                              0\n",
       "installment                            0\n",
       "annual_inc                             0\n",
       "dti                                    0\n",
       "tax_liens                              0\n",
       "bc_util                             2611\n",
       "bc_open_to_buy                      2445\n",
       "total_bal_ex_mort                      0\n",
       "acc_open_past_24mths                   0\n",
       "chargeoff_within_12_mths               0\n",
       "delinq_2yrs                            0\n",
       "mths_since_last_delinq            115881\n",
       "pct_tl_nvr_dlq                         0\n",
       "num_sats                               0\n",
       "num_tl_120dpd_2m                    7860\n",
       "num_tl_30dpd                           0\n",
       "num_tl_90g_dpd_24m                     0\n",
       "num_accts_ever_120_pd                  0\n",
       "mths_since_recent_revol_delinq    150863\n",
       "id                                     0\n",
       "term                                   0\n",
       "int_rate                               0\n",
       "grade                                  0\n",
       "sub_grade                              0\n",
       "emp_title                          13236\n",
       "emp_length                             0\n",
       "home_ownership                         0\n",
       "verification_status                    0\n",
       "issue_d                                0\n",
       "loan_status                            0\n",
       "title                                  0\n",
       "addr_state                             0\n",
       "credit_score                           0\n",
       "emp_yr                                 0\n",
       "dlq_status                             0\n",
       "loan_issue_date                        0\n",
       "issue_d_formatted                      0\n",
       "dtype: int64"
      ]
     },
     "execution_count": 159,
     "metadata": {},
     "output_type": "execute_result"
    }
   ],
   "source": [
    "# check for number of missing values per column\n",
    "loandata_sf_final.isnull().sum()"
   ]
  },
  {
   "cell_type": "code",
   "execution_count": 160,
   "metadata": {
    "collapsed": false
   },
   "outputs": [
    {
     "name": "stdout",
     "output_type": "stream",
     "text": [
      "Fraction of data kept:\n",
      "0.323631641267\n"
     ]
    }
   ],
   "source": [
    "loandata_sf_final_nonnull = loandata_sf_final.dropna()\n",
    "print \"Fraction of data kept:\\n\",float(loandata_sf_final_nonnull.shape[0])/loandata_sf_final.shape[0]"
   ]
  },
  {
   "cell_type": "code",
   "execution_count": 161,
   "metadata": {
    "collapsed": false
   },
   "outputs": [
    {
     "data": {
      "text/plain": [
       "(76257, 37)"
      ]
     },
     "execution_count": 161,
     "metadata": {},
     "output_type": "execute_result"
    }
   ],
   "source": [
    "loandata_sf_final_nonnull.shape"
   ]
  },
  {
   "cell_type": "code",
   "execution_count": 180,
   "metadata": {
    "collapsed": true
   },
   "outputs": [],
   "source": [
    "cat_columns_null = [\"emp_title\"]\n",
    "num_columns_null = [\"bc_util\", \"bc_open_to_buy\", \"mths_since_last_delinq\", \"num_tl_120dpd_2m\",\"mths_since_recent_revol_delinq\"]"
   ]
  },
  {
   "cell_type": "code",
   "execution_count": 171,
   "metadata": {
    "collapsed": true
   },
   "outputs": [],
   "source": [
    "# Categoric values na filling with most frequent\n",
    "\n",
    "#function to return the most frequent value in a pandas Series\n",
    "def get_most_frequent_value(my_column):\n",
    "    return my_column.value_counts().index[0]"
   ]
  },
  {
   "cell_type": "code",
   "execution_count": 175,
   "metadata": {
    "collapsed": false
   },
   "outputs": [
    {
     "name": "stdout",
     "output_type": "stream",
     "text": [
      "Most frequent value in each column:\n",
      "emp_title    Teacher\n",
      "dtype: object\n"
     ]
    }
   ],
   "source": [
    "most_frequent_values_per_column = loandata_sf_final[cat_columns_null].apply(get_most_frequent_value,axis=0)\n",
    "print \"Most frequent value in each column:\\n\",most_frequent_values_per_column"
   ]
  },
  {
   "cell_type": "code",
   "execution_count": 178,
   "metadata": {
    "collapsed": false
   },
   "outputs": [
    {
     "data": {
      "text/plain": [
       "emp_title    0\n",
       "dtype: int64"
      ]
     },
     "execution_count": 178,
     "metadata": {},
     "output_type": "execute_result"
    }
   ],
   "source": [
    "categorical_most_frequent = loandata_sf_final[cat_columns_null].fillna(most_frequent_values_per_column,axis=0)\n",
    "categorical_most_frequent.isnull().sum()\n",
    "categorical_most_frequent"
   ]
  },
  {
   "cell_type": "code",
   "execution_count": 189,
   "metadata": {
    "collapsed": false
   },
   "outputs": [
    {
     "data": {
      "text/plain": [
       "bc_util                           float64\n",
       "bc_open_to_buy                    float64\n",
       "mths_since_last_delinq            float64\n",
       "num_tl_120dpd_2m                  float64\n",
       "mths_since_recent_revol_delinq    float64\n",
       "dtype: object"
      ]
     },
     "execution_count": 189,
     "metadata": {},
     "output_type": "execute_result"
    }
   ],
   "source": [
    "# Numeric Value na filling with zero\n",
    "default_value_per_column = loandata_sf_final[num_columns_null].fillna(0.0)\n",
    "default_value_per_column.head()\n",
    "default_value_per_column.isnull().sum()\n",
    "default_value_per_column.dtypes"
   ]
  },
  {
   "cell_type": "code",
   "execution_count": 190,
   "metadata": {
    "collapsed": false
   },
   "outputs": [
    {
     "data": {
      "text/plain": [
       "loan_amnt                         0\n",
       "installment                       0\n",
       "annual_inc                        0\n",
       "dti                               0\n",
       "tax_liens                         0\n",
       "bc_util                           0\n",
       "bc_open_to_buy                    0\n",
       "total_bal_ex_mort                 0\n",
       "acc_open_past_24mths              0\n",
       "chargeoff_within_12_mths          0\n",
       "delinq_2yrs                       0\n",
       "mths_since_last_delinq            0\n",
       "pct_tl_nvr_dlq                    0\n",
       "num_sats                          0\n",
       "num_tl_120dpd_2m                  0\n",
       "num_tl_30dpd                      0\n",
       "num_tl_90g_dpd_24m                0\n",
       "num_accts_ever_120_pd             0\n",
       "mths_since_recent_revol_delinq    0\n",
       "id                                0\n",
       "term                              0\n",
       "int_rate                          0\n",
       "grade                             0\n",
       "sub_grade                         0\n",
       "emp_title                         0\n",
       "emp_length                        0\n",
       "home_ownership                    0\n",
       "verification_status               0\n",
       "issue_d                           0\n",
       "loan_status                       0\n",
       "title                             0\n",
       "addr_state                        0\n",
       "credit_score                      0\n",
       "emp_yr                            0\n",
       "dlq_status                        0\n",
       "issue_d_formatted                 0\n",
       "dtype: int64"
      ]
     },
     "execution_count": 190,
     "metadata": {},
     "output_type": "execute_result"
    }
   ],
   "source": [
    "loandata_sf_final_filled = loandata_sf_final.copy()\n",
    "loandata_sf_final_filled[num_columns_null] = default_value_per_column\n",
    "loandata_sf_final_filled[cat_columns_null] = categorical_most_frequent\n",
    "loandata_sf_final_filled.isnull().sum()"
   ]
  },
  {
   "cell_type": "code",
   "execution_count": 191,
   "metadata": {
    "collapsed": false
   },
   "outputs": [
    {
     "data": {
      "text/plain": [
       "(235629, 36)"
      ]
     },
     "execution_count": 191,
     "metadata": {},
     "output_type": "execute_result"
    }
   ],
   "source": [
    "loandata_sf_final_filled.shape"
   ]
  },
  {
   "cell_type": "code",
   "execution_count": 202,
   "metadata": {
    "collapsed": false
   },
   "outputs": [
    {
     "data": {
      "text/html": [
       "<div>\n",
       "<table border=\"1\" class=\"dataframe\">\n",
       "  <thead>\n",
       "    <tr style=\"text-align: right;\">\n",
       "      <th></th>\n",
       "      <th>loan_amnt</th>\n",
       "      <th>installment</th>\n",
       "      <th>annual_inc</th>\n",
       "      <th>dti</th>\n",
       "      <th>tax_liens</th>\n",
       "      <th>bc_util</th>\n",
       "      <th>bc_open_to_buy</th>\n",
       "      <th>total_bal_ex_mort</th>\n",
       "      <th>acc_open_past_24mths</th>\n",
       "      <th>chargeoff_within_12_mths</th>\n",
       "      <th>...</th>\n",
       "      <th>home_ownership</th>\n",
       "      <th>verification_status</th>\n",
       "      <th>issue_d</th>\n",
       "      <th>loan_status</th>\n",
       "      <th>title</th>\n",
       "      <th>addr_state</th>\n",
       "      <th>credit_score</th>\n",
       "      <th>emp_yr</th>\n",
       "      <th>dlq_status</th>\n",
       "      <th>issue_d_formatted</th>\n",
       "    </tr>\n",
       "  </thead>\n",
       "  <tbody>\n",
       "    <tr>\n",
       "      <th>0</th>\n",
       "      <td>10400</td>\n",
       "      <td>321.08</td>\n",
       "      <td>58000.0</td>\n",
       "      <td>14.92</td>\n",
       "      <td>0</td>\n",
       "      <td>41.5</td>\n",
       "      <td>7599.0</td>\n",
       "      <td>15030</td>\n",
       "      <td>7</td>\n",
       "      <td>0</td>\n",
       "      <td>...</td>\n",
       "      <td>MORTGAGE</td>\n",
       "      <td>Not Verified</td>\n",
       "      <td>14-Dec</td>\n",
       "      <td>Current</td>\n",
       "      <td>Credit card refinancing</td>\n",
       "      <td>CA</td>\n",
       "      <td>820</td>\n",
       "      <td>8</td>\n",
       "      <td>0</td>\n",
       "      <td>2014-12-01</td>\n",
       "    </tr>\n",
       "    <tr>\n",
       "      <th>1</th>\n",
       "      <td>15000</td>\n",
       "      <td>463.09</td>\n",
       "      <td>80000.0</td>\n",
       "      <td>14.39</td>\n",
       "      <td>0</td>\n",
       "      <td>79.2</td>\n",
       "      <td>2164.0</td>\n",
       "      <td>46949</td>\n",
       "      <td>4</td>\n",
       "      <td>0</td>\n",
       "      <td>...</td>\n",
       "      <td>MORTGAGE</td>\n",
       "      <td>Not Verified</td>\n",
       "      <td>14-Dec</td>\n",
       "      <td>Current</td>\n",
       "      <td>Debt consolidation</td>\n",
       "      <td>TX</td>\n",
       "      <td>820</td>\n",
       "      <td>8</td>\n",
       "      <td>0</td>\n",
       "      <td>2014-12-01</td>\n",
       "    </tr>\n",
       "    <tr>\n",
       "      <th>2</th>\n",
       "      <td>28000</td>\n",
       "      <td>864.44</td>\n",
       "      <td>130000.0</td>\n",
       "      <td>8.61</td>\n",
       "      <td>0</td>\n",
       "      <td>29.1</td>\n",
       "      <td>92775.0</td>\n",
       "      <td>119850</td>\n",
       "      <td>18</td>\n",
       "      <td>0</td>\n",
       "      <td>...</td>\n",
       "      <td>MORTGAGE</td>\n",
       "      <td>Verified</td>\n",
       "      <td>14-Dec</td>\n",
       "      <td>Fully Paid</td>\n",
       "      <td>Credit card refinancing</td>\n",
       "      <td>CA</td>\n",
       "      <td>820</td>\n",
       "      <td>8</td>\n",
       "      <td>0</td>\n",
       "      <td>2014-12-01</td>\n",
       "    </tr>\n",
       "    <tr>\n",
       "      <th>3</th>\n",
       "      <td>12000</td>\n",
       "      <td>370.48</td>\n",
       "      <td>70000.0</td>\n",
       "      <td>21.33</td>\n",
       "      <td>0</td>\n",
       "      <td>56.8</td>\n",
       "      <td>16285.0</td>\n",
       "      <td>39767</td>\n",
       "      <td>2</td>\n",
       "      <td>0</td>\n",
       "      <td>...</td>\n",
       "      <td>MORTGAGE</td>\n",
       "      <td>Not Verified</td>\n",
       "      <td>14-Dec</td>\n",
       "      <td>Current</td>\n",
       "      <td>Credit card refinancing</td>\n",
       "      <td>MA</td>\n",
       "      <td>820</td>\n",
       "      <td>8</td>\n",
       "      <td>0</td>\n",
       "      <td>2014-12-01</td>\n",
       "    </tr>\n",
       "    <tr>\n",
       "      <th>4</th>\n",
       "      <td>24000</td>\n",
       "      <td>740.95</td>\n",
       "      <td>120000.0</td>\n",
       "      <td>16.57</td>\n",
       "      <td>0</td>\n",
       "      <td>47.1</td>\n",
       "      <td>46575.0</td>\n",
       "      <td>70443</td>\n",
       "      <td>4</td>\n",
       "      <td>0</td>\n",
       "      <td>...</td>\n",
       "      <td>RENT</td>\n",
       "      <td>Source Verified</td>\n",
       "      <td>14-Dec</td>\n",
       "      <td>Current</td>\n",
       "      <td>Debt consolidation</td>\n",
       "      <td>OK</td>\n",
       "      <td>820</td>\n",
       "      <td>8</td>\n",
       "      <td>0</td>\n",
       "      <td>2014-12-01</td>\n",
       "    </tr>\n",
       "  </tbody>\n",
       "</table>\n",
       "<p>5 rows × 36 columns</p>\n",
       "</div>"
      ],
      "text/plain": [
       "   loan_amnt  installment  annual_inc    dti  tax_liens  bc_util  \\\n",
       "0      10400       321.08     58000.0  14.92          0     41.5   \n",
       "1      15000       463.09     80000.0  14.39          0     79.2   \n",
       "2      28000       864.44    130000.0   8.61          0     29.1   \n",
       "3      12000       370.48     70000.0  21.33          0     56.8   \n",
       "4      24000       740.95    120000.0  16.57          0     47.1   \n",
       "\n",
       "   bc_open_to_buy  total_bal_ex_mort  acc_open_past_24mths  \\\n",
       "0          7599.0              15030                     7   \n",
       "1          2164.0              46949                     4   \n",
       "2         92775.0             119850                    18   \n",
       "3         16285.0              39767                     2   \n",
       "4         46575.0              70443                     4   \n",
       "\n",
       "   chargeoff_within_12_mths        ...          home_ownership  \\\n",
       "0                         0        ...                MORTGAGE   \n",
       "1                         0        ...                MORTGAGE   \n",
       "2                         0        ...                MORTGAGE   \n",
       "3                         0        ...                MORTGAGE   \n",
       "4                         0        ...                    RENT   \n",
       "\n",
       "   verification_status  issue_d  loan_status                    title  \\\n",
       "0         Not Verified   14-Dec      Current  Credit card refinancing   \n",
       "1         Not Verified   14-Dec      Current       Debt consolidation   \n",
       "2             Verified   14-Dec   Fully Paid  Credit card refinancing   \n",
       "3         Not Verified   14-Dec      Current  Credit card refinancing   \n",
       "4      Source Verified   14-Dec      Current       Debt consolidation   \n",
       "\n",
       "   addr_state  credit_score  emp_yr  dlq_status  issue_d_formatted  \n",
       "0          CA           820       8           0         2014-12-01  \n",
       "1          TX           820       8           0         2014-12-01  \n",
       "2          CA           820       8           0         2014-12-01  \n",
       "3          MA           820       8           0         2014-12-01  \n",
       "4          OK           820       8           0         2014-12-01  \n",
       "\n",
       "[5 rows x 36 columns]"
      ]
     },
     "execution_count": 202,
     "metadata": {},
     "output_type": "execute_result"
    }
   ],
   "source": [
    "loandata_sf_final_filled.head()"
   ]
  },
  {
   "cell_type": "code",
   "execution_count": 205,
   "metadata": {
    "collapsed": true
   },
   "outputs": [],
   "source": [
    "def yearmon(row):\n",
    "    return row['issue_d_formatted'].year*100 + row['issue_d_formatted'].month"
   ]
  },
  {
   "cell_type": "code",
   "execution_count": 206,
   "metadata": {
    "collapsed": false
   },
   "outputs": [],
   "source": [
    "loandata_sf_final_filled['Issue_YearMon'] = loandata_sf_final_filled.apply(yearmon, axis=1)"
   ]
  },
  {
   "cell_type": "code",
   "execution_count": 207,
   "metadata": {
    "collapsed": false
   },
   "outputs": [
    {
     "data": {
      "text/plain": [
       "<matplotlib.text.Text at 0x46faf9e8>"
      ]
     },
     "execution_count": 207,
     "metadata": {},
     "output_type": "execute_result"
    },
    {
     "data": {
      "image/png": "[encoded data removed]",
      "text/plain": [
       "<matplotlib.figure.Figure at 0x3447ef28>"
      ]
     },
     "metadata": {},
     "output_type": "display_data"
    }
   ],
   "source": [
    "LoanCounts = loandata_sf_final_filled.Issue_YearMon.value_counts()\n",
    "LoanCounts.plot(kind='bar', title=\"Loan Count by Month in 2014\")\n",
    "plt.ylabel(\"Months\")\n",
    "plt.xlabel(\"Loans\")"
   ]
  },
  {
   "cell_type": "code",
   "execution_count": 208,
   "metadata": {
    "collapsed": false
   },
   "outputs": [
    {
     "data": {
      "text/plain": [
       "<matplotlib.text.Text at 0x26176b38>"
      ]
     },
     "execution_count": 208,
     "metadata": {},
     "output_type": "execute_result"
    },
    {
     "data": {
      "image/png": "[encoded data removed]",
      "text/plain": [
       "<matplotlib.figure.Figure at 0x26146d68>"
      ]
     },
     "metadata": {},
     "output_type": "display_data"
    }
   ],
   "source": [
    "loandata_sf_final_filled.credit_score.hist(bins=7)\n",
    "plt.title(\"Credit Score Distribution\")\n",
    "plt.ylabel(\"Number of Loans\")\n",
    "plt.xlabel(\"Credit Score\")"
   ]
  },
  {
   "cell_type": "code",
   "execution_count": 209,
   "metadata": {
    "collapsed": false
   },
   "outputs": [
    {
     "data": {
      "text/plain": [
       "<matplotlib.text.Text at 0x13d6cf98>"
      ]
     },
     "execution_count": 209,
     "metadata": {},
     "output_type": "execute_result"
    },
    {
     "data": {
      "image/png": "[encoded data removed]",
      "text/plain": [
       "<matplotlib.figure.Figure at 0x25f075f8>"
      ]
     },
     "metadata": {},
     "output_type": "display_data"
    }
   ],
   "source": [
    "loandata_sf_final_filled.dti.hist(bins=10)\n",
    "plt.title(\"DTI Distribution\")\n",
    "plt.ylabel(\"Number of Loans\")\n",
    "plt.xlabel(\"DTI\")"
   ]
  },
  {
   "cell_type": "code",
   "execution_count": 210,
   "metadata": {
    "collapsed": false
   },
   "outputs": [
    {
     "data": {
      "text/plain": [
       "<matplotlib.text.Text at 0x4dac6748>"
      ]
     },
     "execution_count": 210,
     "metadata": {},
     "output_type": "execute_result"
    },
    {
     "data": {
      "image/png": "[encoded data removed]",
      "text/plain": [
       "<matplotlib.figure.Figure at 0x4dbcaa90>"
      ]
     },
     "metadata": {},
     "output_type": "display_data"
    }
   ],
   "source": [
    "loandata_sf_final_filled.loan_amnt.hist(bins=10)\n",
    "plt.title(\"Loan Amt Distribution\")\n",
    "plt.ylabel(\"Number of Loans\")\n",
    "plt.xlabel(\"Loan Amt\")"
   ]
  },
  {
   "cell_type": "code",
   "execution_count": 211,
   "metadata": {
    "collapsed": false
   },
   "outputs": [
    {
     "data": {
      "text/plain": [
       "<matplotlib.text.Text at 0x495a85c0>"
      ]
     },
     "execution_count": 211,
     "metadata": {},
     "output_type": "execute_result"
    },
    {
     "data": {
      "image/png": "[encoded data removed]",
      "text/plain": [
       "<matplotlib.figure.Figure at 0x46f7ddd8>"
      ]
     },
     "metadata": {},
     "output_type": "display_data"
    }
   ],
   "source": [
    "loandata_sf_final_filled.groupby(\"grade\").size().plot(kind='bar', title = \"Loans by Credit Grade\")\n",
    "plt.ylabel(\"Number of Loans\")\n",
    "plt.xlabel(\"Credit Grade\")"
   ]
  },
  {
   "cell_type": "code",
   "execution_count": 212,
   "metadata": {
    "collapsed": false
   },
   "outputs": [
    {
     "data": {
      "text/plain": [
       "<matplotlib.text.Text at 0x4df57a58>"
      ]
     },
     "execution_count": 212,
     "metadata": {},
     "output_type": "execute_result"
    },
    {
     "data": {
      "image/png": "[encoded data removed]",
      "text/plain": [
       "<matplotlib.figure.Figure at 0x4e23be48>"
      ]
     },
     "metadata": {},
     "output_type": "display_data"
    }
   ],
   "source": [
    "loandata_sf_final_filled.groupby(\"grade\")[\"credit_score\"].agg(np.mean).plot(kind='bar', title = \"Avg FICO by Credit Grade\")\n",
    "plt.ylabel(\"Avg FICO\")\n",
    "plt.xlabel(\"Credit Grade\")"
   ]
  },
  {
   "cell_type": "code",
   "execution_count": 213,
   "metadata": {
    "collapsed": false
   },
   "outputs": [
    {
     "data": {
      "text/plain": [
       "<matplotlib.text.Text at 0x4e322550>"
      ]
     },
     "execution_count": 213,
     "metadata": {},
     "output_type": "execute_result"
    },
    {
     "data": {
      "image/png": "[encoded data removed]",
      "text/plain": [
       "<matplotlib.figure.Figure at 0x33f928d0>"
      ]
     },
     "metadata": {},
     "output_type": "display_data"
    }
   ],
   "source": [
    "loandata_sf_final_filled.groupby(\"grade\")[\"dlq_status\"].agg(np.sum).plot(kind='bar', title = \"No of Dlq Loans by Credit Grade\")\n",
    "plt.ylabel(\"No of Dlq Loans\")\n",
    "plt.xlabel(\"Credit Grade\")"
   ]
  },
  {
   "cell_type": "code",
   "execution_count": 218,
   "metadata": {
    "collapsed": false
   },
   "outputs": [
    {
     "name": "stdout",
     "output_type": "stream",
     "text": [
      "dlq_status\n",
      "0    210790\n",
      "1     24839\n",
      "dtype: int64\n"
     ]
    }
   ],
   "source": [
    "dlq_status_grp = loandata_sf_final_filled.groupby(\"dlq_status\")[\"grade\"]\n",
    "print dlq_status_grp.size()"
   ]
  },
  {
   "cell_type": "code",
   "execution_count": 214,
   "metadata": {
    "collapsed": false
   },
   "outputs": [
    {
     "data": {
      "text/plain": [
       "<matplotlib.text.Text at 0x494f9dd8>"
      ]
     },
     "execution_count": 214,
     "metadata": {},
     "output_type": "execute_result"
    },
    {
     "data": {
      "image/png": "[encoded data removed]",
      "text/plain": [
       "<matplotlib.figure.Figure at 0x46f7dfd0>"
      ]
     },
     "metadata": {},
     "output_type": "display_data"
    }
   ],
   "source": [
    "loandata_sf_final_filled.groupby(\"grade\")[\"dlq_status\"].agg(np.mean).plot(kind='bar', title = \"Dlq Rate by Credit Grade\", figsize=(10,8))\n",
    "plt.ylabel(\"Dlq Rate\")\n",
    "plt.xlabel(\"Credit Grade\")"
   ]
  },
  {
   "cell_type": "code",
   "execution_count": 215,
   "metadata": {
    "collapsed": false
   },
   "outputs": [
    {
     "data": {
      "text/plain": [
       "<matplotlib.text.Text at 0x2dc84588>"
      ]
     },
     "execution_count": 215,
     "metadata": {},
     "output_type": "execute_result"
    },
    {
     "data": {
      "image/png": "[encoded data removed]",
      "text/plain": [
       "<matplotlib.figure.Figure at 0x3400eba8>"
      ]
     },
     "metadata": {},
     "output_type": "display_data"
    }
   ],
   "source": [
    "loandata_sf_final_filled.groupby(\"home_ownership\")[\"dlq_status\"].agg(np.mean).plot(kind='bar', title = \"Dlq Rate by Credit Grade\", figsize=(10,8))\n",
    "plt.ylabel(\"Dlq Rate\")\n",
    "plt.xlabel(\"Credit Grade\")"
   ]
  },
  {
   "cell_type": "code",
   "execution_count": 216,
   "metadata": {
    "collapsed": false
   },
   "outputs": [
    {
     "name": "stdout",
     "output_type": "stream",
     "text": [
      "['MORTGAGE' 'RENT' 'OWN' 'ANY']\n",
      "home_ownership\n",
      "ANY              1\n",
      "MORTGAGE    119937\n",
      "OWN          23007\n",
      "RENT         92684\n",
      "dtype: int64\n"
     ]
    }
   ],
   "source": [
    "print loandata_sf_final_filled.home_ownership.unique()\n",
    "home_grp = loandata_sf_final_filled.groupby('home_ownership')\n",
    "print home_grp.size()"
   ]
  },
  {
   "cell_type": "markdown",
   "metadata": {},
   "source": [
    "# Correlation and Heatmap"
   ]
  },
  {
   "cell_type": "code",
   "execution_count": 219,
   "metadata": {
    "collapsed": false
   },
   "outputs": [
    {
     "data": {
      "text/html": [
       "<div>\n",
       "<table border=\"1\" class=\"dataframe\">\n",
       "  <thead>\n",
       "    <tr style=\"text-align: right;\">\n",
       "      <th></th>\n",
       "      <th>annual_inc</th>\n",
       "      <th>dti</th>\n",
       "      <th>bc_util</th>\n",
       "      <th>int_rate</th>\n",
       "      <th>credit_score</th>\n",
       "      <th>dlq_status</th>\n",
       "    </tr>\n",
       "  </thead>\n",
       "  <tbody>\n",
       "    <tr>\n",
       "      <th>0</th>\n",
       "      <td>58000.0</td>\n",
       "      <td>14.92</td>\n",
       "      <td>41.5</td>\n",
       "      <td>0.0699</td>\n",
       "      <td>820</td>\n",
       "      <td>0</td>\n",
       "    </tr>\n",
       "    <tr>\n",
       "      <th>1</th>\n",
       "      <td>80000.0</td>\n",
       "      <td>14.39</td>\n",
       "      <td>79.2</td>\n",
       "      <td>0.0699</td>\n",
       "      <td>820</td>\n",
       "      <td>0</td>\n",
       "    </tr>\n",
       "    <tr>\n",
       "      <th>2</th>\n",
       "      <td>130000.0</td>\n",
       "      <td>8.61</td>\n",
       "      <td>29.1</td>\n",
       "      <td>0.0699</td>\n",
       "      <td>820</td>\n",
       "      <td>0</td>\n",
       "    </tr>\n",
       "    <tr>\n",
       "      <th>3</th>\n",
       "      <td>70000.0</td>\n",
       "      <td>21.33</td>\n",
       "      <td>56.8</td>\n",
       "      <td>0.0699</td>\n",
       "      <td>820</td>\n",
       "      <td>0</td>\n",
       "    </tr>\n",
       "    <tr>\n",
       "      <th>4</th>\n",
       "      <td>120000.0</td>\n",
       "      <td>16.57</td>\n",
       "      <td>47.1</td>\n",
       "      <td>0.0699</td>\n",
       "      <td>820</td>\n",
       "      <td>0</td>\n",
       "    </tr>\n",
       "  </tbody>\n",
       "</table>\n",
       "</div>"
      ],
      "text/plain": [
       "   annual_inc    dti  bc_util  int_rate  credit_score  dlq_status\n",
       "0     58000.0  14.92     41.5    0.0699           820           0\n",
       "1     80000.0  14.39     79.2    0.0699           820           0\n",
       "2    130000.0   8.61     29.1    0.0699           820           0\n",
       "3     70000.0  21.33     56.8    0.0699           820           0\n",
       "4    120000.0  16.57     47.1    0.0699           820           0"
      ]
     },
     "execution_count": 219,
     "metadata": {},
     "output_type": "execute_result"
    }
   ],
   "source": [
    "few_feature_selected = ['annual_inc', 'dti', 'bc_util','int_rate', 'credit_score', 'dlq_status']\n",
    "loandata_few_features = loandata_sf_final_filled[few_feature_selected ]\n",
    "loandata_few_features.head()\n"
   ]
  },
  {
   "cell_type": "code",
   "execution_count": 220,
   "metadata": {
    "collapsed": false
   },
   "outputs": [
    {
     "data": {
      "text/plain": [
       "annual_inc      float64\n",
       "dti             float64\n",
       "bc_util         float64\n",
       "int_rate        float64\n",
       "credit_score      int64\n",
       "dlq_status        int64\n",
       "dtype: object"
      ]
     },
     "execution_count": 220,
     "metadata": {},
     "output_type": "execute_result"
    }
   ],
   "source": [
    "loandata_few_features.dtypes"
   ]
  },
  {
   "cell_type": "code",
   "execution_count": 221,
   "metadata": {
    "collapsed": false
   },
   "outputs": [
    {
     "name": "stdout",
     "output_type": "stream",
     "text": [
      " Correlation: \n",
      "[[ 1.     -0.212  -0.001  -0.0839  0.0826 -0.0442]\n",
      " [-0.212   1.      0.1672  0.1512 -0.158   0.0647]\n",
      " [-0.001   0.1672  1.      0.2591 -0.2566  0.0432]\n",
      " [-0.0839  0.1512  0.2591  1.     -0.9909  0.1897]\n",
      " [ 0.0826 -0.158  -0.2566 -0.9909  1.     -0.1873]\n",
      " [-0.0442  0.0647  0.0432  0.1897 -0.1873  1.    ]]\n"
     ]
    },
    {
     "data": {
      "text/plain": [
       "<matplotlib.axes._subplots.AxesSubplot at 0x471b4c88>"
      ]
     },
     "execution_count": 221,
     "metadata": {},
     "output_type": "execute_result"
    },
    {
     "data": {
      "image/png": "[encoded data removed]",
      "text/plain": [
       "<matplotlib.figure.Figure at 0x4d82f588>"
      ]
     },
     "metadata": {},
     "output_type": "display_data"
    }
   ],
   "source": [
    "# loandata_few_features_cov = np.cov(loandata_few_features.T)\n",
    "loandata_few_features_corr = np.corrcoef(loandata_few_features.T)\n",
    "\n",
    "# print \"Covariance: \\n\", loandata_few_features_cov\n",
    "print \" Correlation: \\n\", loandata_few_features_corr\n",
    "\n",
    "sns.heatmap(loandata_few_features_corr)\n",
    "\n"
   ]
  },
  {
   "cell_type": "code",
   "execution_count": 222,
   "metadata": {
    "collapsed": false
   },
   "outputs": [
    {
     "data": {
      "text/plain": [
       "-0.99250545617773756"
      ]
     },
     "execution_count": 222,
     "metadata": {},
     "output_type": "execute_result"
    }
   ],
   "source": [
    "loandata_few_features.credit_score.corr(loandata_few_features.int_rate, method=\"spearman\")\n"
   ]
  },
  {
   "cell_type": "code",
   "execution_count": 224,
   "metadata": {
    "collapsed": false
   },
   "outputs": [
    {
     "data": {
      "text/plain": [
       "-0.18132396314637061"
      ]
     },
     "execution_count": 224,
     "metadata": {},
     "output_type": "execute_result"
    }
   ],
   "source": [
    "loandata_few_features.credit_score.corr(loandata_few_features.dlq_status, method=\"spearman\")"
   ]
  },
  {
   "cell_type": "code",
   "execution_count": 242,
   "metadata": {
    "collapsed": false
   },
   "outputs": [],
   "source": [
    "countby_states_data =  pd.DataFrame(loandata_sf_final_filled.groupby(\"addr_state\").size().reset_index(name='loan_count'))"
   ]
  },
  {
   "cell_type": "code",
   "execution_count": 244,
   "metadata": {
    "collapsed": false
   },
   "outputs": [
    {
     "name": "stderr",
     "output_type": "stream",
     "text": [
      "C:\\Anaconda2\\lib\\site-packages\\folium\\folium.py:504: UserWarning: This method is deprecated. Please use Map.choropleth instead.\n",
      "  warnings.warn('This method is deprecated. '\n"
     ]
    },
    {
     "ename": "IOError",
     "evalue": "[Errno 2] No such file or directory: 'data/us-states.json'",
     "output_type": "error",
     "traceback": [
      "\u001b[1;31m---------------------------------------------------------------------------\u001b[0m",
      "\u001b[1;31mIOError\u001b[0m                                   Traceback (most recent call last)",
      "\u001b[1;32m<ipython-input-244-26dccaf6b41f>\u001b[0m in \u001b[0;36m<module>\u001b[1;34m()\u001b[0m\n\u001b[0;32m     10\u001b[0m              \u001b[0mkey_on\u001b[0m\u001b[1;33m=\u001b[0m\u001b[1;34m'feature.id'\u001b[0m\u001b[1;33m,\u001b[0m\u001b[1;33m\u001b[0m\u001b[0m\n\u001b[0;32m     11\u001b[0m              \u001b[0mfill_color\u001b[0m\u001b[1;33m=\u001b[0m\u001b[1;34m'YlGn'\u001b[0m\u001b[1;33m,\u001b[0m \u001b[0mfill_opacity\u001b[0m\u001b[1;33m=\u001b[0m\u001b[1;36m0.7\u001b[0m\u001b[1;33m,\u001b[0m \u001b[0mline_opacity\u001b[0m\u001b[1;33m=\u001b[0m\u001b[1;36m0.2\u001b[0m\u001b[1;33m,\u001b[0m\u001b[1;33m\u001b[0m\u001b[0m\n\u001b[1;32m---> 12\u001b[1;33m              legend_name='Loan Count')\n\u001b[0m\u001b[0;32m     13\u001b[0m \u001b[0mmap\u001b[0m\u001b[1;33m.\u001b[0m\u001b[0mcreate_map\u001b[0m\u001b[1;33m(\u001b[0m\u001b[0mpath\u001b[0m\u001b[1;33m=\u001b[0m\u001b[1;34m'us_states.html'\u001b[0m\u001b[1;33m)\u001b[0m\u001b[1;33m\u001b[0m\u001b[0m\n",
      "\u001b[1;32mC:\\Anaconda2\\lib\\site-packages\\folium\\folium.pyc\u001b[0m in \u001b[0;36mgeo_json\u001b[1;34m(self, *args, **kwargs)\u001b[0m\n\u001b[0;32m    504\u001b[0m         warnings.warn('This method is deprecated. '\n\u001b[0;32m    505\u001b[0m                       'Please use Map.choropleth instead.')\n\u001b[1;32m--> 506\u001b[1;33m         \u001b[1;32mreturn\u001b[0m \u001b[0mself\u001b[0m\u001b[1;33m.\u001b[0m\u001b[0mchoropleth\u001b[0m\u001b[1;33m(\u001b[0m\u001b[1;33m*\u001b[0m\u001b[0margs\u001b[0m\u001b[1;33m,\u001b[0m \u001b[1;33m**\u001b[0m\u001b[0mkwargs\u001b[0m\u001b[1;33m)\u001b[0m\u001b[1;33m\u001b[0m\u001b[0m\n\u001b[0m\u001b[0;32m    507\u001b[0m \u001b[1;33m\u001b[0m\u001b[0m\n\u001b[0;32m    508\u001b[0m     def choropleth(self, geo_path=None, geo_str=None, data_out='data.json',\n",
      "\u001b[1;32mC:\\Anaconda2\\lib\\site-packages\\folium\\folium.pyc\u001b[0m in \u001b[0;36mchoropleth\u001b[1;34m(self, geo_path, geo_str, data_out, data, columns, key_on, threshold_scale, fill_color, fill_opacity, line_color, line_weight, line_opacity, legend_name, topojson, reset)\u001b[0m\n\u001b[0;32m    604\u001b[0m         \u001b[1;31m# Create GeoJson object\u001b[0m\u001b[1;33m\u001b[0m\u001b[1;33m\u001b[0m\u001b[0m\n\u001b[0;32m    605\u001b[0m         \u001b[1;32mif\u001b[0m \u001b[0mgeo_path\u001b[0m\u001b[1;33m:\u001b[0m\u001b[1;33m\u001b[0m\u001b[0m\n\u001b[1;32m--> 606\u001b[1;33m             \u001b[0mgeo_data\u001b[0m \u001b[1;33m=\u001b[0m \u001b[0mopen\u001b[0m\u001b[1;33m(\u001b[0m\u001b[0mgeo_path\u001b[0m\u001b[1;33m)\u001b[0m\u001b[1;33m\u001b[0m\u001b[0m\n\u001b[0m\u001b[0;32m    607\u001b[0m         \u001b[1;32melif\u001b[0m \u001b[0mgeo_str\u001b[0m\u001b[1;33m:\u001b[0m\u001b[1;33m\u001b[0m\u001b[0m\n\u001b[0;32m    608\u001b[0m             \u001b[0mgeo_data\u001b[0m \u001b[1;33m=\u001b[0m \u001b[0mgeo_str\u001b[0m\u001b[1;33m\u001b[0m\u001b[0m\n",
      "\u001b[1;31mIOError\u001b[0m: [Errno 2] No such file or directory: 'data/us-states.json'"
     ]
    }
   ],
   "source": [
    "# Did not work\n",
    "import folium\n",
    "import pandas as pd\n",
    "\n",
    "state_geo = r'data/us-states.json'\n",
    "\n",
    "#Let Folium determine the scale\n",
    "map = folium.Map(location=[48, -102], zoom_start=3)\n",
    "map.geo_json(geo_path=state_geo, data=countby_states_data,\n",
    "             columns=['addr_state', 'loan_count'],\n",
    "             key_on='feature.id',\n",
    "             fill_color='YlGn', fill_opacity=0.7, line_opacity=0.2,\n",
    "             legend_name='Loan Count')\n",
    "map.create_map(path='us_states.html')\n"
   ]
  },
  {
   "cell_type": "code",
   "execution_count": 226,
   "metadata": {
    "collapsed": false
   },
   "outputs": [
    {
     "data": {
      "text/plain": [
       "Index([u'loan_amnt', u'installment', u'annual_inc', u'dti', u'tax_liens',\n",
       "       u'bc_util', u'bc_open_to_buy', u'total_bal_ex_mort',\n",
       "       u'acc_open_past_24mths', u'chargeoff_within_12_mths', u'delinq_2yrs',\n",
       "       u'mths_since_last_delinq', u'pct_tl_nvr_dlq', u'num_sats',\n",
       "       u'num_tl_120dpd_2m', u'num_tl_30dpd', u'num_tl_90g_dpd_24m',\n",
       "       u'num_accts_ever_120_pd', u'mths_since_recent_revol_delinq', u'id',\n",
       "       u'term', u'int_rate', u'grade', u'sub_grade', u'emp_title',\n",
       "       u'emp_length', u'home_ownership', u'verification_status', u'issue_d',\n",
       "       u'loan_status', u'title', u'addr_state', u'credit_score', u'emp_yr',\n",
       "       u'dlq_status', u'issue_d_formatted', u'Issue_YearMon'],\n",
       "      dtype='object')"
      ]
     },
     "execution_count": 226,
     "metadata": {},
     "output_type": "execute_result"
    }
   ],
   "source": [
    "loandata_sf_final_filled.columns"
   ]
  },
  {
   "cell_type": "code",
   "execution_count": 227,
   "metadata": {
    "collapsed": false
   },
   "outputs": [
    {
     "data": {
      "text/html": [
       "<div>\n",
       "<table border=\"1\" class=\"dataframe\">\n",
       "  <thead>\n",
       "    <tr style=\"text-align: right;\">\n",
       "      <th></th>\n",
       "      <th>loan_amnt</th>\n",
       "      <th>installment</th>\n",
       "      <th>annual_inc</th>\n",
       "      <th>dti</th>\n",
       "      <th>tax_liens</th>\n",
       "      <th>bc_util</th>\n",
       "      <th>bc_open_to_buy</th>\n",
       "      <th>total_bal_ex_mort</th>\n",
       "      <th>acc_open_past_24mths</th>\n",
       "      <th>chargeoff_within_12_mths</th>\n",
       "      <th>...</th>\n",
       "      <th>verification_status</th>\n",
       "      <th>issue_d</th>\n",
       "      <th>loan_status</th>\n",
       "      <th>title</th>\n",
       "      <th>addr_state</th>\n",
       "      <th>credit_score</th>\n",
       "      <th>emp_yr</th>\n",
       "      <th>dlq_status</th>\n",
       "      <th>issue_d_formatted</th>\n",
       "      <th>Issue_YearMon</th>\n",
       "    </tr>\n",
       "  </thead>\n",
       "  <tbody>\n",
       "    <tr>\n",
       "      <th>0</th>\n",
       "      <td>10400</td>\n",
       "      <td>321.08</td>\n",
       "      <td>58000.0</td>\n",
       "      <td>14.92</td>\n",
       "      <td>0</td>\n",
       "      <td>41.5</td>\n",
       "      <td>7599.0</td>\n",
       "      <td>15030</td>\n",
       "      <td>7</td>\n",
       "      <td>0</td>\n",
       "      <td>...</td>\n",
       "      <td>Not Verified</td>\n",
       "      <td>14-Dec</td>\n",
       "      <td>Current</td>\n",
       "      <td>Credit card refinancing</td>\n",
       "      <td>CA</td>\n",
       "      <td>820</td>\n",
       "      <td>8</td>\n",
       "      <td>0</td>\n",
       "      <td>2014-12-01</td>\n",
       "      <td>201412</td>\n",
       "    </tr>\n",
       "    <tr>\n",
       "      <th>1</th>\n",
       "      <td>15000</td>\n",
       "      <td>463.09</td>\n",
       "      <td>80000.0</td>\n",
       "      <td>14.39</td>\n",
       "      <td>0</td>\n",
       "      <td>79.2</td>\n",
       "      <td>2164.0</td>\n",
       "      <td>46949</td>\n",
       "      <td>4</td>\n",
       "      <td>0</td>\n",
       "      <td>...</td>\n",
       "      <td>Not Verified</td>\n",
       "      <td>14-Dec</td>\n",
       "      <td>Current</td>\n",
       "      <td>Debt consolidation</td>\n",
       "      <td>TX</td>\n",
       "      <td>820</td>\n",
       "      <td>8</td>\n",
       "      <td>0</td>\n",
       "      <td>2014-12-01</td>\n",
       "      <td>201412</td>\n",
       "    </tr>\n",
       "    <tr>\n",
       "      <th>2</th>\n",
       "      <td>28000</td>\n",
       "      <td>864.44</td>\n",
       "      <td>130000.0</td>\n",
       "      <td>8.61</td>\n",
       "      <td>0</td>\n",
       "      <td>29.1</td>\n",
       "      <td>92775.0</td>\n",
       "      <td>119850</td>\n",
       "      <td>18</td>\n",
       "      <td>0</td>\n",
       "      <td>...</td>\n",
       "      <td>Verified</td>\n",
       "      <td>14-Dec</td>\n",
       "      <td>Fully Paid</td>\n",
       "      <td>Credit card refinancing</td>\n",
       "      <td>CA</td>\n",
       "      <td>820</td>\n",
       "      <td>8</td>\n",
       "      <td>0</td>\n",
       "      <td>2014-12-01</td>\n",
       "      <td>201412</td>\n",
       "    </tr>\n",
       "    <tr>\n",
       "      <th>3</th>\n",
       "      <td>12000</td>\n",
       "      <td>370.48</td>\n",
       "      <td>70000.0</td>\n",
       "      <td>21.33</td>\n",
       "      <td>0</td>\n",
       "      <td>56.8</td>\n",
       "      <td>16285.0</td>\n",
       "      <td>39767</td>\n",
       "      <td>2</td>\n",
       "      <td>0</td>\n",
       "      <td>...</td>\n",
       "      <td>Not Verified</td>\n",
       "      <td>14-Dec</td>\n",
       "      <td>Current</td>\n",
       "      <td>Credit card refinancing</td>\n",
       "      <td>MA</td>\n",
       "      <td>820</td>\n",
       "      <td>8</td>\n",
       "      <td>0</td>\n",
       "      <td>2014-12-01</td>\n",
       "      <td>201412</td>\n",
       "    </tr>\n",
       "    <tr>\n",
       "      <th>4</th>\n",
       "      <td>24000</td>\n",
       "      <td>740.95</td>\n",
       "      <td>120000.0</td>\n",
       "      <td>16.57</td>\n",
       "      <td>0</td>\n",
       "      <td>47.1</td>\n",
       "      <td>46575.0</td>\n",
       "      <td>70443</td>\n",
       "      <td>4</td>\n",
       "      <td>0</td>\n",
       "      <td>...</td>\n",
       "      <td>Source Verified</td>\n",
       "      <td>14-Dec</td>\n",
       "      <td>Current</td>\n",
       "      <td>Debt consolidation</td>\n",
       "      <td>OK</td>\n",
       "      <td>820</td>\n",
       "      <td>8</td>\n",
       "      <td>0</td>\n",
       "      <td>2014-12-01</td>\n",
       "      <td>201412</td>\n",
       "    </tr>\n",
       "  </tbody>\n",
       "</table>\n",
       "<p>5 rows × 37 columns</p>\n",
       "</div>"
      ],
      "text/plain": [
       "   loan_amnt  installment  annual_inc    dti  tax_liens  bc_util  \\\n",
       "0      10400       321.08     58000.0  14.92          0     41.5   \n",
       "1      15000       463.09     80000.0  14.39          0     79.2   \n",
       "2      28000       864.44    130000.0   8.61          0     29.1   \n",
       "3      12000       370.48     70000.0  21.33          0     56.8   \n",
       "4      24000       740.95    120000.0  16.57          0     47.1   \n",
       "\n",
       "   bc_open_to_buy  total_bal_ex_mort  acc_open_past_24mths  \\\n",
       "0          7599.0              15030                     7   \n",
       "1          2164.0              46949                     4   \n",
       "2         92775.0             119850                    18   \n",
       "3         16285.0              39767                     2   \n",
       "4         46575.0              70443                     4   \n",
       "\n",
       "   chargeoff_within_12_mths      ...        verification_status  issue_d  \\\n",
       "0                         0      ...               Not Verified   14-Dec   \n",
       "1                         0      ...               Not Verified   14-Dec   \n",
       "2                         0      ...                   Verified   14-Dec   \n",
       "3                         0      ...               Not Verified   14-Dec   \n",
       "4                         0      ...            Source Verified   14-Dec   \n",
       "\n",
       "   loan_status                    title  addr_state  credit_score  emp_yr  \\\n",
       "0      Current  Credit card refinancing          CA           820       8   \n",
       "1      Current       Debt consolidation          TX           820       8   \n",
       "2   Fully Paid  Credit card refinancing          CA           820       8   \n",
       "3      Current  Credit card refinancing          MA           820       8   \n",
       "4      Current       Debt consolidation          OK           820       8   \n",
       "\n",
       "   dlq_status  issue_d_formatted  Issue_YearMon  \n",
       "0           0         2014-12-01         201412  \n",
       "1           0         2014-12-01         201412  \n",
       "2           0         2014-12-01         201412  \n",
       "3           0         2014-12-01         201412  \n",
       "4           0         2014-12-01         201412  \n",
       "\n",
       "[5 rows x 37 columns]"
      ]
     },
     "execution_count": 227,
     "metadata": {},
     "output_type": "execute_result"
    }
   ],
   "source": [
    "loandata_sf_final_filled.head()"
   ]
  },
  {
   "cell_type": "markdown",
   "metadata": {},
   "source": [
    "# Linear Regression to Predict Interest Rate"
   ]
  },
  {
   "cell_type": "code",
   "execution_count": 300,
   "metadata": {
    "collapsed": true
   },
   "outputs": [],
   "source": [
    "#data handling/modeling\n",
    "import pandas as pd\n",
    "import numpy as np\n",
    "from sklearn.linear_model import LinearRegression, LogisticRegression\n",
    "from sklearn.cross_validation import train_test_split\n",
    "from sklearn import metrics\n",
    "import scipy.stats as stats\n",
    "\n",
    "# visualization\n",
    "%matplotlib inline\n",
    "import seaborn as sns\n",
    "import matplotlib.pyplot as plt"
   ]
  },
  {
   "cell_type": "code",
   "execution_count": 252,
   "metadata": {
    "collapsed": false
   },
   "outputs": [
    {
     "data": {
      "text/plain": [
       "<seaborn.axisgrid.PairGrid at 0x29b315f8>"
      ]
     },
     "execution_count": 252,
     "metadata": {},
     "output_type": "execute_result"
    },
    {
     "data": {
      "image/png": "[encoded data removed]",
      "text/plain": [
       "<matplotlib.figure.Figure at 0x29b31630>"
      ]
     },
     "metadata": {},
     "output_type": "display_data"
    }
   ],
   "source": [
    "sns.pairplot(loandata_sf_final_filled, x_vars=['credit_score','dti','num_tl_90g_dpd_24m'], y_vars='int_rate', size=6, aspect=0.8, kind='reg')"
   ]
  },
  {
   "cell_type": "code",
   "execution_count": 297,
   "metadata": {
    "collapsed": false
   },
   "outputs": [
    {
     "name": "stdout",
     "output_type": "stream",
     "text": [
      "The y intercept: 0.43582954638\n",
      "The single coefficient: [-0.0004]\n"
     ]
    }
   ],
   "source": [
    "# create X and y\n",
    "feature_cols = ['credit_score']\n",
    "X = loandata_sf_final_filled[feature_cols]\n",
    "y = loandata_sf_final_filled.int_rate\n",
    "\n",
    "# instantiate and fit\n",
    "int_rate_linreg = LinearRegression()\n",
    "int_rate_linreg.fit(X, y)\n",
    "\n",
    "# print the coefficients\n",
    "print \"The y intercept:\", int_rate_linreg.intercept_\n",
    "print \"The single coefficient:\", int_rate_linreg.coef_"
   ]
  },
  {
   "cell_type": "code",
   "execution_count": 283,
   "metadata": {
    "collapsed": false
   },
   "outputs": [
    {
     "data": {
      "text/plain": [
       "loan_amnt                                  int64\n",
       "installment                              float64\n",
       "annual_inc                               float64\n",
       "dti                                      float64\n",
       "tax_liens                                  int64\n",
       "bc_util                                  float64\n",
       "bc_open_to_buy                           float64\n",
       "total_bal_ex_mort                          int64\n",
       "acc_open_past_24mths                       int64\n",
       "chargeoff_within_12_mths                   int64\n",
       "delinq_2yrs                                int64\n",
       "mths_since_last_delinq                   float64\n",
       "pct_tl_nvr_dlq                           float64\n",
       "num_sats                                   int64\n",
       "num_tl_120dpd_2m                         float64\n",
       "num_tl_30dpd                               int64\n",
       "num_tl_90g_dpd_24m                         int64\n",
       "num_accts_ever_120_pd                      int64\n",
       "mths_since_recent_revol_delinq           float64\n",
       "id                                         int64\n",
       "term                                       int64\n",
       "int_rate                                 float64\n",
       "grade                                     object\n",
       "sub_grade                                 object\n",
       "emp_title                                 object\n",
       "emp_length                                object\n",
       "home_ownership                            object\n",
       "verification_status                       object\n",
       "issue_d                                   object\n",
       "loan_status                               object\n",
       "title                                     object\n",
       "addr_state                                object\n",
       "credit_score                               int64\n",
       "emp_yr                                     int64\n",
       "dlq_status                                 int64\n",
       "issue_d_formatted                 datetime64[ns]\n",
       "Issue_YearMon                              int64\n",
       "dtype: object"
      ]
     },
     "execution_count": 283,
     "metadata": {},
     "output_type": "execute_result"
    }
   ],
   "source": [
    "loandata_sf_final_filled.dtypes"
   ]
  },
  {
   "cell_type": "markdown",
   "metadata": {},
   "source": [
    "# Logistic Regression to Predict Deliquency Status"
   ]
  },
  {
   "cell_type": "code",
   "execution_count": 298,
   "metadata": {
    "collapsed": false
   },
   "outputs": [
    {
     "data": {
      "text/plain": [
       "<seaborn.axisgrid.PairGrid at 0x49216400>"
      ]
     },
     "execution_count": 298,
     "metadata": {},
     "output_type": "execute_result"
    },
    {
     "data": {
      "image/png": "[encoded data removed]",
      "text/plain": [
       "<matplotlib.figure.Figure at 0x29b319b0>"
      ]
     },
     "metadata": {},
     "output_type": "display_data"
    }
   ],
   "source": [
    "sns.pairplot(loandata_sf_final_filled, x_vars=['credit_score'],y_vars='dlq_status', size=6, aspect=0.8)"
   ]
  },
  {
   "cell_type": "code",
   "execution_count": 301,
   "metadata": {
    "collapsed": false
   },
   "outputs": [],
   "source": [
    "\n",
    "feature_cols = ['credit_score']\n",
    "X = loandata_sf_final_filled[feature_cols]\n",
    "y = loandata_sf_final_filled.dlq_status\n",
    "\n",
    "# instantiate and fit\n",
    "logreg = LogisticRegression(C=1e9)\n",
    "logreg.fit(X, y)\n",
    "outcome_pred_class_log = logreg.predict(X)\n"
   ]
  },
  {
   "cell_type": "code",
   "execution_count": 302,
   "metadata": {
    "collapsed": false
   },
   "outputs": [
    {
     "data": {
      "text/plain": [
       "array([0, 0, 0, ..., 0, 0, 0], dtype=int64)"
      ]
     },
     "execution_count": 302,
     "metadata": {},
     "output_type": "execute_result"
    }
   ],
   "source": [
    "# print the class predictions\n",
    "outcome_pred_class_log"
   ]
  },
  {
   "cell_type": "code",
   "execution_count": 304,
   "metadata": {
    "collapsed": false
   },
   "outputs": [
    {
     "data": {
      "text/plain": [
       "[<matplotlib.lines.Line2D at 0x6143bd30>]"
      ]
     },
     "execution_count": 304,
     "metadata": {},
     "output_type": "execute_result"
    },
    {
     "data": {
      "image/png": "[encoded data removed]",
      "text/plain": [
       "<matplotlib.figure.Figure at 0x613e24a8>"
      ]
     },
     "metadata": {},
     "output_type": "display_data"
    }
   ],
   "source": [
    "# plot the class predictions\n",
    "plt.scatter(loandata_sf_final_filled.credit_score, loandata_sf_final_filled.dlq_status)\n",
    "plt.plot(loandata_sf_final_filled.credit_score, outcome_pred_class_log, color='red')"
   ]
  },
  {
   "cell_type": "code",
   "execution_count": 308,
   "metadata": {
    "collapsed": false
   },
   "outputs": [
    {
     "data": {
      "text/plain": [
       "0         0\n",
       "1         0\n",
       "2         0\n",
       "3         0\n",
       "4         0\n",
       "5         0\n",
       "6         0\n",
       "7         0\n",
       "8         0\n",
       "9         0\n",
       "10        0\n",
       "11        0\n",
       "12        0\n",
       "13        0\n",
       "14        0\n",
       "15        0\n",
       "16        0\n",
       "17        0\n",
       "18        0\n",
       "19        0\n",
       "20        0\n",
       "21        0\n",
       "22        0\n",
       "23        0\n",
       "24        0\n",
       "25        0\n",
       "26        0\n",
       "27        0\n",
       "28        0\n",
       "29        0\n",
       "         ..\n",
       "235599    0\n",
       "235600    0\n",
       "235601    1\n",
       "235602    0\n",
       "235603    1\n",
       "235604    0\n",
       "235605    1\n",
       "235606    0\n",
       "235607    0\n",
       "235608    0\n",
       "235609    0\n",
       "235610    1\n",
       "235611    0\n",
       "235612    0\n",
       "235613    1\n",
       "235614    0\n",
       "235615    0\n",
       "235616    1\n",
       "235617    1\n",
       "235618    1\n",
       "235619    0\n",
       "235620    1\n",
       "235621    1\n",
       "235622    1\n",
       "235623    1\n",
       "235624    0\n",
       "235625    0\n",
       "235626    0\n",
       "235627    0\n",
       "235628    0\n",
       "Name: dlq_status, dtype: int64"
      ]
     },
     "execution_count": 308,
     "metadata": {},
     "output_type": "execute_result"
    }
   ],
   "source": [
    "loandata_sf_final_filled.dlq_status"
   ]
  },
  {
   "cell_type": "code",
   "execution_count": 309,
   "metadata": {
    "collapsed": false
   },
   "outputs": [
    {
     "name": "stdout",
     "output_type": "stream",
     "text": [
      "-0.992505456178\n",
      "-0.181323963146\n"
     ]
    }
   ],
   "source": [
    "print loandata_sf_final_filled.credit_score.corr(loandata_sf_final_filled.int_rate, method=\"spearman\")\n",
    "\n",
    "print loandata_sf_final_filled.credit_score.corr(loandata_sf_final_filled.dlq_status, method=\"spearman\")"
   ]
  },
  {
   "cell_type": "code",
   "execution_count": null,
   "metadata": {
    "collapsed": true
   },
   "outputs": [],
   "source": []
  }
 ],
 "metadata": {
  "kernelspec": {
   "display_name": "Python 2",
   "language": "python",
   "name": "python2"
  },
  "language_info": {
   "codemirror_mode": {
    "name": "ipython",
    "version": 2
   },
   "file_extension": ".py",
   "mimetype": "text/x-python",
   "name": "python",
   "nbconvert_exporter": "python",
   "pygments_lexer": "ipython2",
   "version": "2.7.11"
  }
 },
 "nbformat": 4,
 "nbformat_minor": 0
}
