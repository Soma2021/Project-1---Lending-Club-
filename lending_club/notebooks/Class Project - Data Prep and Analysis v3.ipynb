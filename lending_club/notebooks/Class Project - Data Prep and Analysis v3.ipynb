{
 "cells": [
  {
   "cell_type": "markdown",
   "metadata": {},
   "source": [
    "# Course Project - Predicting Default Risk of Lending Club Loans"
   ]
  },
  {
   "cell_type": "markdown",
   "metadata": {},
   "source": [
    "Goal: To maximize return on investments for Lending Club as well it's investors by predicting the probability of loan defaults.\n",
    "\n",
    "Methodology: We will train several learning models to find the best prediction, and to compare their performance. Given an imbalanced dataset, such as the Lending Club dataset where the rate of positive examples is about 85%, accuracy does not indicate the true performance of the model. Thus we will look at sensitivity and specificity. \n",
    "\n",
    "Steps: \n",
    "1. Get the data from Lending Club\n",
    "2. Get Macro-Economic Data (Unemployment Rate) from U.S. Bureau of Labor Statistics\n",
    "3. Explore the features of the data and do feature engineering to make the data usable for final modeling\n",
    "4. Understand the correlationship\n",
    "5. Build different models and compare the performance"
   ]
  },
  {
   "cell_type": "code",
   "execution_count": null,
   "metadata": {
    "collapsed": true
   },
   "outputs": [],
   "source": [
    "import pandas as pd\n",
    "import numpy as np\n",
    "import scipy.stats as stats\n",
    "from sklearn.linear_model import LinearRegression, LogisticRegression\n",
    "from sklearn.cross_validation import train_test_split\n",
    "from sklearn import metrics\n",
    "\n",
    "# visualization\n",
    "%matplotlib inline\n",
    "import seaborn as sns\n",
    "import matplotlib.pyplot as plt\n",
    "\n",
    "pd.options.display.mpl_style = 'default'\n",
    "np.set_printoptions(precision=4,suppress=True)\n"
   ]
  },
  {
   "cell_type": "code",
   "execution_count": 29,
   "metadata": {
    "collapsed": false
   },
   "outputs": [],
   "source": [
    "# Read loan details files downloaded from Lending Club to the local harddrive\n",
    "loandata2007_2011 = pd.read_csv(\"..//data//LoanStats3a_2007_2011.csv\")\n",
    "loandata2012_2013 = pd.read_csv(\"..//data//LoanStats3b_2012_2013.csv\")\n",
    "loandata2014 = pd.read_csv(\"..//data//LoanStats3c_2014.csv\")\n",
    "\n",
    "# Combine loandata files into a single DataFrame\n",
    "loandata = pd.concat([loandata2007_2011, loandata2012_2013], ignore_index=True)"
   ]
  },
  {
   "cell_type": "code",
   "execution_count": 119,
   "metadata": {
    "collapsed": true
   },
   "outputs": [],
   "source": [
    "# Read other related data from local harddrive: e.g Statewise yearly unemployment Rate. Apart from the loan data, we will use \n",
    "# macro-econonic data for better predictions.\n",
    "\n",
    "unemployment_rate = pd.read_csv(\"..//data//unemployment_rate_2010_15.csv\")\n",
    "credit_score_mapping_data = pd.read_csv(\"..//data//credit_score_mapping.csv\")\n",
    "emp_yr_mapping_data = pd.read_csv(\"..//data//emp_yr_mapping.csv\")"
   ]
  },
  {
   "cell_type": "code",
   "execution_count": 56,
   "metadata": {
    "collapsed": false
   },
   "outputs": [
    {
     "data": {
      "text/html": [
       "<div>\n",
       "<table border=\"1\" class=\"dataframe\">\n",
       "  <thead>\n",
       "    <tr style=\"text-align: right;\">\n",
       "      <th></th>\n",
       "      <th>state_name</th>\n",
       "      <th>state_cd</th>\n",
       "      <th>2010</th>\n",
       "      <th>2011</th>\n",
       "      <th>2012</th>\n",
       "      <th>2013</th>\n",
       "      <th>2014</th>\n",
       "      <th>2015</th>\n",
       "    </tr>\n",
       "  </thead>\n",
       "  <tbody>\n",
       "    <tr>\n",
       "      <th>0</th>\n",
       "      <td>Alabama</td>\n",
       "      <td>AL</td>\n",
       "      <td>10.5</td>\n",
       "      <td>9.6</td>\n",
       "      <td>8.0</td>\n",
       "      <td>7.2</td>\n",
       "      <td>6.8</td>\n",
       "      <td>6.1</td>\n",
       "    </tr>\n",
       "    <tr>\n",
       "      <th>1</th>\n",
       "      <td>Alaska</td>\n",
       "      <td>AK</td>\n",
       "      <td>7.9</td>\n",
       "      <td>7.6</td>\n",
       "      <td>7.1</td>\n",
       "      <td>6.9</td>\n",
       "      <td>6.9</td>\n",
       "      <td>6.5</td>\n",
       "    </tr>\n",
       "    <tr>\n",
       "      <th>2</th>\n",
       "      <td>Arizona</td>\n",
       "      <td>AZ</td>\n",
       "      <td>10.4</td>\n",
       "      <td>9.5</td>\n",
       "      <td>8.3</td>\n",
       "      <td>7.7</td>\n",
       "      <td>6.8</td>\n",
       "      <td>6.1</td>\n",
       "    </tr>\n",
       "    <tr>\n",
       "      <th>3</th>\n",
       "      <td>Arkansas</td>\n",
       "      <td>AR</td>\n",
       "      <td>8.2</td>\n",
       "      <td>8.3</td>\n",
       "      <td>7.6</td>\n",
       "      <td>7.3</td>\n",
       "      <td>6.1</td>\n",
       "      <td>5.2</td>\n",
       "    </tr>\n",
       "    <tr>\n",
       "      <th>4</th>\n",
       "      <td>California</td>\n",
       "      <td>CA</td>\n",
       "      <td>12.2</td>\n",
       "      <td>11.7</td>\n",
       "      <td>10.4</td>\n",
       "      <td>8.9</td>\n",
       "      <td>7.5</td>\n",
       "      <td>6.2</td>\n",
       "    </tr>\n",
       "  </tbody>\n",
       "</table>\n",
       "</div>"
      ],
      "text/plain": [
       "   state_name state_cd  2010  2011  2012  2013  2014  2015\n",
       "0     Alabama       AL  10.5   9.6   8.0   7.2   6.8   6.1\n",
       "1      Alaska       AK   7.9   7.6   7.1   6.9   6.9   6.5\n",
       "2     Arizona       AZ  10.4   9.5   8.3   7.7   6.8   6.1\n",
       "3    Arkansas       AR   8.2   8.3   7.6   7.3   6.1   5.2\n",
       "4  California       CA  12.2  11.7  10.4   8.9   7.5   6.2"
      ]
     },
     "execution_count": 56,
     "metadata": {},
     "output_type": "execute_result"
    }
   ],
   "source": [
    "unemployment_rate.head()"
   ]
  },
  {
   "cell_type": "code",
   "execution_count": 60,
   "metadata": {
    "collapsed": false
   },
   "outputs": [],
   "source": [
    "unemployment_rate.drop(\"state_name\", axis=1, inplace=True)"
   ]
  },
  {
   "cell_type": "code",
   "execution_count": 80,
   "metadata": {
    "collapsed": false
   },
   "outputs": [
    {
     "name": "stderr",
     "output_type": "stream",
     "text": [
      "C:\\Anaconda2\\lib\\site-packages\\ipykernel\\__main__.py:3: SettingWithCopyWarning: \n",
      "A value is trying to be set on a copy of a slice from a DataFrame.\n",
      "Try using .loc[row_indexer,col_indexer] = value instead\n",
      "\n",
      "See the caveats in the documentation: http://pandas.pydata.org/pandas-docs/stable/indexing.html#indexing-view-versus-copy\n",
      "  app.launch_new_instance()\n"
     ]
    }
   ],
   "source": [
    "# Creating Vertical / stacked dataset from flat table like above.\n",
    "\n",
    "features = ['state_cd','2010']\n",
    "unemployment_rate_2010 = unemployment_rate[features]\n",
    "unemployment_rate_2010[\"unempl_rate_year\"] = 2010\n",
    "unemployment_rate_2010.columns = ['state_cd', 'unemployment_rate','unempl_rate_year']\n",
    "\n",
    "features = ['state_cd','2011']\n",
    "unemployment_rate_2011 = unemployment_rate[features]\n",
    "unemployment_rate_2011[\"unempl_rate_year\"] = 2011\n",
    "unemployment_rate_2011.columns = ['state_cd', 'unemployment_rate','unempl_rate_year']\n",
    "\n",
    "features = ['state_cd','2012']\n",
    "unemployment_rate_2012 = unemployment_rate[features]\n",
    "unemployment_rate_2012[\"unempl_rate_year\"] = 2012\n",
    "unemployment_rate_2012.columns = ['state_cd', 'unemployment_rate','unempl_rate_year']\n",
    "\n",
    "features = ['state_cd','2013']\n",
    "unemployment_rate_2013 = unemployment_rate[features]\n",
    "unemployment_rate_2013[\"unempl_rate_year\"] = 2013\n",
    "unemployment_rate_2013.columns = ['state_cd', 'unemployment_rate','unempl_rate_year']\n",
    "\n",
    "features = ['state_cd','2014']\n",
    "unemployment_rate_2014 = unemployment_rate[features]\n",
    "unemployment_rate_2014[\"unempl_rate_year\"] = 2014\n",
    "unemployment_rate_2014.columns = ['state_cd', 'unemployment_rate','unempl_rate_year']\n",
    "\n",
    "features = ['state_cd','2015']\n",
    "unemployment_rate_2015 = unemployment_rate[features]\n",
    "unemployment_rate_2015[\"unempl_rate_year\"] = 2015\n",
    "unemployment_rate_2015.columns = ['state_cd', 'unemployment_rate','unempl_rate_year']"
   ]
  },
  {
   "cell_type": "code",
   "execution_count": 265,
   "metadata": {
    "collapsed": false
   },
   "outputs": [
    {
     "name": "stderr",
     "output_type": "stream",
     "text": [
      "C:\\Anaconda2\\lib\\site-packages\\ipykernel\\__main__.py:3: SettingWithCopyWarning: \n",
      "A value is trying to be set on a copy of a slice from a DataFrame.\n",
      "Try using .loc[row_indexer,col_indexer] = value instead\n",
      "\n",
      "See the caveats in the documentation: http://pandas.pydata.org/pandas-docs/stable/indexing.html#indexing-view-versus-copy\n",
      "  app.launch_new_instance()\n"
     ]
    }
   ],
   "source": [
    "features = ['state_cd','2016']\n",
    "unemployment_rate_2016 = unemployment_rate[features]\n",
    "unemployment_rate_2016[\"unempl_rate_year\"] = 2016\n",
    "unemployment_rate_2016.columns = ['state_cd', 'unemployment_rate','unempl_rate_year']"
   ]
  },
  {
   "cell_type": "code",
   "execution_count": 267,
   "metadata": {
    "collapsed": false
   },
   "outputs": [],
   "source": [
    "# Combine unemployment data files into a single DataFrame\n",
    "\n",
    "unemployment_rate_2010_2015 = pd.concat([unemployment_rate_2010, unemployment_rate_2011, unemployment_rate_2012, \n",
    "                                         unemployment_rate_2013, unemployment_rate_2014, unemployment_rate_2015,\n",
    "                                         unemployment_rate_2016], ignore_index=True)"
   ]
  },
  {
   "cell_type": "code",
   "execution_count": 268,
   "metadata": {
    "collapsed": false
   },
   "outputs": [
    {
     "data": {
      "text/html": [
       "<div>\n",
       "<table border=\"1\" class=\"dataframe\">\n",
       "  <thead>\n",
       "    <tr style=\"text-align: right;\">\n",
       "      <th></th>\n",
       "      <th>state_cd</th>\n",
       "      <th>unemployment_rate</th>\n",
       "      <th>unempl_rate_year</th>\n",
       "    </tr>\n",
       "  </thead>\n",
       "  <tbody>\n",
       "    <tr>\n",
       "      <th>352</th>\n",
       "      <td>VA</td>\n",
       "      <td>3.9</td>\n",
       "      <td>2016</td>\n",
       "    </tr>\n",
       "    <tr>\n",
       "      <th>353</th>\n",
       "      <td>WA</td>\n",
       "      <td>5.8</td>\n",
       "      <td>2016</td>\n",
       "    </tr>\n",
       "    <tr>\n",
       "      <th>354</th>\n",
       "      <td>WV</td>\n",
       "      <td>6.4</td>\n",
       "      <td>2016</td>\n",
       "    </tr>\n",
       "    <tr>\n",
       "      <th>355</th>\n",
       "      <td>WI</td>\n",
       "      <td>4.4</td>\n",
       "      <td>2016</td>\n",
       "    </tr>\n",
       "    <tr>\n",
       "      <th>356</th>\n",
       "      <td>WY</td>\n",
       "      <td>5.5</td>\n",
       "      <td>2016</td>\n",
       "    </tr>\n",
       "  </tbody>\n",
       "</table>\n",
       "</div>"
      ],
      "text/plain": [
       "    state_cd  unemployment_rate  unempl_rate_year\n",
       "352       VA                3.9              2016\n",
       "353       WA                5.8              2016\n",
       "354       WV                6.4              2016\n",
       "355       WI                4.4              2016\n",
       "356       WY                5.5              2016"
      ]
     },
     "execution_count": 268,
     "metadata": {},
     "output_type": "execute_result"
    }
   ],
   "source": [
    "unemployment_rate_2010_2015.tail()"
   ]
  },
  {
   "cell_type": "code",
   "execution_count": 32,
   "metadata": {
    "collapsed": false
   },
   "outputs": [
    {
     "data": {
      "text/plain": [
       "(230669, 111)"
      ]
     },
     "execution_count": 32,
     "metadata": {},
     "output_type": "execute_result"
    }
   ],
   "source": [
    "#Starting Shape of Dataframe\n",
    "loandata.shape"
   ]
  },
  {
   "cell_type": "code",
   "execution_count": 33,
   "metadata": {
    "collapsed": false
   },
   "outputs": [],
   "source": [
    "# Exploring Loan level data\n",
    "\n",
    "feature_list_all = loandata.columns"
   ]
  },
  {
   "cell_type": "code",
   "execution_count": 34,
   "metadata": {
    "collapsed": false
   },
   "outputs": [
    {
     "data": {
      "text/plain": [
       "Index([u'id', u'member_id', u'loan_amnt', u'funded_amnt', u'funded_amnt_inv',\n",
       "       u'term', u'int_rate', u'installment', u'grade', u'sub_grade',\n",
       "       ...\n",
       "       u'num_tl_90g_dpd_24m', u'num_tl_op_past_12m', u'pct_tl_nvr_dlq',\n",
       "       u'percent_bc_gt_75', u'pub_rec_bankruptcies', u'tax_liens',\n",
       "       u'tot_hi_cred_lim', u'total_bal_ex_mort', u'total_bc_limit',\n",
       "       u'total_il_high_credit_limit'],\n",
       "      dtype='object', length=111)"
      ]
     },
     "execution_count": 34,
     "metadata": {},
     "output_type": "execute_result"
    }
   ],
   "source": [
    "feature_list_all"
   ]
  },
  {
   "cell_type": "markdown",
   "metadata": {},
   "source": [
    "# Feature Selection using business knowledge: 32 out of 111 features are selected using domain knowledge"
   ]
  },
  {
   "cell_type": "code",
   "execution_count": 97,
   "metadata": {
    "collapsed": false
   },
   "outputs": [],
   "source": [
    "feature_list_selected = ['id', 'loan_amnt', 'term', 'int_rate', 'installment', 'grade', 'sub_grade',\n",
    "                         'emp_length', 'home_ownership', 'annual_inc', \n",
    "                         'issue_d', 'loan_status', 'title', 'addr_state', 'dti', 'bc_util',\n",
    "                         'bc_open_to_buy', 'total_bal_ex_mort', 'acc_open_past_24mths', 'chargeoff_within_12_mths',\n",
    "                         'delinq_2yrs', 'mths_since_last_delinq', 'pct_tl_nvr_dlq', 'num_sats', 'num_tl_120dpd_2m',\n",
    "                         'num_tl_30dpd', 'num_tl_90g_dpd_24m', 'num_accts_ever_120_pd', 'mths_since_recent_revol_delinq']"
   ]
  },
  {
   "cell_type": "code",
   "execution_count": 98,
   "metadata": {
    "collapsed": false
   },
   "outputs": [],
   "source": [
    "loandata_sf = loandata[feature_list_selected]"
   ]
  },
  {
   "cell_type": "code",
   "execution_count": 99,
   "metadata": {
    "collapsed": false
   },
   "outputs": [
    {
     "data": {
      "text/html": [
       "<div>\n",
       "<table border=\"1\" class=\"dataframe\">\n",
       "  <thead>\n",
       "    <tr style=\"text-align: right;\">\n",
       "      <th></th>\n",
       "      <th>id</th>\n",
       "      <th>loan_amnt</th>\n",
       "      <th>term</th>\n",
       "      <th>int_rate</th>\n",
       "      <th>installment</th>\n",
       "      <th>grade</th>\n",
       "      <th>sub_grade</th>\n",
       "      <th>emp_length</th>\n",
       "      <th>home_ownership</th>\n",
       "      <th>annual_inc</th>\n",
       "      <th>...</th>\n",
       "      <th>chargeoff_within_12_mths</th>\n",
       "      <th>delinq_2yrs</th>\n",
       "      <th>mths_since_last_delinq</th>\n",
       "      <th>pct_tl_nvr_dlq</th>\n",
       "      <th>num_sats</th>\n",
       "      <th>num_tl_120dpd_2m</th>\n",
       "      <th>num_tl_30dpd</th>\n",
       "      <th>num_tl_90g_dpd_24m</th>\n",
       "      <th>num_accts_ever_120_pd</th>\n",
       "      <th>mths_since_recent_revol_delinq</th>\n",
       "    </tr>\n",
       "  </thead>\n",
       "  <tbody>\n",
       "    <tr>\n",
       "      <th>0</th>\n",
       "      <td>1077501</td>\n",
       "      <td>5000.0</td>\n",
       "      <td>36 months</td>\n",
       "      <td>10.65%</td>\n",
       "      <td>162.87</td>\n",
       "      <td>B</td>\n",
       "      <td>B2</td>\n",
       "      <td>10+ years</td>\n",
       "      <td>RENT</td>\n",
       "      <td>24000.0</td>\n",
       "      <td>...</td>\n",
       "      <td>0.0</td>\n",
       "      <td>0.0</td>\n",
       "      <td>NaN</td>\n",
       "      <td>NaN</td>\n",
       "      <td>NaN</td>\n",
       "      <td>NaN</td>\n",
       "      <td>NaN</td>\n",
       "      <td>NaN</td>\n",
       "      <td>NaN</td>\n",
       "      <td>NaN</td>\n",
       "    </tr>\n",
       "    <tr>\n",
       "      <th>1</th>\n",
       "      <td>1077430</td>\n",
       "      <td>2500.0</td>\n",
       "      <td>60 months</td>\n",
       "      <td>15.27%</td>\n",
       "      <td>59.83</td>\n",
       "      <td>C</td>\n",
       "      <td>C4</td>\n",
       "      <td>&lt; 1 year</td>\n",
       "      <td>RENT</td>\n",
       "      <td>30000.0</td>\n",
       "      <td>...</td>\n",
       "      <td>0.0</td>\n",
       "      <td>0.0</td>\n",
       "      <td>NaN</td>\n",
       "      <td>NaN</td>\n",
       "      <td>NaN</td>\n",
       "      <td>NaN</td>\n",
       "      <td>NaN</td>\n",
       "      <td>NaN</td>\n",
       "      <td>NaN</td>\n",
       "      <td>NaN</td>\n",
       "    </tr>\n",
       "    <tr>\n",
       "      <th>2</th>\n",
       "      <td>1077175</td>\n",
       "      <td>2400.0</td>\n",
       "      <td>36 months</td>\n",
       "      <td>15.96%</td>\n",
       "      <td>84.33</td>\n",
       "      <td>C</td>\n",
       "      <td>C5</td>\n",
       "      <td>10+ years</td>\n",
       "      <td>RENT</td>\n",
       "      <td>12252.0</td>\n",
       "      <td>...</td>\n",
       "      <td>0.0</td>\n",
       "      <td>0.0</td>\n",
       "      <td>NaN</td>\n",
       "      <td>NaN</td>\n",
       "      <td>NaN</td>\n",
       "      <td>NaN</td>\n",
       "      <td>NaN</td>\n",
       "      <td>NaN</td>\n",
       "      <td>NaN</td>\n",
       "      <td>NaN</td>\n",
       "    </tr>\n",
       "    <tr>\n",
       "      <th>3</th>\n",
       "      <td>1076863</td>\n",
       "      <td>10000.0</td>\n",
       "      <td>36 months</td>\n",
       "      <td>13.49%</td>\n",
       "      <td>339.31</td>\n",
       "      <td>C</td>\n",
       "      <td>C1</td>\n",
       "      <td>10+ years</td>\n",
       "      <td>RENT</td>\n",
       "      <td>49200.0</td>\n",
       "      <td>...</td>\n",
       "      <td>0.0</td>\n",
       "      <td>0.0</td>\n",
       "      <td>35.0</td>\n",
       "      <td>NaN</td>\n",
       "      <td>NaN</td>\n",
       "      <td>NaN</td>\n",
       "      <td>NaN</td>\n",
       "      <td>NaN</td>\n",
       "      <td>NaN</td>\n",
       "      <td>NaN</td>\n",
       "    </tr>\n",
       "    <tr>\n",
       "      <th>4</th>\n",
       "      <td>1075358</td>\n",
       "      <td>3000.0</td>\n",
       "      <td>60 months</td>\n",
       "      <td>12.69%</td>\n",
       "      <td>67.79</td>\n",
       "      <td>B</td>\n",
       "      <td>B5</td>\n",
       "      <td>1 year</td>\n",
       "      <td>RENT</td>\n",
       "      <td>80000.0</td>\n",
       "      <td>...</td>\n",
       "      <td>0.0</td>\n",
       "      <td>0.0</td>\n",
       "      <td>38.0</td>\n",
       "      <td>NaN</td>\n",
       "      <td>NaN</td>\n",
       "      <td>NaN</td>\n",
       "      <td>NaN</td>\n",
       "      <td>NaN</td>\n",
       "      <td>NaN</td>\n",
       "      <td>NaN</td>\n",
       "    </tr>\n",
       "  </tbody>\n",
       "</table>\n",
       "<p>5 rows × 29 columns</p>\n",
       "</div>"
      ],
      "text/plain": [
       "        id  loan_amnt        term int_rate  installment grade sub_grade  \\\n",
       "0  1077501     5000.0   36 months   10.65%       162.87     B        B2   \n",
       "1  1077430     2500.0   60 months   15.27%        59.83     C        C4   \n",
       "2  1077175     2400.0   36 months   15.96%        84.33     C        C5   \n",
       "3  1076863    10000.0   36 months   13.49%       339.31     C        C1   \n",
       "4  1075358     3000.0   60 months   12.69%        67.79     B        B5   \n",
       "\n",
       "  emp_length home_ownership  annual_inc               ...                \\\n",
       "0  10+ years           RENT     24000.0               ...                 \n",
       "1   < 1 year           RENT     30000.0               ...                 \n",
       "2  10+ years           RENT     12252.0               ...                 \n",
       "3  10+ years           RENT     49200.0               ...                 \n",
       "4     1 year           RENT     80000.0               ...                 \n",
       "\n",
       "  chargeoff_within_12_mths delinq_2yrs mths_since_last_delinq pct_tl_nvr_dlq  \\\n",
       "0                      0.0         0.0                    NaN            NaN   \n",
       "1                      0.0         0.0                    NaN            NaN   \n",
       "2                      0.0         0.0                    NaN            NaN   \n",
       "3                      0.0         0.0                   35.0            NaN   \n",
       "4                      0.0         0.0                   38.0            NaN   \n",
       "\n",
       "   num_sats  num_tl_120dpd_2m  num_tl_30dpd  num_tl_90g_dpd_24m  \\\n",
       "0       NaN               NaN           NaN                 NaN   \n",
       "1       NaN               NaN           NaN                 NaN   \n",
       "2       NaN               NaN           NaN                 NaN   \n",
       "3       NaN               NaN           NaN                 NaN   \n",
       "4       NaN               NaN           NaN                 NaN   \n",
       "\n",
       "   num_accts_ever_120_pd  mths_since_recent_revol_delinq  \n",
       "0                    NaN                             NaN  \n",
       "1                    NaN                             NaN  \n",
       "2                    NaN                             NaN  \n",
       "3                    NaN                             NaN  \n",
       "4                    NaN                             NaN  \n",
       "\n",
       "[5 rows x 29 columns]"
      ]
     },
     "execution_count": 99,
     "metadata": {},
     "output_type": "execute_result"
    }
   ],
   "source": [
    "loandata_sf.head()"
   ]
  },
  {
   "cell_type": "code",
   "execution_count": 91,
   "metadata": {
    "collapsed": false
   },
   "outputs": [
    {
     "data": {
      "text/plain": [
       "(230669, 29)"
      ]
     },
     "execution_count": 91,
     "metadata": {},
     "output_type": "execute_result"
    }
   ],
   "source": [
    "loandata_sf.shape"
   ]
  },
  {
   "cell_type": "code",
   "execution_count": 100,
   "metadata": {
    "collapsed": false
   },
   "outputs": [
    {
     "name": "stdout",
     "output_type": "stream",
     "text": [
      "id                                 object\n",
      "loan_amnt                         float64\n",
      "term                               object\n",
      "int_rate                           object\n",
      "installment                       float64\n",
      "grade                              object\n",
      "sub_grade                          object\n",
      "emp_length                         object\n",
      "home_ownership                     object\n",
      "annual_inc                        float64\n",
      "issue_d                            object\n",
      "loan_status                        object\n",
      "title                              object\n",
      "addr_state                         object\n",
      "dti                               float64\n",
      "bc_util                           float64\n",
      "bc_open_to_buy                    float64\n",
      "total_bal_ex_mort                 float64\n",
      "acc_open_past_24mths              float64\n",
      "chargeoff_within_12_mths          float64\n",
      "delinq_2yrs                       float64\n",
      "mths_since_last_delinq            float64\n",
      "pct_tl_nvr_dlq                    float64\n",
      "num_sats                          float64\n",
      "num_tl_120dpd_2m                  float64\n",
      "num_tl_30dpd                      float64\n",
      "num_tl_90g_dpd_24m                float64\n",
      "num_accts_ever_120_pd             float64\n",
      "mths_since_recent_revol_delinq    float64\n",
      "dtype: object\n"
     ]
    }
   ],
   "source": [
    "print loandata_sf.dtypes "
   ]
  },
  {
   "cell_type": "code",
   "execution_count": 101,
   "metadata": {
    "collapsed": false
   },
   "outputs": [],
   "source": [
    "# Separating Numeric and Catergoric Features for further processing\n",
    "\n",
    "col_list_float = list(loandata_sf.select_dtypes(include=['float64']).columns)\n",
    "col_list_obj = list(loandata_sf.select_dtypes(include=['object']).columns)   "
   ]
  },
  {
   "cell_type": "code",
   "execution_count": 102,
   "metadata": {
    "collapsed": false
   },
   "outputs": [
    {
     "name": "stdout",
     "output_type": "stream",
     "text": [
      "Float columns:\n",
      "['loan_amnt', 'installment', 'annual_inc', 'dti', 'bc_util', 'bc_open_to_buy', 'total_bal_ex_mort', 'acc_open_past_24mths', 'chargeoff_within_12_mths', 'delinq_2yrs', 'mths_since_last_delinq', 'pct_tl_nvr_dlq', 'num_sats', 'num_tl_120dpd_2m', 'num_tl_30dpd', 'num_tl_90g_dpd_24m', 'num_accts_ever_120_pd', 'mths_since_recent_revol_delinq']\n",
      "\n",
      " Object columns:\n",
      "['id', 'term', 'int_rate', 'grade', 'sub_grade', 'emp_length', 'home_ownership', 'issue_d', 'loan_status', 'title', 'addr_state']\n"
     ]
    }
   ],
   "source": [
    "print  \"Float columns:\"\n",
    "print  col_list_float \n",
    "\n",
    "print  \"\\n Object columns:\"\n",
    "print  col_list_obj"
   ]
  },
  {
   "cell_type": "code",
   "execution_count": 105,
   "metadata": {
    "collapsed": true
   },
   "outputs": [],
   "source": [
    "rearranged_columns = col_list_float + col_list_obj "
   ]
  },
  {
   "cell_type": "code",
   "execution_count": 106,
   "metadata": {
    "collapsed": false
   },
   "outputs": [
    {
     "name": "stdout",
     "output_type": "stream",
     "text": [
      "['loan_amnt', 'installment', 'annual_inc', 'dti', 'bc_util', 'bc_open_to_buy', 'total_bal_ex_mort', 'acc_open_past_24mths', 'chargeoff_within_12_mths', 'delinq_2yrs', 'mths_since_last_delinq', 'pct_tl_nvr_dlq', 'num_sats', 'num_tl_120dpd_2m', 'num_tl_30dpd', 'num_tl_90g_dpd_24m', 'num_accts_ever_120_pd', 'mths_since_recent_revol_delinq', 'id', 'term', 'int_rate', 'grade', 'sub_grade', 'emp_length', 'home_ownership', 'issue_d', 'loan_status', 'title', 'addr_state']\n"
     ]
    }
   ],
   "source": [
    "print rearranged_columns"
   ]
  },
  {
   "cell_type": "code",
   "execution_count": 107,
   "metadata": {
    "collapsed": false
   },
   "outputs": [
    {
     "name": "stdout",
     "output_type": "stream",
     "text": [
      "loan_amnt                         float64\n",
      "installment                       float64\n",
      "annual_inc                        float64\n",
      "dti                               float64\n",
      "bc_util                           float64\n",
      "bc_open_to_buy                    float64\n",
      "total_bal_ex_mort                 float64\n",
      "acc_open_past_24mths              float64\n",
      "chargeoff_within_12_mths          float64\n",
      "delinq_2yrs                       float64\n",
      "mths_since_last_delinq            float64\n",
      "pct_tl_nvr_dlq                    float64\n",
      "num_sats                          float64\n",
      "num_tl_120dpd_2m                  float64\n",
      "num_tl_30dpd                      float64\n",
      "num_tl_90g_dpd_24m                float64\n",
      "num_accts_ever_120_pd             float64\n",
      "mths_since_recent_revol_delinq    float64\n",
      "id                                 object\n",
      "term                               object\n",
      "int_rate                           object\n",
      "grade                              object\n",
      "sub_grade                          object\n",
      "emp_length                         object\n",
      "home_ownership                     object\n",
      "issue_d                            object\n",
      "loan_status                        object\n",
      "title                              object\n",
      "addr_state                         object\n",
      "dtype: object\n"
     ]
    }
   ],
   "source": [
    "loandata_sf_rearr =loandata_sf[rearranged_columns]\n",
    "print loandata_sf_rearr.dtypes\n"
   ]
  },
  {
   "cell_type": "code",
   "execution_count": null,
   "metadata": {
    "collapsed": true
   },
   "outputs": [],
   "source": [
    "# Lets convert\n",
    "'''\n",
    "term                               object\n",
    "int_rate                           object\n",
    "grade                              object\n",
    "sub_grade                          object\n",
    "emp_length                         object\n",
    "issue_d                            object\n",
    "loan_status                        object\n",
    "title                              object\n",
    "addr_state                         object\n",
    "'''"
   ]
  },
  {
   "cell_type": "code",
   "execution_count": 109,
   "metadata": {
    "collapsed": false
   },
   "outputs": [
    {
     "name": "stdout",
     "output_type": "stream",
     "text": [
      "term\n",
      " 36    175384\n",
      " 60     55274\n",
      "dtype: int64\n"
     ]
    }
   ],
   "source": [
    "# what does 'term' feature contains?\n",
    "loandata_sf_obj = loandata_sf[col_list_obj]\n",
    "loandata_sf_obj.head() \n",
    "loandata_sf_obj.term.unique()\n",
    "\n",
    "term_grp = loandata_sf_rearr.groupby(\"term\")[\"id\"]\n",
    "print term_grp.size()\n",
    "\n",
    "# Converting term to numeric variable\n",
    "loandata_sf_rearr['term'] = loandata_sf_rearr.term.str[0:3]\n",
    "loandata_sf_rearr['term'] = loandata_sf_rearr.term.astype(float)"
   ]
  },
  {
   "cell_type": "code",
   "execution_count": 110,
   "metadata": {
    "collapsed": false,
    "scrolled": false
   },
   "outputs": [
    {
     "data": {
      "text/html": [
       "<div>\n",
       "<table border=\"1\" class=\"dataframe\">\n",
       "  <thead>\n",
       "    <tr style=\"text-align: right;\">\n",
       "      <th></th>\n",
       "      <th>loan_amnt</th>\n",
       "      <th>installment</th>\n",
       "      <th>annual_inc</th>\n",
       "      <th>dti</th>\n",
       "      <th>bc_util</th>\n",
       "      <th>bc_open_to_buy</th>\n",
       "      <th>total_bal_ex_mort</th>\n",
       "      <th>acc_open_past_24mths</th>\n",
       "      <th>chargeoff_within_12_mths</th>\n",
       "      <th>delinq_2yrs</th>\n",
       "      <th>...</th>\n",
       "      <th>term</th>\n",
       "      <th>int_rate</th>\n",
       "      <th>grade</th>\n",
       "      <th>sub_grade</th>\n",
       "      <th>emp_length</th>\n",
       "      <th>home_ownership</th>\n",
       "      <th>issue_d</th>\n",
       "      <th>loan_status</th>\n",
       "      <th>title</th>\n",
       "      <th>addr_state</th>\n",
       "    </tr>\n",
       "  </thead>\n",
       "  <tbody>\n",
       "    <tr>\n",
       "      <th>0</th>\n",
       "      <td>5000.0</td>\n",
       "      <td>162.87</td>\n",
       "      <td>24000.0</td>\n",
       "      <td>27.65</td>\n",
       "      <td>NaN</td>\n",
       "      <td>NaN</td>\n",
       "      <td>NaN</td>\n",
       "      <td>NaN</td>\n",
       "      <td>0.0</td>\n",
       "      <td>0.0</td>\n",
       "      <td>...</td>\n",
       "      <td>36</td>\n",
       "      <td>0.1065</td>\n",
       "      <td>B</td>\n",
       "      <td>B2</td>\n",
       "      <td>10+ years</td>\n",
       "      <td>RENT</td>\n",
       "      <td>Dec-11</td>\n",
       "      <td>Fully Paid</td>\n",
       "      <td>Computer</td>\n",
       "      <td>AZ</td>\n",
       "    </tr>\n",
       "    <tr>\n",
       "      <th>1</th>\n",
       "      <td>2500.0</td>\n",
       "      <td>59.83</td>\n",
       "      <td>30000.0</td>\n",
       "      <td>1.00</td>\n",
       "      <td>NaN</td>\n",
       "      <td>NaN</td>\n",
       "      <td>NaN</td>\n",
       "      <td>NaN</td>\n",
       "      <td>0.0</td>\n",
       "      <td>0.0</td>\n",
       "      <td>...</td>\n",
       "      <td>60</td>\n",
       "      <td>0.1527</td>\n",
       "      <td>C</td>\n",
       "      <td>C4</td>\n",
       "      <td>&lt; 1 year</td>\n",
       "      <td>RENT</td>\n",
       "      <td>Dec-11</td>\n",
       "      <td>Charged Off</td>\n",
       "      <td>bike</td>\n",
       "      <td>GA</td>\n",
       "    </tr>\n",
       "    <tr>\n",
       "      <th>2</th>\n",
       "      <td>2400.0</td>\n",
       "      <td>84.33</td>\n",
       "      <td>12252.0</td>\n",
       "      <td>8.72</td>\n",
       "      <td>NaN</td>\n",
       "      <td>NaN</td>\n",
       "      <td>NaN</td>\n",
       "      <td>NaN</td>\n",
       "      <td>0.0</td>\n",
       "      <td>0.0</td>\n",
       "      <td>...</td>\n",
       "      <td>36</td>\n",
       "      <td>0.1596</td>\n",
       "      <td>C</td>\n",
       "      <td>C5</td>\n",
       "      <td>10+ years</td>\n",
       "      <td>RENT</td>\n",
       "      <td>Dec-11</td>\n",
       "      <td>Fully Paid</td>\n",
       "      <td>real estate business</td>\n",
       "      <td>IL</td>\n",
       "    </tr>\n",
       "    <tr>\n",
       "      <th>3</th>\n",
       "      <td>10000.0</td>\n",
       "      <td>339.31</td>\n",
       "      <td>49200.0</td>\n",
       "      <td>20.00</td>\n",
       "      <td>NaN</td>\n",
       "      <td>NaN</td>\n",
       "      <td>NaN</td>\n",
       "      <td>NaN</td>\n",
       "      <td>0.0</td>\n",
       "      <td>0.0</td>\n",
       "      <td>...</td>\n",
       "      <td>36</td>\n",
       "      <td>0.1349</td>\n",
       "      <td>C</td>\n",
       "      <td>C1</td>\n",
       "      <td>10+ years</td>\n",
       "      <td>RENT</td>\n",
       "      <td>Dec-11</td>\n",
       "      <td>Fully Paid</td>\n",
       "      <td>personel</td>\n",
       "      <td>CA</td>\n",
       "    </tr>\n",
       "    <tr>\n",
       "      <th>4</th>\n",
       "      <td>3000.0</td>\n",
       "      <td>67.79</td>\n",
       "      <td>80000.0</td>\n",
       "      <td>17.94</td>\n",
       "      <td>NaN</td>\n",
       "      <td>NaN</td>\n",
       "      <td>NaN</td>\n",
       "      <td>NaN</td>\n",
       "      <td>0.0</td>\n",
       "      <td>0.0</td>\n",
       "      <td>...</td>\n",
       "      <td>60</td>\n",
       "      <td>0.1269</td>\n",
       "      <td>B</td>\n",
       "      <td>B5</td>\n",
       "      <td>1 year</td>\n",
       "      <td>RENT</td>\n",
       "      <td>Dec-11</td>\n",
       "      <td>Current</td>\n",
       "      <td>Personal</td>\n",
       "      <td>OR</td>\n",
       "    </tr>\n",
       "  </tbody>\n",
       "</table>\n",
       "<p>5 rows × 29 columns</p>\n",
       "</div>"
      ],
      "text/plain": [
       "   loan_amnt  installment  annual_inc    dti  bc_util  bc_open_to_buy  \\\n",
       "0     5000.0       162.87     24000.0  27.65      NaN             NaN   \n",
       "1     2500.0        59.83     30000.0   1.00      NaN             NaN   \n",
       "2     2400.0        84.33     12252.0   8.72      NaN             NaN   \n",
       "3    10000.0       339.31     49200.0  20.00      NaN             NaN   \n",
       "4     3000.0        67.79     80000.0  17.94      NaN             NaN   \n",
       "\n",
       "   total_bal_ex_mort  acc_open_past_24mths  chargeoff_within_12_mths  \\\n",
       "0                NaN                   NaN                       0.0   \n",
       "1                NaN                   NaN                       0.0   \n",
       "2                NaN                   NaN                       0.0   \n",
       "3                NaN                   NaN                       0.0   \n",
       "4                NaN                   NaN                       0.0   \n",
       "\n",
       "   delinq_2yrs    ...      term  int_rate  grade  sub_grade  emp_length  \\\n",
       "0          0.0    ...        36    0.1065      B         B2   10+ years   \n",
       "1          0.0    ...        60    0.1527      C         C4    < 1 year   \n",
       "2          0.0    ...        36    0.1596      C         C5   10+ years   \n",
       "3          0.0    ...        36    0.1349      C         C1   10+ years   \n",
       "4          0.0    ...        60    0.1269      B         B5      1 year   \n",
       "\n",
       "   home_ownership  issue_d  loan_status                 title addr_state  \n",
       "0            RENT   Dec-11   Fully Paid              Computer         AZ  \n",
       "1            RENT   Dec-11  Charged Off                  bike         GA  \n",
       "2            RENT   Dec-11   Fully Paid  real estate business         IL  \n",
       "3            RENT   Dec-11   Fully Paid              personel         CA  \n",
       "4            RENT   Dec-11      Current              Personal         OR  \n",
       "\n",
       "[5 rows x 29 columns]"
      ]
     },
     "execution_count": 110,
     "metadata": {},
     "output_type": "execute_result"
    }
   ],
   "source": [
    "# loandata_sf_obj.convert_objects(convert_numeric=True)\n",
    "\n",
    "loandata_sf_rearr['int_rate'] = loandata_sf_rearr['int_rate'].replace('%','',regex=True).astype('float')/100\n",
    "loandata_sf_rearr.int_rate.dtype\n",
    "loandata_sf_rearr.head()\n"
   ]
  },
  {
   "cell_type": "code",
   "execution_count": 411,
   "metadata": {
    "collapsed": false
   },
   "outputs": [
    {
     "data": {
      "text/plain": [
       "<matplotlib.text.Text at 0xfacf9b38>"
      ]
     },
     "execution_count": 411,
     "metadata": {},
     "output_type": "execute_result"
    },
    {
     "data": {
      "image/png": "[encoded data removed]",
      "text/plain": [
       "<matplotlib.figure.Figure at 0xfaf182e8>"
      ]
     },
     "metadata": {},
     "output_type": "display_data"
    }
   ],
   "source": [
    "# Exploring Credit Grade Feature\n",
    "\n",
    "loandata_sf_rearr.groupby(\"grade\").size().plot(kind='bar', title = \"Loans by Credit Grade\")\n",
    "plt.ylabel(\"Number of Loans\")\n",
    "plt.xlabel(\"Credit Grade\")"
   ]
  },
  {
   "cell_type": "code",
   "execution_count": 328,
   "metadata": {
    "collapsed": false
   },
   "outputs": [
    {
     "data": {
      "text/html": [
       "<div>\n",
       "<table border=\"1\" class=\"dataframe\">\n",
       "  <thead>\n",
       "    <tr style=\"text-align: right;\">\n",
       "      <th></th>\n",
       "      <th>loan_amnt</th>\n",
       "      <th>installment</th>\n",
       "      <th>annual_inc</th>\n",
       "      <th>dti</th>\n",
       "      <th>bc_util</th>\n",
       "      <th>bc_open_to_buy</th>\n",
       "      <th>total_bal_ex_mort</th>\n",
       "      <th>acc_open_past_24mths</th>\n",
       "      <th>chargeoff_within_12_mths</th>\n",
       "      <th>delinq_2yrs</th>\n",
       "      <th>...</th>\n",
       "      <th>int_rate</th>\n",
       "      <th>grade</th>\n",
       "      <th>sub_grade</th>\n",
       "      <th>emp_length</th>\n",
       "      <th>home_ownership</th>\n",
       "      <th>issue_d</th>\n",
       "      <th>loan_status</th>\n",
       "      <th>title</th>\n",
       "      <th>addr_state</th>\n",
       "      <th>credit_score</th>\n",
       "    </tr>\n",
       "  </thead>\n",
       "  <tbody>\n",
       "    <tr>\n",
       "      <th>0</th>\n",
       "      <td>5000.0</td>\n",
       "      <td>162.87</td>\n",
       "      <td>24000.0</td>\n",
       "      <td>27.65</td>\n",
       "      <td>NaN</td>\n",
       "      <td>NaN</td>\n",
       "      <td>NaN</td>\n",
       "      <td>NaN</td>\n",
       "      <td>0.0</td>\n",
       "      <td>0.0</td>\n",
       "      <td>...</td>\n",
       "      <td>0.1065</td>\n",
       "      <td>B</td>\n",
       "      <td>B2</td>\n",
       "      <td>10+ years</td>\n",
       "      <td>RENT</td>\n",
       "      <td>Dec-11</td>\n",
       "      <td>Fully Paid</td>\n",
       "      <td>Computer</td>\n",
       "      <td>AZ</td>\n",
       "      <td>790</td>\n",
       "    </tr>\n",
       "    <tr>\n",
       "      <th>1</th>\n",
       "      <td>10000.0</td>\n",
       "      <td>325.74</td>\n",
       "      <td>100000.0</td>\n",
       "      <td>7.06</td>\n",
       "      <td>NaN</td>\n",
       "      <td>NaN</td>\n",
       "      <td>NaN</td>\n",
       "      <td>NaN</td>\n",
       "      <td>0.0</td>\n",
       "      <td>0.0</td>\n",
       "      <td>...</td>\n",
       "      <td>0.1065</td>\n",
       "      <td>B</td>\n",
       "      <td>B2</td>\n",
       "      <td>3 years</td>\n",
       "      <td>RENT</td>\n",
       "      <td>Dec-11</td>\n",
       "      <td>Charged Off</td>\n",
       "      <td>Other Loan</td>\n",
       "      <td>CA</td>\n",
       "      <td>790</td>\n",
       "    </tr>\n",
       "    <tr>\n",
       "      <th>2</th>\n",
       "      <td>12400.0</td>\n",
       "      <td>403.91</td>\n",
       "      <td>41000.0</td>\n",
       "      <td>11.80</td>\n",
       "      <td>NaN</td>\n",
       "      <td>NaN</td>\n",
       "      <td>NaN</td>\n",
       "      <td>NaN</td>\n",
       "      <td>0.0</td>\n",
       "      <td>0.0</td>\n",
       "      <td>...</td>\n",
       "      <td>0.1065</td>\n",
       "      <td>B</td>\n",
       "      <td>B2</td>\n",
       "      <td>10+ years</td>\n",
       "      <td>RENT</td>\n",
       "      <td>Dec-11</td>\n",
       "      <td>Fully Paid</td>\n",
       "      <td>December 2011 Credit Card Loan</td>\n",
       "      <td>KY</td>\n",
       "      <td>790</td>\n",
       "    </tr>\n",
       "    <tr>\n",
       "      <th>3</th>\n",
       "      <td>10000.0</td>\n",
       "      <td>325.74</td>\n",
       "      <td>27000.0</td>\n",
       "      <td>11.47</td>\n",
       "      <td>NaN</td>\n",
       "      <td>NaN</td>\n",
       "      <td>NaN</td>\n",
       "      <td>NaN</td>\n",
       "      <td>0.0</td>\n",
       "      <td>0.0</td>\n",
       "      <td>...</td>\n",
       "      <td>0.1065</td>\n",
       "      <td>B</td>\n",
       "      <td>B2</td>\n",
       "      <td>6 years</td>\n",
       "      <td>RENT</td>\n",
       "      <td>Dec-11</td>\n",
       "      <td>Fully Paid</td>\n",
       "      <td>Other Loan</td>\n",
       "      <td>NY</td>\n",
       "      <td>790</td>\n",
       "    </tr>\n",
       "    <tr>\n",
       "      <th>4</th>\n",
       "      <td>7000.0</td>\n",
       "      <td>228.02</td>\n",
       "      <td>40000.0</td>\n",
       "      <td>7.38</td>\n",
       "      <td>NaN</td>\n",
       "      <td>NaN</td>\n",
       "      <td>NaN</td>\n",
       "      <td>NaN</td>\n",
       "      <td>0.0</td>\n",
       "      <td>0.0</td>\n",
       "      <td>...</td>\n",
       "      <td>0.1065</td>\n",
       "      <td>B</td>\n",
       "      <td>B2</td>\n",
       "      <td>&lt; 1 year</td>\n",
       "      <td>RENT</td>\n",
       "      <td>Dec-11</td>\n",
       "      <td>Fully Paid</td>\n",
       "      <td>Loan 12142011</td>\n",
       "      <td>CA</td>\n",
       "      <td>790</td>\n",
       "    </tr>\n",
       "  </tbody>\n",
       "</table>\n",
       "<p>5 rows × 30 columns</p>\n",
       "</div>"
      ],
      "text/plain": [
       "   loan_amnt  installment  annual_inc    dti  bc_util  bc_open_to_buy  \\\n",
       "0     5000.0       162.87     24000.0  27.65      NaN             NaN   \n",
       "1    10000.0       325.74    100000.0   7.06      NaN             NaN   \n",
       "2    12400.0       403.91     41000.0  11.80      NaN             NaN   \n",
       "3    10000.0       325.74     27000.0  11.47      NaN             NaN   \n",
       "4     7000.0       228.02     40000.0   7.38      NaN             NaN   \n",
       "\n",
       "   total_bal_ex_mort  acc_open_past_24mths  chargeoff_within_12_mths  \\\n",
       "0                NaN                   NaN                       0.0   \n",
       "1                NaN                   NaN                       0.0   \n",
       "2                NaN                   NaN                       0.0   \n",
       "3                NaN                   NaN                       0.0   \n",
       "4                NaN                   NaN                       0.0   \n",
       "\n",
       "   delinq_2yrs     ...       int_rate  grade  sub_grade  emp_length  \\\n",
       "0          0.0     ...         0.1065      B         B2   10+ years   \n",
       "1          0.0     ...         0.1065      B         B2     3 years   \n",
       "2          0.0     ...         0.1065      B         B2   10+ years   \n",
       "3          0.0     ...         0.1065      B         B2     6 years   \n",
       "4          0.0     ...         0.1065      B         B2    < 1 year   \n",
       "\n",
       "   home_ownership  issue_d  loan_status                           title  \\\n",
       "0            RENT   Dec-11   Fully Paid                        Computer   \n",
       "1            RENT   Dec-11  Charged Off                      Other Loan   \n",
       "2            RENT   Dec-11   Fully Paid  December 2011 Credit Card Loan   \n",
       "3            RENT   Dec-11   Fully Paid                      Other Loan   \n",
       "4            RENT   Dec-11   Fully Paid                   Loan 12142011   \n",
       "\n",
       "  addr_state credit_score  \n",
       "0         AZ          790  \n",
       "1         CA          790  \n",
       "2         KY          790  \n",
       "3         NY          790  \n",
       "4         CA          790  \n",
       "\n",
       "[5 rows x 30 columns]"
      ]
     },
     "execution_count": 328,
     "metadata": {},
     "output_type": "execute_result"
    }
   ],
   "source": [
    "#Converting sub_grade_grp to numeric variable\n",
    "\n",
    "sub_grade_grp = loandata_sf_obj.groupby(\"sub_grade\")\n",
    "# print sub_grade_grp.int_rate.mean()\n",
    "sub_grade_grp_df = pd.DataFrame(sub_grade_grp.size())\n",
    "type(sub_grade_grp_df)\n",
    "sub_grade_grp_df\n",
    "\n",
    "loandata_sf_final = loandata_sf_rearr.merge(credit_score_mapping_data, on = \"sub_grade\")\n",
    "loandata_sf_final.head()"
   ]
  },
  {
   "cell_type": "code",
   "execution_count": 330,
   "metadata": {
    "collapsed": false
   },
   "outputs": [
    {
     "data": {
      "text/plain": [
       "<matplotlib.text.Text at 0x4d4d4e80>"
      ]
     },
     "execution_count": 330,
     "metadata": {},
     "output_type": "execute_result"
    },
    {
     "data": {
      "image/png": "[encoded data removed]",
      "text/plain": [
       "<matplotlib.figure.Figure at 0x1ee12630>"
      ]
     },
     "metadata": {},
     "output_type": "display_data"
    }
   ],
   "source": [
    "loandata_sf_final.credit_score.hist(bins=10)\n",
    "plt.title(\"Credit Score Distribution\")\n",
    "plt.ylabel(\"Number of Loans\")\n",
    "plt.xlabel(\"Credit Score\")"
   ]
  },
  {
   "cell_type": "code",
   "execution_count": 120,
   "metadata": {
    "collapsed": false
   },
   "outputs": [
    {
     "data": {
      "text/html": [
       "<div>\n",
       "<table border=\"1\" class=\"dataframe\">\n",
       "  <thead>\n",
       "    <tr style=\"text-align: right;\">\n",
       "      <th></th>\n",
       "      <th>emp_length</th>\n",
       "      <th>emp_yr</th>\n",
       "    </tr>\n",
       "  </thead>\n",
       "  <tbody>\n",
       "    <tr>\n",
       "      <th>0</th>\n",
       "      <td>n/a</td>\n",
       "      <td>0</td>\n",
       "    </tr>\n",
       "    <tr>\n",
       "      <th>1</th>\n",
       "      <td>&lt; 1 year</td>\n",
       "      <td>0</td>\n",
       "    </tr>\n",
       "    <tr>\n",
       "      <th>2</th>\n",
       "      <td>1 year</td>\n",
       "      <td>1</td>\n",
       "    </tr>\n",
       "    <tr>\n",
       "      <th>3</th>\n",
       "      <td>2 years</td>\n",
       "      <td>2</td>\n",
       "    </tr>\n",
       "    <tr>\n",
       "      <th>4</th>\n",
       "      <td>3 years</td>\n",
       "      <td>3</td>\n",
       "    </tr>\n",
       "    <tr>\n",
       "      <th>5</th>\n",
       "      <td>4 years</td>\n",
       "      <td>4</td>\n",
       "    </tr>\n",
       "    <tr>\n",
       "      <th>6</th>\n",
       "      <td>5 years</td>\n",
       "      <td>5</td>\n",
       "    </tr>\n",
       "    <tr>\n",
       "      <th>7</th>\n",
       "      <td>6 years</td>\n",
       "      <td>6</td>\n",
       "    </tr>\n",
       "    <tr>\n",
       "      <th>8</th>\n",
       "      <td>7 years</td>\n",
       "      <td>7</td>\n",
       "    </tr>\n",
       "    <tr>\n",
       "      <th>9</th>\n",
       "      <td>8 years</td>\n",
       "      <td>8</td>\n",
       "    </tr>\n",
       "    <tr>\n",
       "      <th>10</th>\n",
       "      <td>9 years</td>\n",
       "      <td>9</td>\n",
       "    </tr>\n",
       "    <tr>\n",
       "      <th>11</th>\n",
       "      <td>10+ years</td>\n",
       "      <td>10</td>\n",
       "    </tr>\n",
       "  </tbody>\n",
       "</table>\n",
       "</div>"
      ],
      "text/plain": [
       "   emp_length  emp_yr\n",
       "0         n/a       0\n",
       "1    < 1 year       0\n",
       "2      1 year       1\n",
       "3     2 years       2\n",
       "4     3 years       3\n",
       "5     4 years       4\n",
       "6     5 years       5\n",
       "7     6 years       6\n",
       "8     7 years       7\n",
       "9     8 years       8\n",
       "10    9 years       9\n",
       "11  10+ years      10"
      ]
     },
     "execution_count": 120,
     "metadata": {},
     "output_type": "execute_result"
    }
   ],
   "source": [
    "emp_yr_mapping_data"
   ]
  },
  {
   "cell_type": "code",
   "execution_count": 331,
   "metadata": {
    "collapsed": false
   },
   "outputs": [
    {
     "name": "stdout",
     "output_type": "stream",
     "text": [
      "['10+ years' '< 1 year' '1 year' '3 years' '8 years' '9 years' '4 years'\n",
      " '5 years' '6 years' '2 years' '7 years' 'n/a' nan]\n",
      "emp_length\n",
      "1 year       15029\n",
      "10+ years    70544\n",
      "2 years      20886\n",
      "3 years      18329\n",
      "4 years      14495\n",
      "5 years      17723\n",
      "6 years      14291\n",
      "7 years      13082\n",
      "8 years      10542\n",
      "9 years       8464\n",
      "< 1 year     18284\n",
      "n/a           8989\n",
      "dtype: int64\n"
     ]
    }
   ],
   "source": [
    "# Converting emp_length to numeric variable\n",
    "\n",
    "print loandata_sf_obj.emp_length.unique()\n",
    "emp_length_grp = loandata_sf_obj.groupby('emp_length')\n",
    "print emp_length_grp.size()\n",
    "\n",
    "loandata_sf_final = loandata_sf_final.merge(emp_yr_mapping_data, on = \"emp_length\")"
   ]
  },
  {
   "cell_type": "code",
   "execution_count": 332,
   "metadata": {
    "collapsed": false
   },
   "outputs": [
    {
     "data": {
      "text/plain": [
       "(230658, 31)"
      ]
     },
     "execution_count": 332,
     "metadata": {},
     "output_type": "execute_result"
    }
   ],
   "source": [
    "loandata_sf_final.shape"
   ]
  },
  {
   "cell_type": "code",
   "execution_count": 333,
   "metadata": {
    "collapsed": false
   },
   "outputs": [
    {
     "name": "stdout",
     "output_type": "stream",
     "text": [
      "loan_status\n",
      "Charged Off                                             29912\n",
      "Current                                                 52931\n",
      "Default                                                   192\n",
      "Does not meet the credit policy. Status:Charged Off       761\n",
      "Does not meet the credit policy. Status:Fully Paid       1988\n",
      "Fully Paid                                             142216\n",
      "In Grace Period                                           759\n",
      "Late (16-30 days)                                         322\n",
      "Late (31-120 days)                                       1577\n",
      "dtype: int64\n"
     ]
    }
   ],
   "source": [
    "# Exploring loan_status Feature\n",
    "dlq_status_grp = loandata_sf_final.groupby(\"loan_status\")[\"id\"]\n",
    "print dlq_status_grp.size()"
   ]
  },
  {
   "cell_type": "code",
   "execution_count": 334,
   "metadata": {
    "collapsed": false
   },
   "outputs": [],
   "source": [
    "loandata_sf_final = loandata_sf_final[loandata_sf_final.loan_status != 'Does not meet the credit policy. Status:Fully Paid']"
   ]
  },
  {
   "cell_type": "code",
   "execution_count": 335,
   "metadata": {
    "collapsed": true
   },
   "outputs": [],
   "source": [
    "loandata_sf_final = loandata_sf_final[loandata_sf_final.loan_status != 'Does not meet the credit policy. Status:Charged Off']"
   ]
  },
  {
   "cell_type": "code",
   "execution_count": 336,
   "metadata": {
    "collapsed": false
   },
   "outputs": [
    {
     "data": {
      "text/plain": [
       "(227909, 31)"
      ]
     },
     "execution_count": 336,
     "metadata": {},
     "output_type": "execute_result"
    }
   ],
   "source": [
    "loandata_sf_final.shape"
   ]
  },
  {
   "cell_type": "code",
   "execution_count": 337,
   "metadata": {
    "collapsed": false
   },
   "outputs": [],
   "source": [
    "# Creating delinquency banding\n",
    "# Creating Delinquency Status flag: 1- delinquent, 0 - Not\n",
    "\n",
    "def dlq_combined(row):\n",
    "    if row[\"loan_status\"] == 'Current':\n",
    "        return  0\n",
    "    elif row[\"loan_status\"] == 'Fully Paid':\n",
    "        return  0\n",
    "    elif row[\"loan_status\"] == 'In Grace Period':\n",
    "        return  0\n",
    "    elif row[\"loan_status\"] == 'Late (16-30 days)':\n",
    "        return  0\n",
    "    else:\n",
    "        return 1"
   ]
  },
  {
   "cell_type": "code",
   "execution_count": 338,
   "metadata": {
    "collapsed": false
   },
   "outputs": [],
   "source": [
    "# loandata_sf_rearr['dlq_status'] = loandata_sf_final.apply(lambda row: dlq_combined(row), axis=1)\n",
    "loandata_sf_final['dlq_status'] = loandata_sf_final.apply(dlq_combined, axis=1)"
   ]
  },
  {
   "cell_type": "code",
   "execution_count": 339,
   "metadata": {
    "collapsed": false
   },
   "outputs": [
    {
     "data": {
      "text/html": [
       "<div>\n",
       "<table border=\"1\" class=\"dataframe\">\n",
       "  <thead>\n",
       "    <tr style=\"text-align: right;\">\n",
       "      <th></th>\n",
       "      <th>loan_amnt</th>\n",
       "      <th>installment</th>\n",
       "      <th>annual_inc</th>\n",
       "      <th>dti</th>\n",
       "      <th>bc_util</th>\n",
       "      <th>bc_open_to_buy</th>\n",
       "      <th>total_bal_ex_mort</th>\n",
       "      <th>acc_open_past_24mths</th>\n",
       "      <th>chargeoff_within_12_mths</th>\n",
       "      <th>delinq_2yrs</th>\n",
       "      <th>...</th>\n",
       "      <th>emp_length</th>\n",
       "      <th>home_ownership</th>\n",
       "      <th>issue_d</th>\n",
       "      <th>loan_status</th>\n",
       "      <th>title</th>\n",
       "      <th>addr_state</th>\n",
       "      <th>credit_score</th>\n",
       "      <th>emp_yr</th>\n",
       "      <th>dlq_status</th>\n",
       "      <th>loan_issue_yr</th>\n",
       "    </tr>\n",
       "  </thead>\n",
       "  <tbody>\n",
       "    <tr>\n",
       "      <th>0</th>\n",
       "      <td>5000.0</td>\n",
       "      <td>162.87</td>\n",
       "      <td>24000.0</td>\n",
       "      <td>27.65</td>\n",
       "      <td>NaN</td>\n",
       "      <td>NaN</td>\n",
       "      <td>NaN</td>\n",
       "      <td>NaN</td>\n",
       "      <td>0.0</td>\n",
       "      <td>0.0</td>\n",
       "      <td>...</td>\n",
       "      <td>10+ years</td>\n",
       "      <td>RENT</td>\n",
       "      <td>Dec-11</td>\n",
       "      <td>Fully Paid</td>\n",
       "      <td>Computer</td>\n",
       "      <td>AZ</td>\n",
       "      <td>790</td>\n",
       "      <td>10</td>\n",
       "      <td>0</td>\n",
       "      <td>2011</td>\n",
       "    </tr>\n",
       "    <tr>\n",
       "      <th>1</th>\n",
       "      <td>12400.0</td>\n",
       "      <td>403.91</td>\n",
       "      <td>41000.0</td>\n",
       "      <td>11.80</td>\n",
       "      <td>NaN</td>\n",
       "      <td>NaN</td>\n",
       "      <td>NaN</td>\n",
       "      <td>NaN</td>\n",
       "      <td>0.0</td>\n",
       "      <td>0.0</td>\n",
       "      <td>...</td>\n",
       "      <td>10+ years</td>\n",
       "      <td>RENT</td>\n",
       "      <td>Dec-11</td>\n",
       "      <td>Fully Paid</td>\n",
       "      <td>December 2011 Credit Card Loan</td>\n",
       "      <td>KY</td>\n",
       "      <td>790</td>\n",
       "      <td>10</td>\n",
       "      <td>0</td>\n",
       "      <td>2011</td>\n",
       "    </tr>\n",
       "    <tr>\n",
       "      <th>2</th>\n",
       "      <td>10000.0</td>\n",
       "      <td>215.69</td>\n",
       "      <td>45996.0</td>\n",
       "      <td>21.73</td>\n",
       "      <td>NaN</td>\n",
       "      <td>NaN</td>\n",
       "      <td>NaN</td>\n",
       "      <td>NaN</td>\n",
       "      <td>0.0</td>\n",
       "      <td>0.0</td>\n",
       "      <td>...</td>\n",
       "      <td>10+ years</td>\n",
       "      <td>RENT</td>\n",
       "      <td>Dec-11</td>\n",
       "      <td>Charged Off</td>\n",
       "      <td>Consolidation</td>\n",
       "      <td>OH</td>\n",
       "      <td>790</td>\n",
       "      <td>10</td>\n",
       "      <td>1</td>\n",
       "      <td>2011</td>\n",
       "    </tr>\n",
       "    <tr>\n",
       "      <th>3</th>\n",
       "      <td>24000.0</td>\n",
       "      <td>781.76</td>\n",
       "      <td>45000.0</td>\n",
       "      <td>14.80</td>\n",
       "      <td>NaN</td>\n",
       "      <td>NaN</td>\n",
       "      <td>NaN</td>\n",
       "      <td>NaN</td>\n",
       "      <td>0.0</td>\n",
       "      <td>0.0</td>\n",
       "      <td>...</td>\n",
       "      <td>10+ years</td>\n",
       "      <td>RENT</td>\n",
       "      <td>Dec-11</td>\n",
       "      <td>Fully Paid</td>\n",
       "      <td>Debt Consolidation Loan</td>\n",
       "      <td>CA</td>\n",
       "      <td>790</td>\n",
       "      <td>10</td>\n",
       "      <td>0</td>\n",
       "      <td>2011</td>\n",
       "    </tr>\n",
       "    <tr>\n",
       "      <th>4</th>\n",
       "      <td>7350.0</td>\n",
       "      <td>239.42</td>\n",
       "      <td>48000.0</td>\n",
       "      <td>11.93</td>\n",
       "      <td>NaN</td>\n",
       "      <td>NaN</td>\n",
       "      <td>NaN</td>\n",
       "      <td>NaN</td>\n",
       "      <td>0.0</td>\n",
       "      <td>0.0</td>\n",
       "      <td>...</td>\n",
       "      <td>10+ years</td>\n",
       "      <td>MORTGAGE</td>\n",
       "      <td>Dec-11</td>\n",
       "      <td>Fully Paid</td>\n",
       "      <td>Debt consolidation</td>\n",
       "      <td>AR</td>\n",
       "      <td>790</td>\n",
       "      <td>10</td>\n",
       "      <td>0</td>\n",
       "      <td>2011</td>\n",
       "    </tr>\n",
       "  </tbody>\n",
       "</table>\n",
       "<p>5 rows × 33 columns</p>\n",
       "</div>"
      ],
      "text/plain": [
       "   loan_amnt  installment  annual_inc    dti  bc_util  bc_open_to_buy  \\\n",
       "0     5000.0       162.87     24000.0  27.65      NaN             NaN   \n",
       "1    12400.0       403.91     41000.0  11.80      NaN             NaN   \n",
       "2    10000.0       215.69     45996.0  21.73      NaN             NaN   \n",
       "3    24000.0       781.76     45000.0  14.80      NaN             NaN   \n",
       "4     7350.0       239.42     48000.0  11.93      NaN             NaN   \n",
       "\n",
       "   total_bal_ex_mort  acc_open_past_24mths  chargeoff_within_12_mths  \\\n",
       "0                NaN                   NaN                       0.0   \n",
       "1                NaN                   NaN                       0.0   \n",
       "2                NaN                   NaN                       0.0   \n",
       "3                NaN                   NaN                       0.0   \n",
       "4                NaN                   NaN                       0.0   \n",
       "\n",
       "   delinq_2yrs      ...       emp_length  home_ownership  issue_d  \\\n",
       "0          0.0      ...        10+ years            RENT   Dec-11   \n",
       "1          0.0      ...        10+ years            RENT   Dec-11   \n",
       "2          0.0      ...        10+ years            RENT   Dec-11   \n",
       "3          0.0      ...        10+ years            RENT   Dec-11   \n",
       "4          0.0      ...        10+ years        MORTGAGE   Dec-11   \n",
       "\n",
       "   loan_status                           title  addr_state  credit_score  \\\n",
       "0   Fully Paid                        Computer          AZ           790   \n",
       "1   Fully Paid  December 2011 Credit Card Loan          KY           790   \n",
       "2  Charged Off                   Consolidation          OH           790   \n",
       "3   Fully Paid         Debt Consolidation Loan          CA           790   \n",
       "4   Fully Paid              Debt consolidation          AR           790   \n",
       "\n",
       "   emp_yr dlq_status loan_issue_yr  \n",
       "0      10          0          2011  \n",
       "1      10          0          2011  \n",
       "2      10          1          2011  \n",
       "3      10          0          2011  \n",
       "4      10          0          2011  \n",
       "\n",
       "[5 rows x 33 columns]"
      ]
     },
     "execution_count": 339,
     "metadata": {},
     "output_type": "execute_result"
    }
   ],
   "source": [
    "# Getting Loan issue year from non-date feature\n",
    "loandata_sf_final['loan_issue_yr']= loandata_sf_final.issue_d.str[4:].astype(int) + 2000\n",
    "loandata_sf_final.head()"
   ]
  },
  {
   "cell_type": "code",
   "execution_count": 340,
   "metadata": {
    "collapsed": false
   },
   "outputs": [
    {
     "data": {
      "text/html": [
       "<div>\n",
       "<table border=\"1\" class=\"dataframe\">\n",
       "  <thead>\n",
       "    <tr style=\"text-align: right;\">\n",
       "      <th></th>\n",
       "      <th>loan_amnt</th>\n",
       "      <th>installment</th>\n",
       "      <th>annual_inc</th>\n",
       "      <th>dti</th>\n",
       "      <th>bc_util</th>\n",
       "      <th>bc_open_to_buy</th>\n",
       "      <th>total_bal_ex_mort</th>\n",
       "      <th>acc_open_past_24mths</th>\n",
       "      <th>chargeoff_within_12_mths</th>\n",
       "      <th>delinq_2yrs</th>\n",
       "      <th>...</th>\n",
       "      <th>home_ownership</th>\n",
       "      <th>issue_d</th>\n",
       "      <th>loan_status</th>\n",
       "      <th>title</th>\n",
       "      <th>addr_state</th>\n",
       "      <th>credit_score</th>\n",
       "      <th>emp_yr</th>\n",
       "      <th>dlq_status</th>\n",
       "      <th>loan_issue_yr</th>\n",
       "      <th>loan_issue_mon</th>\n",
       "    </tr>\n",
       "  </thead>\n",
       "  <tbody>\n",
       "    <tr>\n",
       "      <th>0</th>\n",
       "      <td>5000.0</td>\n",
       "      <td>162.87</td>\n",
       "      <td>24000.0</td>\n",
       "      <td>27.65</td>\n",
       "      <td>NaN</td>\n",
       "      <td>NaN</td>\n",
       "      <td>NaN</td>\n",
       "      <td>NaN</td>\n",
       "      <td>0.0</td>\n",
       "      <td>0.0</td>\n",
       "      <td>...</td>\n",
       "      <td>RENT</td>\n",
       "      <td>Dec-11</td>\n",
       "      <td>Fully Paid</td>\n",
       "      <td>Computer</td>\n",
       "      <td>AZ</td>\n",
       "      <td>790</td>\n",
       "      <td>10</td>\n",
       "      <td>0</td>\n",
       "      <td>2011</td>\n",
       "      <td>Dec</td>\n",
       "    </tr>\n",
       "    <tr>\n",
       "      <th>1</th>\n",
       "      <td>12400.0</td>\n",
       "      <td>403.91</td>\n",
       "      <td>41000.0</td>\n",
       "      <td>11.80</td>\n",
       "      <td>NaN</td>\n",
       "      <td>NaN</td>\n",
       "      <td>NaN</td>\n",
       "      <td>NaN</td>\n",
       "      <td>0.0</td>\n",
       "      <td>0.0</td>\n",
       "      <td>...</td>\n",
       "      <td>RENT</td>\n",
       "      <td>Dec-11</td>\n",
       "      <td>Fully Paid</td>\n",
       "      <td>December 2011 Credit Card Loan</td>\n",
       "      <td>KY</td>\n",
       "      <td>790</td>\n",
       "      <td>10</td>\n",
       "      <td>0</td>\n",
       "      <td>2011</td>\n",
       "      <td>Dec</td>\n",
       "    </tr>\n",
       "    <tr>\n",
       "      <th>2</th>\n",
       "      <td>10000.0</td>\n",
       "      <td>215.69</td>\n",
       "      <td>45996.0</td>\n",
       "      <td>21.73</td>\n",
       "      <td>NaN</td>\n",
       "      <td>NaN</td>\n",
       "      <td>NaN</td>\n",
       "      <td>NaN</td>\n",
       "      <td>0.0</td>\n",
       "      <td>0.0</td>\n",
       "      <td>...</td>\n",
       "      <td>RENT</td>\n",
       "      <td>Dec-11</td>\n",
       "      <td>Charged Off</td>\n",
       "      <td>Consolidation</td>\n",
       "      <td>OH</td>\n",
       "      <td>790</td>\n",
       "      <td>10</td>\n",
       "      <td>1</td>\n",
       "      <td>2011</td>\n",
       "      <td>Dec</td>\n",
       "    </tr>\n",
       "    <tr>\n",
       "      <th>3</th>\n",
       "      <td>24000.0</td>\n",
       "      <td>781.76</td>\n",
       "      <td>45000.0</td>\n",
       "      <td>14.80</td>\n",
       "      <td>NaN</td>\n",
       "      <td>NaN</td>\n",
       "      <td>NaN</td>\n",
       "      <td>NaN</td>\n",
       "      <td>0.0</td>\n",
       "      <td>0.0</td>\n",
       "      <td>...</td>\n",
       "      <td>RENT</td>\n",
       "      <td>Dec-11</td>\n",
       "      <td>Fully Paid</td>\n",
       "      <td>Debt Consolidation Loan</td>\n",
       "      <td>CA</td>\n",
       "      <td>790</td>\n",
       "      <td>10</td>\n",
       "      <td>0</td>\n",
       "      <td>2011</td>\n",
       "      <td>Dec</td>\n",
       "    </tr>\n",
       "    <tr>\n",
       "      <th>4</th>\n",
       "      <td>7350.0</td>\n",
       "      <td>239.42</td>\n",
       "      <td>48000.0</td>\n",
       "      <td>11.93</td>\n",
       "      <td>NaN</td>\n",
       "      <td>NaN</td>\n",
       "      <td>NaN</td>\n",
       "      <td>NaN</td>\n",
       "      <td>0.0</td>\n",
       "      <td>0.0</td>\n",
       "      <td>...</td>\n",
       "      <td>MORTGAGE</td>\n",
       "      <td>Dec-11</td>\n",
       "      <td>Fully Paid</td>\n",
       "      <td>Debt consolidation</td>\n",
       "      <td>AR</td>\n",
       "      <td>790</td>\n",
       "      <td>10</td>\n",
       "      <td>0</td>\n",
       "      <td>2011</td>\n",
       "      <td>Dec</td>\n",
       "    </tr>\n",
       "  </tbody>\n",
       "</table>\n",
       "<p>5 rows × 34 columns</p>\n",
       "</div>"
      ],
      "text/plain": [
       "   loan_amnt  installment  annual_inc    dti  bc_util  bc_open_to_buy  \\\n",
       "0     5000.0       162.87     24000.0  27.65      NaN             NaN   \n",
       "1    12400.0       403.91     41000.0  11.80      NaN             NaN   \n",
       "2    10000.0       215.69     45996.0  21.73      NaN             NaN   \n",
       "3    24000.0       781.76     45000.0  14.80      NaN             NaN   \n",
       "4     7350.0       239.42     48000.0  11.93      NaN             NaN   \n",
       "\n",
       "   total_bal_ex_mort  acc_open_past_24mths  chargeoff_within_12_mths  \\\n",
       "0                NaN                   NaN                       0.0   \n",
       "1                NaN                   NaN                       0.0   \n",
       "2                NaN                   NaN                       0.0   \n",
       "3                NaN                   NaN                       0.0   \n",
       "4                NaN                   NaN                       0.0   \n",
       "\n",
       "   delinq_2yrs      ...        home_ownership  issue_d  loan_status  \\\n",
       "0          0.0      ...                  RENT   Dec-11   Fully Paid   \n",
       "1          0.0      ...                  RENT   Dec-11   Fully Paid   \n",
       "2          0.0      ...                  RENT   Dec-11  Charged Off   \n",
       "3          0.0      ...                  RENT   Dec-11   Fully Paid   \n",
       "4          0.0      ...              MORTGAGE   Dec-11   Fully Paid   \n",
       "\n",
       "                            title  addr_state  credit_score  emp_yr  \\\n",
       "0                        Computer          AZ           790      10   \n",
       "1  December 2011 Credit Card Loan          KY           790      10   \n",
       "2                   Consolidation          OH           790      10   \n",
       "3         Debt Consolidation Loan          CA           790      10   \n",
       "4              Debt consolidation          AR           790      10   \n",
       "\n",
       "   dlq_status loan_issue_yr loan_issue_mon  \n",
       "0           0          2011            Dec  \n",
       "1           0          2011            Dec  \n",
       "2           1          2011            Dec  \n",
       "3           0          2011            Dec  \n",
       "4           0          2011            Dec  \n",
       "\n",
       "[5 rows x 34 columns]"
      ]
     },
     "execution_count": 340,
     "metadata": {},
     "output_type": "execute_result"
    }
   ],
   "source": [
    "# Getting Loan issue year from non-date feature\n",
    "loandata_sf_final['loan_issue_mon']= loandata_sf_final.issue_d.str[:3]\n",
    "loandata_sf_final.head()"
   ]
  },
  {
   "cell_type": "code",
   "execution_count": 341,
   "metadata": {
    "collapsed": false
   },
   "outputs": [
    {
     "data": {
      "text/plain": [
       "loan_amnt                         float64\n",
       "installment                       float64\n",
       "annual_inc                        float64\n",
       "dti                               float64\n",
       "bc_util                           float64\n",
       "bc_open_to_buy                    float64\n",
       "total_bal_ex_mort                 float64\n",
       "acc_open_past_24mths              float64\n",
       "chargeoff_within_12_mths          float64\n",
       "delinq_2yrs                       float64\n",
       "mths_since_last_delinq            float64\n",
       "pct_tl_nvr_dlq                    float64\n",
       "num_sats                          float64\n",
       "num_tl_120dpd_2m                  float64\n",
       "num_tl_30dpd                      float64\n",
       "num_tl_90g_dpd_24m                float64\n",
       "num_accts_ever_120_pd             float64\n",
       "mths_since_recent_revol_delinq    float64\n",
       "id                                 object\n",
       "term                               object\n",
       "int_rate                          float64\n",
       "grade                              object\n",
       "sub_grade                          object\n",
       "emp_length                         object\n",
       "home_ownership                     object\n",
       "issue_d                            object\n",
       "loan_status                        object\n",
       "title                              object\n",
       "addr_state                         object\n",
       "credit_score                        int64\n",
       "emp_yr                              int64\n",
       "dlq_status                          int64\n",
       "loan_issue_yr                       int32\n",
       "loan_issue_mon                     object\n",
       "dtype: object"
      ]
     },
     "execution_count": 341,
     "metadata": {},
     "output_type": "execute_result"
    }
   ],
   "source": [
    "loandata_sf_final.dtypes"
   ]
  },
  {
   "cell_type": "code",
   "execution_count": 343,
   "metadata": {
    "collapsed": false
   },
   "outputs": [],
   "source": [
    "loandata_sf_final.drop(loandata_sf_final[['grade','sub_grade','emp_length','issue_d','loan_status']], axis=1, inplace=True)"
   ]
  },
  {
   "cell_type": "code",
   "execution_count": 174,
   "metadata": {
    "collapsed": true
   },
   "outputs": [],
   "source": [
    "# loandata_sf_final['term'] = loandata_sf_final.term.astype(float)"
   ]
  },
  {
   "cell_type": "code",
   "execution_count": 346,
   "metadata": {
    "collapsed": false
   },
   "outputs": [],
   "source": [
    "# what does 'title' feature contains?\n",
    "loandata_sf_final.title.unique()\n",
    "term_grp = loandata_sf_final.groupby(\"title\")[\"id\"]\n",
    "print term_grp.size()\n",
    "\n",
    "# Contains 200+ categorical values. Also, does not look like very useful feature, so let's get rid of it.\n",
    "loandata_sf_final.drop(loandata_sf_final[['title']], axis=1, inplace=True)"
   ]
  },
  {
   "cell_type": "code",
   "execution_count": 181,
   "metadata": {
    "collapsed": false
   },
   "outputs": [
    {
     "data": {
      "text/plain": [
       "loan_amnt                         float64\n",
       "installment                       float64\n",
       "annual_inc                        float64\n",
       "dti                               float64\n",
       "bc_util                           float64\n",
       "bc_open_to_buy                    float64\n",
       "total_bal_ex_mort                 float64\n",
       "acc_open_past_24mths              float64\n",
       "chargeoff_within_12_mths          float64\n",
       "delinq_2yrs                       float64\n",
       "mths_since_last_delinq            float64\n",
       "pct_tl_nvr_dlq                    float64\n",
       "num_sats                          float64\n",
       "num_tl_120dpd_2m                  float64\n",
       "num_tl_30dpd                      float64\n",
       "num_tl_90g_dpd_24m                float64\n",
       "num_accts_ever_120_pd             float64\n",
       "mths_since_recent_revol_delinq    float64\n",
       "id                                 object\n",
       "term                              float64\n",
       "int_rate                          float64\n",
       "home_ownership                     object\n",
       "addr_state                         object\n",
       "credit_score                        int64\n",
       "emp_yr                              int64\n",
       "dlq_status                          int64\n",
       "loan_issue_yr                       int32\n",
       "dtype: object"
      ]
     },
     "execution_count": 181,
     "metadata": {},
     "output_type": "execute_result"
    }
   ],
   "source": [
    "loandata_sf_final.dtypes"
   ]
  },
  {
   "cell_type": "code",
   "execution_count": 347,
   "metadata": {
    "collapsed": false
   },
   "outputs": [
    {
     "name": "stdout",
     "output_type": "stream",
     "text": [
      "home_ownership\n",
      "MORTGAGE    114682\n",
      "NONE            45\n",
      "OTHER          144\n",
      "OWN          18511\n",
      "RENT         94527\n",
      "dtype: int64\n"
     ]
    }
   ],
   "source": [
    "# what does 'home_ownership' feature contains?\n",
    "loandata_sf_final.home_ownership.unique()\n",
    "term_grp = loandata_sf_final.groupby(\"home_ownership\")[\"id\"]\n",
    "print term_grp.size()"
   ]
  },
  {
   "cell_type": "code",
   "execution_count": 348,
   "metadata": {
    "collapsed": true
   },
   "outputs": [],
   "source": [
    "# Creating home_ownership banding\n",
    "def home_ownership_combined(row):\n",
    "    if row[\"home_ownership\"] == 'NONE':\n",
    "        return  'RENT'\n",
    "    elif row[\"home_ownership\"] == 'OTHER':\n",
    "        return  'RENT'\n",
    "    elif row[\"home_ownership\"] == 'RENT':\n",
    "        return  'RENT'\n",
    "    elif row[\"home_ownership\"] == 'MORTGAGE':\n",
    "        return  'MORTGAGE'\n",
    "    elif row[\"home_ownership\"] == 'OWN':\n",
    "        return  'OWN'\n",
    "    else:\n",
    "        return 'RENT'"
   ]
  },
  {
   "cell_type": "code",
   "execution_count": 349,
   "metadata": {
    "collapsed": false
   },
   "outputs": [],
   "source": [
    "loandata_sf_final['home_ownership_mod'] = loandata_sf_final.apply(home_ownership_combined, axis=1)"
   ]
  },
  {
   "cell_type": "code",
   "execution_count": 350,
   "metadata": {
    "collapsed": false
   },
   "outputs": [],
   "source": [
    "# Convert 'home_ownership' to categorical\n",
    "home_own_dum = pd.get_dummies(loandata_sf_final['home_ownership_mod'])\n",
    "loandata_sf_final = pd.concat([loandata_sf_final, home_own_dum], axis=1)"
   ]
  },
  {
   "cell_type": "code",
   "execution_count": 190,
   "metadata": {
    "collapsed": false
   },
   "outputs": [
    {
     "data": {
      "text/html": [
       "<div>\n",
       "<table border=\"1\" class=\"dataframe\">\n",
       "  <thead>\n",
       "    <tr style=\"text-align: right;\">\n",
       "      <th></th>\n",
       "      <th>loan_amnt</th>\n",
       "      <th>installment</th>\n",
       "      <th>annual_inc</th>\n",
       "      <th>dti</th>\n",
       "      <th>bc_util</th>\n",
       "      <th>bc_open_to_buy</th>\n",
       "      <th>total_bal_ex_mort</th>\n",
       "      <th>acc_open_past_24mths</th>\n",
       "      <th>chargeoff_within_12_mths</th>\n",
       "      <th>delinq_2yrs</th>\n",
       "      <th>...</th>\n",
       "      <th>home_ownership</th>\n",
       "      <th>addr_state</th>\n",
       "      <th>credit_score</th>\n",
       "      <th>emp_yr</th>\n",
       "      <th>dlq_status</th>\n",
       "      <th>loan_issue_yr</th>\n",
       "      <th>home_ownership_mod</th>\n",
       "      <th>MORTGAGE</th>\n",
       "      <th>OWN</th>\n",
       "      <th>RENT</th>\n",
       "    </tr>\n",
       "  </thead>\n",
       "  <tbody>\n",
       "    <tr>\n",
       "      <th>0</th>\n",
       "      <td>5000.0</td>\n",
       "      <td>162.87</td>\n",
       "      <td>24000.0</td>\n",
       "      <td>27.65</td>\n",
       "      <td>NaN</td>\n",
       "      <td>NaN</td>\n",
       "      <td>NaN</td>\n",
       "      <td>NaN</td>\n",
       "      <td>0.0</td>\n",
       "      <td>0.0</td>\n",
       "      <td>...</td>\n",
       "      <td>RENT</td>\n",
       "      <td>AZ</td>\n",
       "      <td>820</td>\n",
       "      <td>10</td>\n",
       "      <td>0</td>\n",
       "      <td>2011</td>\n",
       "      <td>RENT</td>\n",
       "      <td>0.0</td>\n",
       "      <td>0.0</td>\n",
       "      <td>1.0</td>\n",
       "    </tr>\n",
       "    <tr>\n",
       "      <th>1</th>\n",
       "      <td>12400.0</td>\n",
       "      <td>403.91</td>\n",
       "      <td>41000.0</td>\n",
       "      <td>11.80</td>\n",
       "      <td>NaN</td>\n",
       "      <td>NaN</td>\n",
       "      <td>NaN</td>\n",
       "      <td>NaN</td>\n",
       "      <td>0.0</td>\n",
       "      <td>0.0</td>\n",
       "      <td>...</td>\n",
       "      <td>RENT</td>\n",
       "      <td>KY</td>\n",
       "      <td>820</td>\n",
       "      <td>10</td>\n",
       "      <td>0</td>\n",
       "      <td>2011</td>\n",
       "      <td>RENT</td>\n",
       "      <td>0.0</td>\n",
       "      <td>0.0</td>\n",
       "      <td>1.0</td>\n",
       "    </tr>\n",
       "    <tr>\n",
       "      <th>2</th>\n",
       "      <td>10000.0</td>\n",
       "      <td>215.69</td>\n",
       "      <td>45996.0</td>\n",
       "      <td>21.73</td>\n",
       "      <td>NaN</td>\n",
       "      <td>NaN</td>\n",
       "      <td>NaN</td>\n",
       "      <td>NaN</td>\n",
       "      <td>0.0</td>\n",
       "      <td>0.0</td>\n",
       "      <td>...</td>\n",
       "      <td>RENT</td>\n",
       "      <td>OH</td>\n",
       "      <td>820</td>\n",
       "      <td>10</td>\n",
       "      <td>1</td>\n",
       "      <td>2011</td>\n",
       "      <td>RENT</td>\n",
       "      <td>0.0</td>\n",
       "      <td>0.0</td>\n",
       "      <td>1.0</td>\n",
       "    </tr>\n",
       "    <tr>\n",
       "      <th>3</th>\n",
       "      <td>24000.0</td>\n",
       "      <td>781.76</td>\n",
       "      <td>45000.0</td>\n",
       "      <td>14.80</td>\n",
       "      <td>NaN</td>\n",
       "      <td>NaN</td>\n",
       "      <td>NaN</td>\n",
       "      <td>NaN</td>\n",
       "      <td>0.0</td>\n",
       "      <td>0.0</td>\n",
       "      <td>...</td>\n",
       "      <td>RENT</td>\n",
       "      <td>CA</td>\n",
       "      <td>820</td>\n",
       "      <td>10</td>\n",
       "      <td>0</td>\n",
       "      <td>2011</td>\n",
       "      <td>RENT</td>\n",
       "      <td>0.0</td>\n",
       "      <td>0.0</td>\n",
       "      <td>1.0</td>\n",
       "    </tr>\n",
       "    <tr>\n",
       "      <th>4</th>\n",
       "      <td>7350.0</td>\n",
       "      <td>239.42</td>\n",
       "      <td>48000.0</td>\n",
       "      <td>11.93</td>\n",
       "      <td>NaN</td>\n",
       "      <td>NaN</td>\n",
       "      <td>NaN</td>\n",
       "      <td>NaN</td>\n",
       "      <td>0.0</td>\n",
       "      <td>0.0</td>\n",
       "      <td>...</td>\n",
       "      <td>MORTGAGE</td>\n",
       "      <td>AR</td>\n",
       "      <td>820</td>\n",
       "      <td>10</td>\n",
       "      <td>0</td>\n",
       "      <td>2011</td>\n",
       "      <td>MORTGAGE</td>\n",
       "      <td>1.0</td>\n",
       "      <td>0.0</td>\n",
       "      <td>0.0</td>\n",
       "    </tr>\n",
       "    <tr>\n",
       "      <th>5</th>\n",
       "      <td>6000.0</td>\n",
       "      <td>195.44</td>\n",
       "      <td>36000.0</td>\n",
       "      <td>14.43</td>\n",
       "      <td>NaN</td>\n",
       "      <td>NaN</td>\n",
       "      <td>NaN</td>\n",
       "      <td>NaN</td>\n",
       "      <td>0.0</td>\n",
       "      <td>0.0</td>\n",
       "      <td>...</td>\n",
       "      <td>RENT</td>\n",
       "      <td>HI</td>\n",
       "      <td>820</td>\n",
       "      <td>10</td>\n",
       "      <td>0</td>\n",
       "      <td>2011</td>\n",
       "      <td>RENT</td>\n",
       "      <td>0.0</td>\n",
       "      <td>0.0</td>\n",
       "      <td>1.0</td>\n",
       "    </tr>\n",
       "    <tr>\n",
       "      <th>6</th>\n",
       "      <td>10000.0</td>\n",
       "      <td>325.74</td>\n",
       "      <td>90000.0</td>\n",
       "      <td>11.16</td>\n",
       "      <td>NaN</td>\n",
       "      <td>NaN</td>\n",
       "      <td>NaN</td>\n",
       "      <td>NaN</td>\n",
       "      <td>0.0</td>\n",
       "      <td>0.0</td>\n",
       "      <td>...</td>\n",
       "      <td>MORTGAGE</td>\n",
       "      <td>NY</td>\n",
       "      <td>820</td>\n",
       "      <td>10</td>\n",
       "      <td>0</td>\n",
       "      <td>2011</td>\n",
       "      <td>MORTGAGE</td>\n",
       "      <td>1.0</td>\n",
       "      <td>0.0</td>\n",
       "      <td>0.0</td>\n",
       "    </tr>\n",
       "    <tr>\n",
       "      <th>7</th>\n",
       "      <td>3000.0</td>\n",
       "      <td>97.72</td>\n",
       "      <td>86004.0</td>\n",
       "      <td>13.37</td>\n",
       "      <td>NaN</td>\n",
       "      <td>NaN</td>\n",
       "      <td>NaN</td>\n",
       "      <td>NaN</td>\n",
       "      <td>0.0</td>\n",
       "      <td>0.0</td>\n",
       "      <td>...</td>\n",
       "      <td>MORTGAGE</td>\n",
       "      <td>NJ</td>\n",
       "      <td>820</td>\n",
       "      <td>10</td>\n",
       "      <td>1</td>\n",
       "      <td>2011</td>\n",
       "      <td>MORTGAGE</td>\n",
       "      <td>1.0</td>\n",
       "      <td>0.0</td>\n",
       "      <td>0.0</td>\n",
       "    </tr>\n",
       "    <tr>\n",
       "      <th>8</th>\n",
       "      <td>18500.0</td>\n",
       "      <td>340.24</td>\n",
       "      <td>40000.0</td>\n",
       "      <td>26.34</td>\n",
       "      <td>NaN</td>\n",
       "      <td>NaN</td>\n",
       "      <td>NaN</td>\n",
       "      <td>NaN</td>\n",
       "      <td>0.0</td>\n",
       "      <td>0.0</td>\n",
       "      <td>...</td>\n",
       "      <td>OWN</td>\n",
       "      <td>HI</td>\n",
       "      <td>820</td>\n",
       "      <td>10</td>\n",
       "      <td>0</td>\n",
       "      <td>2011</td>\n",
       "      <td>OWN</td>\n",
       "      <td>0.0</td>\n",
       "      <td>1.0</td>\n",
       "      <td>0.0</td>\n",
       "    </tr>\n",
       "    <tr>\n",
       "      <th>9</th>\n",
       "      <td>13000.0</td>\n",
       "      <td>423.46</td>\n",
       "      <td>50000.0</td>\n",
       "      <td>20.11</td>\n",
       "      <td>NaN</td>\n",
       "      <td>NaN</td>\n",
       "      <td>NaN</td>\n",
       "      <td>NaN</td>\n",
       "      <td>0.0</td>\n",
       "      <td>0.0</td>\n",
       "      <td>...</td>\n",
       "      <td>MORTGAGE</td>\n",
       "      <td>FL</td>\n",
       "      <td>820</td>\n",
       "      <td>10</td>\n",
       "      <td>0</td>\n",
       "      <td>2011</td>\n",
       "      <td>MORTGAGE</td>\n",
       "      <td>1.0</td>\n",
       "      <td>0.0</td>\n",
       "      <td>0.0</td>\n",
       "    </tr>\n",
       "  </tbody>\n",
       "</table>\n",
       "<p>10 rows × 31 columns</p>\n",
       "</div>"
      ],
      "text/plain": [
       "   loan_amnt  installment  annual_inc    dti  bc_util  bc_open_to_buy  \\\n",
       "0     5000.0       162.87     24000.0  27.65      NaN             NaN   \n",
       "1    12400.0       403.91     41000.0  11.80      NaN             NaN   \n",
       "2    10000.0       215.69     45996.0  21.73      NaN             NaN   \n",
       "3    24000.0       781.76     45000.0  14.80      NaN             NaN   \n",
       "4     7350.0       239.42     48000.0  11.93      NaN             NaN   \n",
       "5     6000.0       195.44     36000.0  14.43      NaN             NaN   \n",
       "6    10000.0       325.74     90000.0  11.16      NaN             NaN   \n",
       "7     3000.0        97.72     86004.0  13.37      NaN             NaN   \n",
       "8    18500.0       340.24     40000.0  26.34      NaN             NaN   \n",
       "9    13000.0       423.46     50000.0  20.11      NaN             NaN   \n",
       "\n",
       "   total_bal_ex_mort  acc_open_past_24mths  chargeoff_within_12_mths  \\\n",
       "0                NaN                   NaN                       0.0   \n",
       "1                NaN                   NaN                       0.0   \n",
       "2                NaN                   NaN                       0.0   \n",
       "3                NaN                   NaN                       0.0   \n",
       "4                NaN                   NaN                       0.0   \n",
       "5                NaN                   NaN                       0.0   \n",
       "6                NaN                   NaN                       0.0   \n",
       "7                NaN                   NaN                       0.0   \n",
       "8                NaN                   NaN                       0.0   \n",
       "9                NaN                   NaN                       0.0   \n",
       "\n",
       "   delinq_2yrs  ...   home_ownership  addr_state  credit_score  emp_yr  \\\n",
       "0          0.0  ...             RENT          AZ           820      10   \n",
       "1          0.0  ...             RENT          KY           820      10   \n",
       "2          0.0  ...             RENT          OH           820      10   \n",
       "3          0.0  ...             RENT          CA           820      10   \n",
       "4          0.0  ...         MORTGAGE          AR           820      10   \n",
       "5          0.0  ...             RENT          HI           820      10   \n",
       "6          0.0  ...         MORTGAGE          NY           820      10   \n",
       "7          0.0  ...         MORTGAGE          NJ           820      10   \n",
       "8          0.0  ...              OWN          HI           820      10   \n",
       "9          0.0  ...         MORTGAGE          FL           820      10   \n",
       "\n",
       "   dlq_status  loan_issue_yr  home_ownership_mod  MORTGAGE  OWN  RENT  \n",
       "0           0           2011                RENT       0.0  0.0   1.0  \n",
       "1           0           2011                RENT       0.0  0.0   1.0  \n",
       "2           1           2011                RENT       0.0  0.0   1.0  \n",
       "3           0           2011                RENT       0.0  0.0   1.0  \n",
       "4           0           2011            MORTGAGE       1.0  0.0   0.0  \n",
       "5           0           2011                RENT       0.0  0.0   1.0  \n",
       "6           0           2011            MORTGAGE       1.0  0.0   0.0  \n",
       "7           1           2011            MORTGAGE       1.0  0.0   0.0  \n",
       "8           0           2011                 OWN       0.0  1.0   0.0  \n",
       "9           0           2011            MORTGAGE       1.0  0.0   0.0  \n",
       "\n",
       "[10 rows x 31 columns]"
      ]
     },
     "execution_count": 190,
     "metadata": {},
     "output_type": "execute_result"
    }
   ],
   "source": [
    "loandata_sf_final.head(10)"
   ]
  },
  {
   "cell_type": "code",
   "execution_count": 351,
   "metadata": {
    "collapsed": true
   },
   "outputs": [],
   "source": [
    "loandata_sf_final.drop(loandata_sf_final[['home_ownership_mod', 'home_ownership']], axis=1, inplace=True)"
   ]
  },
  {
   "cell_type": "code",
   "execution_count": 354,
   "metadata": {
    "collapsed": false
   },
   "outputs": [
    {
     "data": {
      "text/plain": [
       "loan_amnt                         float64\n",
       "installment                       float64\n",
       "annual_inc                        float64\n",
       "dti                               float64\n",
       "bc_util                           float64\n",
       "bc_open_to_buy                    float64\n",
       "total_bal_ex_mort                 float64\n",
       "acc_open_past_24mths              float64\n",
       "chargeoff_within_12_mths          float64\n",
       "delinq_2yrs                       float64\n",
       "mths_since_last_delinq            float64\n",
       "pct_tl_nvr_dlq                    float64\n",
       "num_sats                          float64\n",
       "num_tl_120dpd_2m                  float64\n",
       "num_tl_30dpd                      float64\n",
       "num_tl_90g_dpd_24m                float64\n",
       "num_accts_ever_120_pd             float64\n",
       "mths_since_recent_revol_delinq    float64\n",
       "id                                 object\n",
       "term                               object\n",
       "int_rate                          float64\n",
       "addr_state                         object\n",
       "credit_score                        int64\n",
       "emp_yr                              int64\n",
       "dlq_status                          int64\n",
       "loan_issue_yr                       int32\n",
       "loan_issue_mon                     object\n",
       "MORTGAGE                          float64\n",
       "OWN                               float64\n",
       "RENT                              float64\n",
       "dtype: object"
      ]
     },
     "execution_count": 354,
     "metadata": {},
     "output_type": "execute_result"
    }
   ],
   "source": [
    "loandata_sf_final.dtypes"
   ]
  },
  {
   "cell_type": "code",
   "execution_count": 356,
   "metadata": {
    "collapsed": false
   },
   "outputs": [
    {
     "data": {
      "text/html": [
       "<div>\n",
       "<table border=\"1\" class=\"dataframe\">\n",
       "  <thead>\n",
       "    <tr style=\"text-align: right;\">\n",
       "      <th></th>\n",
       "      <th>addr_state</th>\n",
       "      <th>unemployment_rate_after3yrs</th>\n",
       "      <th>loan_issue_yr_plus3</th>\n",
       "    </tr>\n",
       "  </thead>\n",
       "  <tbody>\n",
       "    <tr>\n",
       "      <th>0</th>\n",
       "      <td>AL</td>\n",
       "      <td>10.5</td>\n",
       "      <td>2010</td>\n",
       "    </tr>\n",
       "    <tr>\n",
       "      <th>1</th>\n",
       "      <td>AK</td>\n",
       "      <td>7.9</td>\n",
       "      <td>2010</td>\n",
       "    </tr>\n",
       "    <tr>\n",
       "      <th>2</th>\n",
       "      <td>AZ</td>\n",
       "      <td>10.4</td>\n",
       "      <td>2010</td>\n",
       "    </tr>\n",
       "    <tr>\n",
       "      <th>3</th>\n",
       "      <td>AR</td>\n",
       "      <td>8.2</td>\n",
       "      <td>2010</td>\n",
       "    </tr>\n",
       "    <tr>\n",
       "      <th>4</th>\n",
       "      <td>CA</td>\n",
       "      <td>12.2</td>\n",
       "      <td>2010</td>\n",
       "    </tr>\n",
       "  </tbody>\n",
       "</table>\n",
       "</div>"
      ],
      "text/plain": [
       "  addr_state  unemployment_rate_after3yrs  loan_issue_yr_plus3\n",
       "0         AL                         10.5                 2010\n",
       "1         AK                          7.9                 2010\n",
       "2         AZ                         10.4                 2010\n",
       "3         AR                          8.2                 2010\n",
       "4         CA                         12.2                 2010"
      ]
     },
     "execution_count": 356,
     "metadata": {},
     "output_type": "execute_result"
    }
   ],
   "source": [
    "# Adding unemployment_rate data \n",
    "unemployment_rate_2010_2015.head()"
   ]
  },
  {
   "cell_type": "code",
   "execution_count": 357,
   "metadata": {
    "collapsed": true
   },
   "outputs": [],
   "source": [
    "unemployment_rate_2010_2015.columns = ['addr_state', 'unemployment_rate','loan_issue_yr']"
   ]
  },
  {
   "cell_type": "code",
   "execution_count": 358,
   "metadata": {
    "collapsed": false
   },
   "outputs": [],
   "source": [
    "loandata_sf_final2 = pd.merge(loandata_sf_final, unemployment_rate_2010_2015, how='left', on=['addr_state', 'loan_issue_yr'])"
   ]
  },
  {
   "cell_type": "code",
   "execution_count": 359,
   "metadata": {
    "collapsed": false
   },
   "outputs": [
    {
     "data": {
      "text/plain": [
       "(227909, 31)"
      ]
     },
     "execution_count": 359,
     "metadata": {},
     "output_type": "execute_result"
    }
   ],
   "source": [
    "loandata_sf_final2.shape"
   ]
  },
  {
   "cell_type": "code",
   "execution_count": 360,
   "metadata": {
    "collapsed": false
   },
   "outputs": [
    {
     "data": {
      "text/html": [
       "<div>\n",
       "<table border=\"1\" class=\"dataframe\">\n",
       "  <thead>\n",
       "    <tr style=\"text-align: right;\">\n",
       "      <th></th>\n",
       "      <th>loan_amnt</th>\n",
       "      <th>installment</th>\n",
       "      <th>annual_inc</th>\n",
       "      <th>dti</th>\n",
       "      <th>bc_util</th>\n",
       "      <th>bc_open_to_buy</th>\n",
       "      <th>total_bal_ex_mort</th>\n",
       "      <th>acc_open_past_24mths</th>\n",
       "      <th>chargeoff_within_12_mths</th>\n",
       "      <th>delinq_2yrs</th>\n",
       "      <th>...</th>\n",
       "      <th>addr_state</th>\n",
       "      <th>credit_score</th>\n",
       "      <th>emp_yr</th>\n",
       "      <th>dlq_status</th>\n",
       "      <th>loan_issue_yr</th>\n",
       "      <th>loan_issue_mon</th>\n",
       "      <th>MORTGAGE</th>\n",
       "      <th>OWN</th>\n",
       "      <th>RENT</th>\n",
       "      <th>unemployment_rate</th>\n",
       "    </tr>\n",
       "  </thead>\n",
       "  <tbody>\n",
       "    <tr>\n",
       "      <th>0</th>\n",
       "      <td>5000.0</td>\n",
       "      <td>162.87</td>\n",
       "      <td>24000.0</td>\n",
       "      <td>27.65</td>\n",
       "      <td>NaN</td>\n",
       "      <td>NaN</td>\n",
       "      <td>NaN</td>\n",
       "      <td>NaN</td>\n",
       "      <td>0.0</td>\n",
       "      <td>0.0</td>\n",
       "      <td>...</td>\n",
       "      <td>AZ</td>\n",
       "      <td>790</td>\n",
       "      <td>10</td>\n",
       "      <td>0</td>\n",
       "      <td>2011</td>\n",
       "      <td>Dec</td>\n",
       "      <td>0.0</td>\n",
       "      <td>0.0</td>\n",
       "      <td>1.0</td>\n",
       "      <td>9.5</td>\n",
       "    </tr>\n",
       "    <tr>\n",
       "      <th>1</th>\n",
       "      <td>12400.0</td>\n",
       "      <td>403.91</td>\n",
       "      <td>41000.0</td>\n",
       "      <td>11.80</td>\n",
       "      <td>NaN</td>\n",
       "      <td>NaN</td>\n",
       "      <td>NaN</td>\n",
       "      <td>NaN</td>\n",
       "      <td>0.0</td>\n",
       "      <td>0.0</td>\n",
       "      <td>...</td>\n",
       "      <td>KY</td>\n",
       "      <td>790</td>\n",
       "      <td>10</td>\n",
       "      <td>0</td>\n",
       "      <td>2011</td>\n",
       "      <td>Dec</td>\n",
       "      <td>0.0</td>\n",
       "      <td>0.0</td>\n",
       "      <td>1.0</td>\n",
       "      <td>9.4</td>\n",
       "    </tr>\n",
       "    <tr>\n",
       "      <th>2</th>\n",
       "      <td>10000.0</td>\n",
       "      <td>215.69</td>\n",
       "      <td>45996.0</td>\n",
       "      <td>21.73</td>\n",
       "      <td>NaN</td>\n",
       "      <td>NaN</td>\n",
       "      <td>NaN</td>\n",
       "      <td>NaN</td>\n",
       "      <td>0.0</td>\n",
       "      <td>0.0</td>\n",
       "      <td>...</td>\n",
       "      <td>OH</td>\n",
       "      <td>790</td>\n",
       "      <td>10</td>\n",
       "      <td>1</td>\n",
       "      <td>2011</td>\n",
       "      <td>Dec</td>\n",
       "      <td>0.0</td>\n",
       "      <td>0.0</td>\n",
       "      <td>1.0</td>\n",
       "      <td>8.8</td>\n",
       "    </tr>\n",
       "    <tr>\n",
       "      <th>3</th>\n",
       "      <td>24000.0</td>\n",
       "      <td>781.76</td>\n",
       "      <td>45000.0</td>\n",
       "      <td>14.80</td>\n",
       "      <td>NaN</td>\n",
       "      <td>NaN</td>\n",
       "      <td>NaN</td>\n",
       "      <td>NaN</td>\n",
       "      <td>0.0</td>\n",
       "      <td>0.0</td>\n",
       "      <td>...</td>\n",
       "      <td>CA</td>\n",
       "      <td>790</td>\n",
       "      <td>10</td>\n",
       "      <td>0</td>\n",
       "      <td>2011</td>\n",
       "      <td>Dec</td>\n",
       "      <td>0.0</td>\n",
       "      <td>0.0</td>\n",
       "      <td>1.0</td>\n",
       "      <td>11.7</td>\n",
       "    </tr>\n",
       "    <tr>\n",
       "      <th>4</th>\n",
       "      <td>7350.0</td>\n",
       "      <td>239.42</td>\n",
       "      <td>48000.0</td>\n",
       "      <td>11.93</td>\n",
       "      <td>NaN</td>\n",
       "      <td>NaN</td>\n",
       "      <td>NaN</td>\n",
       "      <td>NaN</td>\n",
       "      <td>0.0</td>\n",
       "      <td>0.0</td>\n",
       "      <td>...</td>\n",
       "      <td>AR</td>\n",
       "      <td>790</td>\n",
       "      <td>10</td>\n",
       "      <td>0</td>\n",
       "      <td>2011</td>\n",
       "      <td>Dec</td>\n",
       "      <td>1.0</td>\n",
       "      <td>0.0</td>\n",
       "      <td>0.0</td>\n",
       "      <td>8.3</td>\n",
       "    </tr>\n",
       "  </tbody>\n",
       "</table>\n",
       "<p>5 rows × 31 columns</p>\n",
       "</div>"
      ],
      "text/plain": [
       "   loan_amnt  installment  annual_inc    dti  bc_util  bc_open_to_buy  \\\n",
       "0     5000.0       162.87     24000.0  27.65      NaN             NaN   \n",
       "1    12400.0       403.91     41000.0  11.80      NaN             NaN   \n",
       "2    10000.0       215.69     45996.0  21.73      NaN             NaN   \n",
       "3    24000.0       781.76     45000.0  14.80      NaN             NaN   \n",
       "4     7350.0       239.42     48000.0  11.93      NaN             NaN   \n",
       "\n",
       "   total_bal_ex_mort  acc_open_past_24mths  chargeoff_within_12_mths  \\\n",
       "0                NaN                   NaN                       0.0   \n",
       "1                NaN                   NaN                       0.0   \n",
       "2                NaN                   NaN                       0.0   \n",
       "3                NaN                   NaN                       0.0   \n",
       "4                NaN                   NaN                       0.0   \n",
       "\n",
       "   delinq_2yrs        ...         addr_state  credit_score  emp_yr  \\\n",
       "0          0.0        ...                 AZ           790      10   \n",
       "1          0.0        ...                 KY           790      10   \n",
       "2          0.0        ...                 OH           790      10   \n",
       "3          0.0        ...                 CA           790      10   \n",
       "4          0.0        ...                 AR           790      10   \n",
       "\n",
       "   dlq_status  loan_issue_yr  loan_issue_mon  MORTGAGE  OWN RENT  \\\n",
       "0           0           2011             Dec       0.0  0.0  1.0   \n",
       "1           0           2011             Dec       0.0  0.0  1.0   \n",
       "2           1           2011             Dec       0.0  0.0  1.0   \n",
       "3           0           2011             Dec       0.0  0.0  1.0   \n",
       "4           0           2011             Dec       1.0  0.0  0.0   \n",
       "\n",
       "  unemployment_rate  \n",
       "0               9.5  \n",
       "1               9.4  \n",
       "2               8.8  \n",
       "3              11.7  \n",
       "4               8.3  \n",
       "\n",
       "[5 rows x 31 columns]"
      ]
     },
     "execution_count": 360,
     "metadata": {},
     "output_type": "execute_result"
    }
   ],
   "source": [
    "loandata_sf_final2.head()"
   ]
  },
  {
   "cell_type": "code",
   "execution_count": 361,
   "metadata": {
    "collapsed": true
   },
   "outputs": [],
   "source": [
    "unemployment_rate_2010_2015_v2 = unemployment_rate_2010_2015\n",
    "unemployment_rate_2010_2015_v2.columns = ['addr_state', 'unemployment_rate_after3yrs','loan_issue_yr_plus3']"
   ]
  },
  {
   "cell_type": "code",
   "execution_count": 362,
   "metadata": {
    "collapsed": false
   },
   "outputs": [],
   "source": [
    "loandata_sf_final2['loan_issue_yr_plus3'] = loandata_sf_final2['loan_issue_yr'] + 3"
   ]
  },
  {
   "cell_type": "code",
   "execution_count": 376,
   "metadata": {
    "collapsed": false
   },
   "outputs": [],
   "source": [
    "loandata_sf_final3 = pd.merge(loandata_sf_final2, unemployment_rate_2010_2015_v2, how='left', on=['addr_state', 'loan_issue_yr_plus3'])"
   ]
  },
  {
   "cell_type": "code",
   "execution_count": 377,
   "metadata": {
    "collapsed": false
   },
   "outputs": [
    {
     "data": {
      "text/html": [
       "<div>\n",
       "<table border=\"1\" class=\"dataframe\">\n",
       "  <thead>\n",
       "    <tr style=\"text-align: right;\">\n",
       "      <th></th>\n",
       "      <th>loan_amnt</th>\n",
       "      <th>installment</th>\n",
       "      <th>annual_inc</th>\n",
       "      <th>dti</th>\n",
       "      <th>bc_util</th>\n",
       "      <th>bc_open_to_buy</th>\n",
       "      <th>total_bal_ex_mort</th>\n",
       "      <th>acc_open_past_24mths</th>\n",
       "      <th>chargeoff_within_12_mths</th>\n",
       "      <th>delinq_2yrs</th>\n",
       "      <th>...</th>\n",
       "      <th>emp_yr</th>\n",
       "      <th>dlq_status</th>\n",
       "      <th>loan_issue_yr</th>\n",
       "      <th>loan_issue_mon</th>\n",
       "      <th>MORTGAGE</th>\n",
       "      <th>OWN</th>\n",
       "      <th>RENT</th>\n",
       "      <th>unemployment_rate</th>\n",
       "      <th>loan_issue_yr_plus3</th>\n",
       "      <th>unemployment_rate_after3yrs</th>\n",
       "    </tr>\n",
       "  </thead>\n",
       "  <tbody>\n",
       "    <tr>\n",
       "      <th>0</th>\n",
       "      <td>5000.0</td>\n",
       "      <td>162.87</td>\n",
       "      <td>24000.0</td>\n",
       "      <td>27.65</td>\n",
       "      <td>NaN</td>\n",
       "      <td>NaN</td>\n",
       "      <td>NaN</td>\n",
       "      <td>NaN</td>\n",
       "      <td>0.0</td>\n",
       "      <td>0.0</td>\n",
       "      <td>...</td>\n",
       "      <td>10</td>\n",
       "      <td>0</td>\n",
       "      <td>2011</td>\n",
       "      <td>Dec</td>\n",
       "      <td>0.0</td>\n",
       "      <td>0.0</td>\n",
       "      <td>1.0</td>\n",
       "      <td>9.5</td>\n",
       "      <td>2014</td>\n",
       "      <td>6.8</td>\n",
       "    </tr>\n",
       "    <tr>\n",
       "      <th>1</th>\n",
       "      <td>12400.0</td>\n",
       "      <td>403.91</td>\n",
       "      <td>41000.0</td>\n",
       "      <td>11.80</td>\n",
       "      <td>NaN</td>\n",
       "      <td>NaN</td>\n",
       "      <td>NaN</td>\n",
       "      <td>NaN</td>\n",
       "      <td>0.0</td>\n",
       "      <td>0.0</td>\n",
       "      <td>...</td>\n",
       "      <td>10</td>\n",
       "      <td>0</td>\n",
       "      <td>2011</td>\n",
       "      <td>Dec</td>\n",
       "      <td>0.0</td>\n",
       "      <td>0.0</td>\n",
       "      <td>1.0</td>\n",
       "      <td>9.4</td>\n",
       "      <td>2014</td>\n",
       "      <td>6.5</td>\n",
       "    </tr>\n",
       "    <tr>\n",
       "      <th>2</th>\n",
       "      <td>10000.0</td>\n",
       "      <td>215.69</td>\n",
       "      <td>45996.0</td>\n",
       "      <td>21.73</td>\n",
       "      <td>NaN</td>\n",
       "      <td>NaN</td>\n",
       "      <td>NaN</td>\n",
       "      <td>NaN</td>\n",
       "      <td>0.0</td>\n",
       "      <td>0.0</td>\n",
       "      <td>...</td>\n",
       "      <td>10</td>\n",
       "      <td>1</td>\n",
       "      <td>2011</td>\n",
       "      <td>Dec</td>\n",
       "      <td>0.0</td>\n",
       "      <td>0.0</td>\n",
       "      <td>1.0</td>\n",
       "      <td>8.8</td>\n",
       "      <td>2014</td>\n",
       "      <td>5.8</td>\n",
       "    </tr>\n",
       "    <tr>\n",
       "      <th>3</th>\n",
       "      <td>24000.0</td>\n",
       "      <td>781.76</td>\n",
       "      <td>45000.0</td>\n",
       "      <td>14.80</td>\n",
       "      <td>NaN</td>\n",
       "      <td>NaN</td>\n",
       "      <td>NaN</td>\n",
       "      <td>NaN</td>\n",
       "      <td>0.0</td>\n",
       "      <td>0.0</td>\n",
       "      <td>...</td>\n",
       "      <td>10</td>\n",
       "      <td>0</td>\n",
       "      <td>2011</td>\n",
       "      <td>Dec</td>\n",
       "      <td>0.0</td>\n",
       "      <td>0.0</td>\n",
       "      <td>1.0</td>\n",
       "      <td>11.7</td>\n",
       "      <td>2014</td>\n",
       "      <td>7.5</td>\n",
       "    </tr>\n",
       "    <tr>\n",
       "      <th>4</th>\n",
       "      <td>7350.0</td>\n",
       "      <td>239.42</td>\n",
       "      <td>48000.0</td>\n",
       "      <td>11.93</td>\n",
       "      <td>NaN</td>\n",
       "      <td>NaN</td>\n",
       "      <td>NaN</td>\n",
       "      <td>NaN</td>\n",
       "      <td>0.0</td>\n",
       "      <td>0.0</td>\n",
       "      <td>...</td>\n",
       "      <td>10</td>\n",
       "      <td>0</td>\n",
       "      <td>2011</td>\n",
       "      <td>Dec</td>\n",
       "      <td>1.0</td>\n",
       "      <td>0.0</td>\n",
       "      <td>0.0</td>\n",
       "      <td>8.3</td>\n",
       "      <td>2014</td>\n",
       "      <td>6.1</td>\n",
       "    </tr>\n",
       "  </tbody>\n",
       "</table>\n",
       "<p>5 rows × 33 columns</p>\n",
       "</div>"
      ],
      "text/plain": [
       "   loan_amnt  installment  annual_inc    dti  bc_util  bc_open_to_buy  \\\n",
       "0     5000.0       162.87     24000.0  27.65      NaN             NaN   \n",
       "1    12400.0       403.91     41000.0  11.80      NaN             NaN   \n",
       "2    10000.0       215.69     45996.0  21.73      NaN             NaN   \n",
       "3    24000.0       781.76     45000.0  14.80      NaN             NaN   \n",
       "4     7350.0       239.42     48000.0  11.93      NaN             NaN   \n",
       "\n",
       "   total_bal_ex_mort  acc_open_past_24mths  chargeoff_within_12_mths  \\\n",
       "0                NaN                   NaN                       0.0   \n",
       "1                NaN                   NaN                       0.0   \n",
       "2                NaN                   NaN                       0.0   \n",
       "3                NaN                   NaN                       0.0   \n",
       "4                NaN                   NaN                       0.0   \n",
       "\n",
       "   delinq_2yrs             ...              emp_yr  dlq_status  loan_issue_yr  \\\n",
       "0          0.0             ...                  10           0           2011   \n",
       "1          0.0             ...                  10           0           2011   \n",
       "2          0.0             ...                  10           1           2011   \n",
       "3          0.0             ...                  10           0           2011   \n",
       "4          0.0             ...                  10           0           2011   \n",
       "\n",
       "   loan_issue_mon  MORTGAGE  OWN  RENT  unemployment_rate loan_issue_yr_plus3  \\\n",
       "0             Dec       0.0  0.0   1.0                9.5                2014   \n",
       "1             Dec       0.0  0.0   1.0                9.4                2014   \n",
       "2             Dec       0.0  0.0   1.0                8.8                2014   \n",
       "3             Dec       0.0  0.0   1.0               11.7                2014   \n",
       "4             Dec       1.0  0.0   0.0                8.3                2014   \n",
       "\n",
       "  unemployment_rate_after3yrs  \n",
       "0                         6.8  \n",
       "1                         6.5  \n",
       "2                         5.8  \n",
       "3                         7.5  \n",
       "4                         6.1  \n",
       "\n",
       "[5 rows x 33 columns]"
      ]
     },
     "execution_count": 377,
     "metadata": {},
     "output_type": "execute_result"
    }
   ],
   "source": [
    "loandata_sf_final3.head()"
   ]
  },
  {
   "cell_type": "code",
   "execution_count": 365,
   "metadata": {
    "collapsed": false
   },
   "outputs": [
    {
     "data": {
      "text/plain": [
       "loan_amnt                         float64\n",
       "installment                       float64\n",
       "annual_inc                        float64\n",
       "dti                               float64\n",
       "bc_util                           float64\n",
       "bc_open_to_buy                    float64\n",
       "total_bal_ex_mort                 float64\n",
       "acc_open_past_24mths              float64\n",
       "chargeoff_within_12_mths          float64\n",
       "delinq_2yrs                       float64\n",
       "mths_since_last_delinq            float64\n",
       "pct_tl_nvr_dlq                    float64\n",
       "num_sats                          float64\n",
       "num_tl_120dpd_2m                  float64\n",
       "num_tl_30dpd                      float64\n",
       "num_tl_90g_dpd_24m                float64\n",
       "num_accts_ever_120_pd             float64\n",
       "mths_since_recent_revol_delinq    float64\n",
       "id                                 object\n",
       "term                               object\n",
       "int_rate                          float64\n",
       "addr_state                         object\n",
       "credit_score                        int64\n",
       "emp_yr                              int64\n",
       "dlq_status                          int64\n",
       "loan_issue_yr                       int32\n",
       "loan_issue_mon                     object\n",
       "MORTGAGE                          float64\n",
       "OWN                               float64\n",
       "RENT                              float64\n",
       "unemployment_rate                 float64\n",
       "loan_issue_yr_plus3                 int32\n",
       "unemployment_rate_after3yrs       float64\n",
       "dtype: object"
      ]
     },
     "execution_count": 365,
     "metadata": {},
     "output_type": "execute_result"
    }
   ],
   "source": [
    "loandata_sf_final3.dtypes"
   ]
  },
  {
   "cell_type": "code",
   "execution_count": 378,
   "metadata": {
    "collapsed": false
   },
   "outputs": [
    {
     "data": {
      "text/plain": [
       "array(['AZ', 'KY', 'OH', 'CA', 'AR', 'HI', 'NY', 'NJ', 'FL', 'AK', 'PA',\n",
       "       'GA', 'MA', 'WV', 'NH', 'IL', 'MI', 'NV', 'KS', 'WY', 'TX', 'WA',\n",
       "       'MO', 'OK', 'CT', 'WI', 'NC', 'LA', 'UT', 'AL', 'MD', 'OR', 'CO',\n",
       "       'VA', 'SC', 'SD', 'DC', 'NM', 'MN', 'MT', 'RI', 'DE', 'VT', 'IN',\n",
       "       'TN', 'MS', 'NE', 'ID', 'IA', 'ME'], dtype=object)"
      ]
     },
     "execution_count": 378,
     "metadata": {},
     "output_type": "execute_result"
    }
   ],
   "source": [
    "# State : Creating Binary dummy variable\n",
    "unique_vals = loandata_sf_final3.addr_state.unique()\n",
    "unique_vals"
   ]
  },
  {
   "cell_type": "code",
   "execution_count": 379,
   "metadata": {
    "collapsed": false
   },
   "outputs": [
    {
     "data": {
      "text/html": [
       "<div>\n",
       "<table border=\"1\" class=\"dataframe\">\n",
       "  <thead>\n",
       "    <tr style=\"text-align: right;\">\n",
       "      <th></th>\n",
       "      <th>loan_amnt</th>\n",
       "      <th>installment</th>\n",
       "      <th>annual_inc</th>\n",
       "      <th>dti</th>\n",
       "      <th>bc_util</th>\n",
       "      <th>bc_open_to_buy</th>\n",
       "      <th>total_bal_ex_mort</th>\n",
       "      <th>acc_open_past_24mths</th>\n",
       "      <th>chargeoff_within_12_mths</th>\n",
       "      <th>delinq_2yrs</th>\n",
       "      <th>...</th>\n",
       "      <th>dlq_status</th>\n",
       "      <th>loan_issue_yr</th>\n",
       "      <th>loan_issue_mon</th>\n",
       "      <th>MORTGAGE</th>\n",
       "      <th>OWN</th>\n",
       "      <th>RENT</th>\n",
       "      <th>unemployment_rate</th>\n",
       "      <th>loan_issue_yr_plus3</th>\n",
       "      <th>unemployment_rate_after3yrs</th>\n",
       "      <th>state_binary</th>\n",
       "    </tr>\n",
       "  </thead>\n",
       "  <tbody>\n",
       "    <tr>\n",
       "      <th>0</th>\n",
       "      <td>5000.0</td>\n",
       "      <td>162.87</td>\n",
       "      <td>24000.0</td>\n",
       "      <td>27.65</td>\n",
       "      <td>NaN</td>\n",
       "      <td>NaN</td>\n",
       "      <td>NaN</td>\n",
       "      <td>NaN</td>\n",
       "      <td>0.0</td>\n",
       "      <td>0.0</td>\n",
       "      <td>...</td>\n",
       "      <td>0</td>\n",
       "      <td>2011</td>\n",
       "      <td>Dec</td>\n",
       "      <td>0.0</td>\n",
       "      <td>0.0</td>\n",
       "      <td>1.0</td>\n",
       "      <td>9.5</td>\n",
       "      <td>2014</td>\n",
       "      <td>6.8</td>\n",
       "      <td>0</td>\n",
       "    </tr>\n",
       "    <tr>\n",
       "      <th>1</th>\n",
       "      <td>12400.0</td>\n",
       "      <td>403.91</td>\n",
       "      <td>41000.0</td>\n",
       "      <td>11.80</td>\n",
       "      <td>NaN</td>\n",
       "      <td>NaN</td>\n",
       "      <td>NaN</td>\n",
       "      <td>NaN</td>\n",
       "      <td>0.0</td>\n",
       "      <td>0.0</td>\n",
       "      <td>...</td>\n",
       "      <td>0</td>\n",
       "      <td>2011</td>\n",
       "      <td>Dec</td>\n",
       "      <td>0.0</td>\n",
       "      <td>0.0</td>\n",
       "      <td>1.0</td>\n",
       "      <td>9.4</td>\n",
       "      <td>2014</td>\n",
       "      <td>6.5</td>\n",
       "      <td>1</td>\n",
       "    </tr>\n",
       "    <tr>\n",
       "      <th>2</th>\n",
       "      <td>10000.0</td>\n",
       "      <td>215.69</td>\n",
       "      <td>45996.0</td>\n",
       "      <td>21.73</td>\n",
       "      <td>NaN</td>\n",
       "      <td>NaN</td>\n",
       "      <td>NaN</td>\n",
       "      <td>NaN</td>\n",
       "      <td>0.0</td>\n",
       "      <td>0.0</td>\n",
       "      <td>...</td>\n",
       "      <td>1</td>\n",
       "      <td>2011</td>\n",
       "      <td>Dec</td>\n",
       "      <td>0.0</td>\n",
       "      <td>0.0</td>\n",
       "      <td>1.0</td>\n",
       "      <td>8.8</td>\n",
       "      <td>2014</td>\n",
       "      <td>5.8</td>\n",
       "      <td>10</td>\n",
       "    </tr>\n",
       "    <tr>\n",
       "      <th>3</th>\n",
       "      <td>24000.0</td>\n",
       "      <td>781.76</td>\n",
       "      <td>45000.0</td>\n",
       "      <td>14.80</td>\n",
       "      <td>NaN</td>\n",
       "      <td>NaN</td>\n",
       "      <td>NaN</td>\n",
       "      <td>NaN</td>\n",
       "      <td>0.0</td>\n",
       "      <td>0.0</td>\n",
       "      <td>...</td>\n",
       "      <td>0</td>\n",
       "      <td>2011</td>\n",
       "      <td>Dec</td>\n",
       "      <td>0.0</td>\n",
       "      <td>0.0</td>\n",
       "      <td>1.0</td>\n",
       "      <td>11.7</td>\n",
       "      <td>2014</td>\n",
       "      <td>7.5</td>\n",
       "      <td>11</td>\n",
       "    </tr>\n",
       "    <tr>\n",
       "      <th>4</th>\n",
       "      <td>7350.0</td>\n",
       "      <td>239.42</td>\n",
       "      <td>48000.0</td>\n",
       "      <td>11.93</td>\n",
       "      <td>NaN</td>\n",
       "      <td>NaN</td>\n",
       "      <td>NaN</td>\n",
       "      <td>NaN</td>\n",
       "      <td>0.0</td>\n",
       "      <td>0.0</td>\n",
       "      <td>...</td>\n",
       "      <td>0</td>\n",
       "      <td>2011</td>\n",
       "      <td>Dec</td>\n",
       "      <td>1.0</td>\n",
       "      <td>0.0</td>\n",
       "      <td>0.0</td>\n",
       "      <td>8.3</td>\n",
       "      <td>2014</td>\n",
       "      <td>6.1</td>\n",
       "      <td>100</td>\n",
       "    </tr>\n",
       "  </tbody>\n",
       "</table>\n",
       "<p>5 rows × 34 columns</p>\n",
       "</div>"
      ],
      "text/plain": [
       "   loan_amnt  installment  annual_inc    dti  bc_util  bc_open_to_buy  \\\n",
       "0     5000.0       162.87     24000.0  27.65      NaN             NaN   \n",
       "1    12400.0       403.91     41000.0  11.80      NaN             NaN   \n",
       "2    10000.0       215.69     45996.0  21.73      NaN             NaN   \n",
       "3    24000.0       781.76     45000.0  14.80      NaN             NaN   \n",
       "4     7350.0       239.42     48000.0  11.93      NaN             NaN   \n",
       "\n",
       "   total_bal_ex_mort  acc_open_past_24mths  chargeoff_within_12_mths  \\\n",
       "0                NaN                   NaN                       0.0   \n",
       "1                NaN                   NaN                       0.0   \n",
       "2                NaN                   NaN                       0.0   \n",
       "3                NaN                   NaN                       0.0   \n",
       "4                NaN                   NaN                       0.0   \n",
       "\n",
       "   delinq_2yrs     ...       dlq_status  loan_issue_yr  loan_issue_mon  \\\n",
       "0          0.0     ...                0           2011             Dec   \n",
       "1          0.0     ...                0           2011             Dec   \n",
       "2          0.0     ...                1           2011             Dec   \n",
       "3          0.0     ...                0           2011             Dec   \n",
       "4          0.0     ...                0           2011             Dec   \n",
       "\n",
       "   MORTGAGE  OWN  RENT  unemployment_rate  loan_issue_yr_plus3  \\\n",
       "0       0.0  0.0   1.0                9.5                 2014   \n",
       "1       0.0  0.0   1.0                9.4                 2014   \n",
       "2       0.0  0.0   1.0                8.8                 2014   \n",
       "3       0.0  0.0   1.0               11.7                 2014   \n",
       "4       1.0  0.0   0.0                8.3                 2014   \n",
       "\n",
       "  unemployment_rate_after3yrs state_binary  \n",
       "0                         6.8            0  \n",
       "1                         6.5            1  \n",
       "2                         5.8           10  \n",
       "3                         7.5           11  \n",
       "4                         6.1          100  \n",
       "\n",
       "[5 rows x 34 columns]"
      ]
     },
     "execution_count": 379,
     "metadata": {},
     "output_type": "execute_result"
    }
   ],
   "source": [
    "def to_binary(value):\n",
    "    return \"{0:b}\".format(value)\n",
    "\n",
    "my_dict = {}\n",
    "for index,val in enumerate(unique_vals):\n",
    "    my_dict[val] = to_binary(index)\n",
    "my_dict\n",
    "\n",
    "loandata_sf_final3[\"state_binary\"] = loandata_sf_final3.apply(lambda x: my_dict[x.addr_state],axis=1)\n",
    "loandata_sf_final3.head()"
   ]
  },
  {
   "cell_type": "code",
   "execution_count": 380,
   "metadata": {
    "collapsed": false
   },
   "outputs": [
    {
     "name": "stdout",
     "output_type": "stream",
     "text": [
      "6\n"
     ]
    },
    {
     "data": {
      "text/html": [
       "<div>\n",
       "<table border=\"1\" class=\"dataframe\">\n",
       "  <thead>\n",
       "    <tr style=\"text-align: right;\">\n",
       "      <th></th>\n",
       "      <th>loan_amnt</th>\n",
       "      <th>installment</th>\n",
       "      <th>annual_inc</th>\n",
       "      <th>dti</th>\n",
       "      <th>bc_util</th>\n",
       "      <th>bc_open_to_buy</th>\n",
       "      <th>total_bal_ex_mort</th>\n",
       "      <th>acc_open_past_24mths</th>\n",
       "      <th>chargeoff_within_12_mths</th>\n",
       "      <th>delinq_2yrs</th>\n",
       "      <th>...</th>\n",
       "      <th>dlq_status</th>\n",
       "      <th>loan_issue_yr</th>\n",
       "      <th>loan_issue_mon</th>\n",
       "      <th>MORTGAGE</th>\n",
       "      <th>OWN</th>\n",
       "      <th>RENT</th>\n",
       "      <th>unemployment_rate</th>\n",
       "      <th>loan_issue_yr_plus3</th>\n",
       "      <th>unemployment_rate_after3yrs</th>\n",
       "      <th>state_binary</th>\n",
       "    </tr>\n",
       "  </thead>\n",
       "  <tbody>\n",
       "    <tr>\n",
       "      <th>0</th>\n",
       "      <td>5000.0</td>\n",
       "      <td>162.87</td>\n",
       "      <td>24000.0</td>\n",
       "      <td>27.65</td>\n",
       "      <td>NaN</td>\n",
       "      <td>NaN</td>\n",
       "      <td>NaN</td>\n",
       "      <td>NaN</td>\n",
       "      <td>0.0</td>\n",
       "      <td>0.0</td>\n",
       "      <td>...</td>\n",
       "      <td>0</td>\n",
       "      <td>2011</td>\n",
       "      <td>Dec</td>\n",
       "      <td>0.0</td>\n",
       "      <td>0.0</td>\n",
       "      <td>1.0</td>\n",
       "      <td>9.5</td>\n",
       "      <td>2014</td>\n",
       "      <td>6.8</td>\n",
       "      <td>000000</td>\n",
       "    </tr>\n",
       "    <tr>\n",
       "      <th>1</th>\n",
       "      <td>12400.0</td>\n",
       "      <td>403.91</td>\n",
       "      <td>41000.0</td>\n",
       "      <td>11.80</td>\n",
       "      <td>NaN</td>\n",
       "      <td>NaN</td>\n",
       "      <td>NaN</td>\n",
       "      <td>NaN</td>\n",
       "      <td>0.0</td>\n",
       "      <td>0.0</td>\n",
       "      <td>...</td>\n",
       "      <td>0</td>\n",
       "      <td>2011</td>\n",
       "      <td>Dec</td>\n",
       "      <td>0.0</td>\n",
       "      <td>0.0</td>\n",
       "      <td>1.0</td>\n",
       "      <td>9.4</td>\n",
       "      <td>2014</td>\n",
       "      <td>6.5</td>\n",
       "      <td>000001</td>\n",
       "    </tr>\n",
       "    <tr>\n",
       "      <th>2</th>\n",
       "      <td>10000.0</td>\n",
       "      <td>215.69</td>\n",
       "      <td>45996.0</td>\n",
       "      <td>21.73</td>\n",
       "      <td>NaN</td>\n",
       "      <td>NaN</td>\n",
       "      <td>NaN</td>\n",
       "      <td>NaN</td>\n",
       "      <td>0.0</td>\n",
       "      <td>0.0</td>\n",
       "      <td>...</td>\n",
       "      <td>1</td>\n",
       "      <td>2011</td>\n",
       "      <td>Dec</td>\n",
       "      <td>0.0</td>\n",
       "      <td>0.0</td>\n",
       "      <td>1.0</td>\n",
       "      <td>8.8</td>\n",
       "      <td>2014</td>\n",
       "      <td>5.8</td>\n",
       "      <td>000010</td>\n",
       "    </tr>\n",
       "    <tr>\n",
       "      <th>3</th>\n",
       "      <td>24000.0</td>\n",
       "      <td>781.76</td>\n",
       "      <td>45000.0</td>\n",
       "      <td>14.80</td>\n",
       "      <td>NaN</td>\n",
       "      <td>NaN</td>\n",
       "      <td>NaN</td>\n",
       "      <td>NaN</td>\n",
       "      <td>0.0</td>\n",
       "      <td>0.0</td>\n",
       "      <td>...</td>\n",
       "      <td>0</td>\n",
       "      <td>2011</td>\n",
       "      <td>Dec</td>\n",
       "      <td>0.0</td>\n",
       "      <td>0.0</td>\n",
       "      <td>1.0</td>\n",
       "      <td>11.7</td>\n",
       "      <td>2014</td>\n",
       "      <td>7.5</td>\n",
       "      <td>000011</td>\n",
       "    </tr>\n",
       "    <tr>\n",
       "      <th>4</th>\n",
       "      <td>7350.0</td>\n",
       "      <td>239.42</td>\n",
       "      <td>48000.0</td>\n",
       "      <td>11.93</td>\n",
       "      <td>NaN</td>\n",
       "      <td>NaN</td>\n",
       "      <td>NaN</td>\n",
       "      <td>NaN</td>\n",
       "      <td>0.0</td>\n",
       "      <td>0.0</td>\n",
       "      <td>...</td>\n",
       "      <td>0</td>\n",
       "      <td>2011</td>\n",
       "      <td>Dec</td>\n",
       "      <td>1.0</td>\n",
       "      <td>0.0</td>\n",
       "      <td>0.0</td>\n",
       "      <td>8.3</td>\n",
       "      <td>2014</td>\n",
       "      <td>6.1</td>\n",
       "      <td>000100</td>\n",
       "    </tr>\n",
       "  </tbody>\n",
       "</table>\n",
       "<p>5 rows × 34 columns</p>\n",
       "</div>"
      ],
      "text/plain": [
       "   loan_amnt  installment  annual_inc    dti  bc_util  bc_open_to_buy  \\\n",
       "0     5000.0       162.87     24000.0  27.65      NaN             NaN   \n",
       "1    12400.0       403.91     41000.0  11.80      NaN             NaN   \n",
       "2    10000.0       215.69     45996.0  21.73      NaN             NaN   \n",
       "3    24000.0       781.76     45000.0  14.80      NaN             NaN   \n",
       "4     7350.0       239.42     48000.0  11.93      NaN             NaN   \n",
       "\n",
       "   total_bal_ex_mort  acc_open_past_24mths  chargeoff_within_12_mths  \\\n",
       "0                NaN                   NaN                       0.0   \n",
       "1                NaN                   NaN                       0.0   \n",
       "2                NaN                   NaN                       0.0   \n",
       "3                NaN                   NaN                       0.0   \n",
       "4                NaN                   NaN                       0.0   \n",
       "\n",
       "   delinq_2yrs     ...       dlq_status  loan_issue_yr  loan_issue_mon  \\\n",
       "0          0.0     ...                0           2011             Dec   \n",
       "1          0.0     ...                0           2011             Dec   \n",
       "2          0.0     ...                1           2011             Dec   \n",
       "3          0.0     ...                0           2011             Dec   \n",
       "4          0.0     ...                0           2011             Dec   \n",
       "\n",
       "   MORTGAGE  OWN  RENT  unemployment_rate  loan_issue_yr_plus3  \\\n",
       "0       0.0  0.0   1.0                9.5                 2014   \n",
       "1       0.0  0.0   1.0                9.4                 2014   \n",
       "2       0.0  0.0   1.0                8.8                 2014   \n",
       "3       0.0  0.0   1.0               11.7                 2014   \n",
       "4       1.0  0.0   0.0                8.3                 2014   \n",
       "\n",
       "  unemployment_rate_after3yrs state_binary  \n",
       "0                         6.8       000000  \n",
       "1                         6.5       000001  \n",
       "2                         5.8       000010  \n",
       "3                         7.5       000011  \n",
       "4                         6.1       000100  \n",
       "\n",
       "[5 rows x 34 columns]"
      ]
     },
     "execution_count": 380,
     "metadata": {},
     "output_type": "execute_result"
    }
   ],
   "source": [
    "#zero-fill to specified length\n",
    "#how many digits do you want\n",
    "unique_vals = len(loandata_sf_final3.addr_state.unique())\n",
    "unique_vals\n",
    "\n",
    "#convert this to ceilinged binary representation\n",
    "max_length_binary_vec = int(np.ceil(np.log2(unique_vals)))\n",
    "print max_length_binary_vec\n",
    "\n",
    "loandata_sf_final3.state_binary  = loandata_sf_final3.state_binary.map(lambda x: x.zfill(max_length_binary_vec))\n",
    "loandata_sf_final3.head()"
   ]
  },
  {
   "cell_type": "code",
   "execution_count": 381,
   "metadata": {
    "collapsed": false
   },
   "outputs": [
    {
     "data": {
      "text/html": [
       "<div>\n",
       "<table border=\"1\" class=\"dataframe\">\n",
       "  <thead>\n",
       "    <tr style=\"text-align: right;\">\n",
       "      <th></th>\n",
       "      <th>0</th>\n",
       "      <th>1</th>\n",
       "      <th>2</th>\n",
       "      <th>3</th>\n",
       "      <th>4</th>\n",
       "      <th>5</th>\n",
       "    </tr>\n",
       "  </thead>\n",
       "  <tbody>\n",
       "    <tr>\n",
       "      <th>0</th>\n",
       "      <td>0</td>\n",
       "      <td>0</td>\n",
       "      <td>0</td>\n",
       "      <td>0</td>\n",
       "      <td>0</td>\n",
       "      <td>0</td>\n",
       "    </tr>\n",
       "    <tr>\n",
       "      <th>1</th>\n",
       "      <td>0</td>\n",
       "      <td>0</td>\n",
       "      <td>0</td>\n",
       "      <td>0</td>\n",
       "      <td>0</td>\n",
       "      <td>1</td>\n",
       "    </tr>\n",
       "    <tr>\n",
       "      <th>2</th>\n",
       "      <td>0</td>\n",
       "      <td>0</td>\n",
       "      <td>0</td>\n",
       "      <td>0</td>\n",
       "      <td>1</td>\n",
       "      <td>0</td>\n",
       "    </tr>\n",
       "    <tr>\n",
       "      <th>3</th>\n",
       "      <td>0</td>\n",
       "      <td>0</td>\n",
       "      <td>0</td>\n",
       "      <td>0</td>\n",
       "      <td>1</td>\n",
       "      <td>1</td>\n",
       "    </tr>\n",
       "    <tr>\n",
       "      <th>4</th>\n",
       "      <td>0</td>\n",
       "      <td>0</td>\n",
       "      <td>0</td>\n",
       "      <td>1</td>\n",
       "      <td>0</td>\n",
       "      <td>0</td>\n",
       "    </tr>\n",
       "  </tbody>\n",
       "</table>\n",
       "</div>"
      ],
      "text/plain": [
       "   0  1  2  3  4  5\n",
       "0  0  0  0  0  0  0\n",
       "1  0  0  0  0  0  1\n",
       "2  0  0  0  0  1  0\n",
       "3  0  0  0  0  1  1\n",
       "4  0  0  0  1  0  0"
      ]
     },
     "execution_count": 381,
     "metadata": {},
     "output_type": "execute_result"
    }
   ],
   "source": [
    "split_binary_columns = loandata_sf_final3.apply(lambda x: pd.Series(list(x.state_binary)),axis = 1)\n",
    "split_binary_columns.head()"
   ]
  },
  {
   "cell_type": "code",
   "execution_count": 289,
   "metadata": {
    "collapsed": false
   },
   "outputs": [
    {
     "data": {
      "text/plain": [
       "0    object\n",
       "1    object\n",
       "2    object\n",
       "3    object\n",
       "4    object\n",
       "5    object\n",
       "dtype: object"
      ]
     },
     "execution_count": 289,
     "metadata": {},
     "output_type": "execute_result"
    }
   ],
   "source": [
    "split_binary_columns.dtypes"
   ]
  },
  {
   "cell_type": "code",
   "execution_count": 382,
   "metadata": {
    "collapsed": false
   },
   "outputs": [
    {
     "name": "stderr",
     "output_type": "stream",
     "text": [
      "C:\\Anaconda2\\lib\\site-packages\\ipykernel\\__main__.py:1: FutureWarning: convert_objects is deprecated.  Use the data-type specific converters pd.to_datetime, pd.to_timedelta and pd.to_numeric.\n",
      "  if __name__ == '__main__':\n"
     ]
    }
   ],
   "source": [
    "split_binary_columns2 = split_binary_columns.convert_objects(convert_numeric=True)"
   ]
  },
  {
   "cell_type": "code",
   "execution_count": 291,
   "metadata": {
    "collapsed": false
   },
   "outputs": [
    {
     "data": {
      "text/plain": [
       "0    int64\n",
       "1    int64\n",
       "2    int64\n",
       "3    int64\n",
       "4    int64\n",
       "5    int64\n",
       "dtype: object"
      ]
     },
     "execution_count": 291,
     "metadata": {},
     "output_type": "execute_result"
    }
   ],
   "source": [
    "split_binary_columns2.dtypes"
   ]
  },
  {
   "cell_type": "code",
   "execution_count": 383,
   "metadata": {
    "collapsed": true
   },
   "outputs": [],
   "source": [
    "# Change state dummy column names\n",
    "split_binary_columns2.columns = ['state_dum0', 'state_dum1', 'state_dum2', 'state_dum3', 'state_dum4', 'state_dum5']"
   ]
  },
  {
   "cell_type": "code",
   "execution_count": 384,
   "metadata": {
    "collapsed": false
   },
   "outputs": [
    {
     "data": {
      "text/html": [
       "<div>\n",
       "<table border=\"1\" class=\"dataframe\">\n",
       "  <thead>\n",
       "    <tr style=\"text-align: right;\">\n",
       "      <th></th>\n",
       "      <th>state_dum0</th>\n",
       "      <th>state_dum1</th>\n",
       "      <th>state_dum2</th>\n",
       "      <th>state_dum3</th>\n",
       "      <th>state_dum4</th>\n",
       "      <th>state_dum5</th>\n",
       "    </tr>\n",
       "  </thead>\n",
       "  <tbody>\n",
       "    <tr>\n",
       "      <th>0</th>\n",
       "      <td>0</td>\n",
       "      <td>0</td>\n",
       "      <td>0</td>\n",
       "      <td>0</td>\n",
       "      <td>0</td>\n",
       "      <td>0</td>\n",
       "    </tr>\n",
       "    <tr>\n",
       "      <th>1</th>\n",
       "      <td>0</td>\n",
       "      <td>0</td>\n",
       "      <td>0</td>\n",
       "      <td>0</td>\n",
       "      <td>0</td>\n",
       "      <td>1</td>\n",
       "    </tr>\n",
       "    <tr>\n",
       "      <th>2</th>\n",
       "      <td>0</td>\n",
       "      <td>0</td>\n",
       "      <td>0</td>\n",
       "      <td>0</td>\n",
       "      <td>1</td>\n",
       "      <td>0</td>\n",
       "    </tr>\n",
       "    <tr>\n",
       "      <th>3</th>\n",
       "      <td>0</td>\n",
       "      <td>0</td>\n",
       "      <td>0</td>\n",
       "      <td>0</td>\n",
       "      <td>1</td>\n",
       "      <td>1</td>\n",
       "    </tr>\n",
       "    <tr>\n",
       "      <th>4</th>\n",
       "      <td>0</td>\n",
       "      <td>0</td>\n",
       "      <td>0</td>\n",
       "      <td>1</td>\n",
       "      <td>0</td>\n",
       "      <td>0</td>\n",
       "    </tr>\n",
       "  </tbody>\n",
       "</table>\n",
       "</div>"
      ],
      "text/plain": [
       "   state_dum0  state_dum1  state_dum2  state_dum3  state_dum4  state_dum5\n",
       "0           0           0           0           0           0           0\n",
       "1           0           0           0           0           0           1\n",
       "2           0           0           0           0           1           0\n",
       "3           0           0           0           0           1           1\n",
       "4           0           0           0           1           0           0"
      ]
     },
     "execution_count": 384,
     "metadata": {},
     "output_type": "execute_result"
    }
   ],
   "source": [
    "split_binary_columns2.head()"
   ]
  },
  {
   "cell_type": "code",
   "execution_count": 385,
   "metadata": {
    "collapsed": false
   },
   "outputs": [
    {
     "data": {
      "text/plain": [
       "(227909, 34)"
      ]
     },
     "execution_count": 385,
     "metadata": {},
     "output_type": "execute_result"
    }
   ],
   "source": [
    "loandata_sf_final3.shape"
   ]
  },
  {
   "cell_type": "code",
   "execution_count": 387,
   "metadata": {
    "collapsed": true
   },
   "outputs": [],
   "source": [
    "loandata_sf_final3 = pd.concat((loandata_sf_final3,split_binary_columns2),axis=1)"
   ]
  },
  {
   "cell_type": "code",
   "execution_count": 388,
   "metadata": {
    "collapsed": false
   },
   "outputs": [
    {
     "data": {
      "text/html": [
       "<div>\n",
       "<table border=\"1\" class=\"dataframe\">\n",
       "  <thead>\n",
       "    <tr style=\"text-align: right;\">\n",
       "      <th></th>\n",
       "      <th>loan_amnt</th>\n",
       "      <th>installment</th>\n",
       "      <th>annual_inc</th>\n",
       "      <th>dti</th>\n",
       "      <th>bc_util</th>\n",
       "      <th>bc_open_to_buy</th>\n",
       "      <th>total_bal_ex_mort</th>\n",
       "      <th>acc_open_past_24mths</th>\n",
       "      <th>chargeoff_within_12_mths</th>\n",
       "      <th>delinq_2yrs</th>\n",
       "      <th>...</th>\n",
       "      <th>unemployment_rate</th>\n",
       "      <th>loan_issue_yr_plus3</th>\n",
       "      <th>unemployment_rate_after3yrs</th>\n",
       "      <th>state_binary</th>\n",
       "      <th>state_dum0</th>\n",
       "      <th>state_dum1</th>\n",
       "      <th>state_dum2</th>\n",
       "      <th>state_dum3</th>\n",
       "      <th>state_dum4</th>\n",
       "      <th>state_dum5</th>\n",
       "    </tr>\n",
       "  </thead>\n",
       "  <tbody>\n",
       "    <tr>\n",
       "      <th>0</th>\n",
       "      <td>5000.0</td>\n",
       "      <td>162.87</td>\n",
       "      <td>24000.0</td>\n",
       "      <td>27.65</td>\n",
       "      <td>NaN</td>\n",
       "      <td>NaN</td>\n",
       "      <td>NaN</td>\n",
       "      <td>NaN</td>\n",
       "      <td>0.0</td>\n",
       "      <td>0.0</td>\n",
       "      <td>...</td>\n",
       "      <td>9.5</td>\n",
       "      <td>2014</td>\n",
       "      <td>6.8</td>\n",
       "      <td>000000</td>\n",
       "      <td>0</td>\n",
       "      <td>0</td>\n",
       "      <td>0</td>\n",
       "      <td>0</td>\n",
       "      <td>0</td>\n",
       "      <td>0</td>\n",
       "    </tr>\n",
       "    <tr>\n",
       "      <th>1</th>\n",
       "      <td>12400.0</td>\n",
       "      <td>403.91</td>\n",
       "      <td>41000.0</td>\n",
       "      <td>11.80</td>\n",
       "      <td>NaN</td>\n",
       "      <td>NaN</td>\n",
       "      <td>NaN</td>\n",
       "      <td>NaN</td>\n",
       "      <td>0.0</td>\n",
       "      <td>0.0</td>\n",
       "      <td>...</td>\n",
       "      <td>9.4</td>\n",
       "      <td>2014</td>\n",
       "      <td>6.5</td>\n",
       "      <td>000001</td>\n",
       "      <td>0</td>\n",
       "      <td>0</td>\n",
       "      <td>0</td>\n",
       "      <td>0</td>\n",
       "      <td>0</td>\n",
       "      <td>1</td>\n",
       "    </tr>\n",
       "    <tr>\n",
       "      <th>2</th>\n",
       "      <td>10000.0</td>\n",
       "      <td>215.69</td>\n",
       "      <td>45996.0</td>\n",
       "      <td>21.73</td>\n",
       "      <td>NaN</td>\n",
       "      <td>NaN</td>\n",
       "      <td>NaN</td>\n",
       "      <td>NaN</td>\n",
       "      <td>0.0</td>\n",
       "      <td>0.0</td>\n",
       "      <td>...</td>\n",
       "      <td>8.8</td>\n",
       "      <td>2014</td>\n",
       "      <td>5.8</td>\n",
       "      <td>000010</td>\n",
       "      <td>0</td>\n",
       "      <td>0</td>\n",
       "      <td>0</td>\n",
       "      <td>0</td>\n",
       "      <td>1</td>\n",
       "      <td>0</td>\n",
       "    </tr>\n",
       "    <tr>\n",
       "      <th>3</th>\n",
       "      <td>24000.0</td>\n",
       "      <td>781.76</td>\n",
       "      <td>45000.0</td>\n",
       "      <td>14.80</td>\n",
       "      <td>NaN</td>\n",
       "      <td>NaN</td>\n",
       "      <td>NaN</td>\n",
       "      <td>NaN</td>\n",
       "      <td>0.0</td>\n",
       "      <td>0.0</td>\n",
       "      <td>...</td>\n",
       "      <td>11.7</td>\n",
       "      <td>2014</td>\n",
       "      <td>7.5</td>\n",
       "      <td>000011</td>\n",
       "      <td>0</td>\n",
       "      <td>0</td>\n",
       "      <td>0</td>\n",
       "      <td>0</td>\n",
       "      <td>1</td>\n",
       "      <td>1</td>\n",
       "    </tr>\n",
       "    <tr>\n",
       "      <th>4</th>\n",
       "      <td>7350.0</td>\n",
       "      <td>239.42</td>\n",
       "      <td>48000.0</td>\n",
       "      <td>11.93</td>\n",
       "      <td>NaN</td>\n",
       "      <td>NaN</td>\n",
       "      <td>NaN</td>\n",
       "      <td>NaN</td>\n",
       "      <td>0.0</td>\n",
       "      <td>0.0</td>\n",
       "      <td>...</td>\n",
       "      <td>8.3</td>\n",
       "      <td>2014</td>\n",
       "      <td>6.1</td>\n",
       "      <td>000100</td>\n",
       "      <td>0</td>\n",
       "      <td>0</td>\n",
       "      <td>0</td>\n",
       "      <td>1</td>\n",
       "      <td>0</td>\n",
       "      <td>0</td>\n",
       "    </tr>\n",
       "  </tbody>\n",
       "</table>\n",
       "<p>5 rows × 40 columns</p>\n",
       "</div>"
      ],
      "text/plain": [
       "   loan_amnt  installment  annual_inc    dti  bc_util  bc_open_to_buy  \\\n",
       "0     5000.0       162.87     24000.0  27.65      NaN             NaN   \n",
       "1    12400.0       403.91     41000.0  11.80      NaN             NaN   \n",
       "2    10000.0       215.69     45996.0  21.73      NaN             NaN   \n",
       "3    24000.0       781.76     45000.0  14.80      NaN             NaN   \n",
       "4     7350.0       239.42     48000.0  11.93      NaN             NaN   \n",
       "\n",
       "   total_bal_ex_mort  acc_open_past_24mths  chargeoff_within_12_mths  \\\n",
       "0                NaN                   NaN                       0.0   \n",
       "1                NaN                   NaN                       0.0   \n",
       "2                NaN                   NaN                       0.0   \n",
       "3                NaN                   NaN                       0.0   \n",
       "4                NaN                   NaN                       0.0   \n",
       "\n",
       "   delinq_2yrs    ...      unemployment_rate  loan_issue_yr_plus3  \\\n",
       "0          0.0    ...                    9.5                 2014   \n",
       "1          0.0    ...                    9.4                 2014   \n",
       "2          0.0    ...                    8.8                 2014   \n",
       "3          0.0    ...                   11.7                 2014   \n",
       "4          0.0    ...                    8.3                 2014   \n",
       "\n",
       "   unemployment_rate_after3yrs  state_binary  state_dum0  state_dum1  \\\n",
       "0                          6.8        000000           0           0   \n",
       "1                          6.5        000001           0           0   \n",
       "2                          5.8        000010           0           0   \n",
       "3                          7.5        000011           0           0   \n",
       "4                          6.1        000100           0           0   \n",
       "\n",
       "   state_dum2  state_dum3 state_dum4 state_dum5  \n",
       "0           0           0          0          0  \n",
       "1           0           0          0          1  \n",
       "2           0           0          1          0  \n",
       "3           0           0          1          1  \n",
       "4           0           1          0          0  \n",
       "\n",
       "[5 rows x 40 columns]"
      ]
     },
     "execution_count": 388,
     "metadata": {},
     "output_type": "execute_result"
    }
   ],
   "source": [
    "loandata_sf_final3.head()"
   ]
  },
  {
   "cell_type": "code",
   "execution_count": 391,
   "metadata": {
    "collapsed": false
   },
   "outputs": [
    {
     "data": {
      "text/plain": [
       "pandas.core.series.Series"
      ]
     },
     "execution_count": 391,
     "metadata": {},
     "output_type": "execute_result"
    }
   ],
   "source": [
    "type(loandata_sf_final3.term)"
   ]
  },
  {
   "cell_type": "code",
   "execution_count": 493,
   "metadata": {
    "collapsed": true
   },
   "outputs": [],
   "source": [
    "loandata_sf_final_data = loandata_sf_final3"
   ]
  },
  {
   "cell_type": "code",
   "execution_count": 494,
   "metadata": {
    "collapsed": true
   },
   "outputs": [],
   "source": [
    "del loandata_sf_final_data[\"state_binary\"] \n",
    "del loandata_sf_final_data[\"addr_state\"]\n",
    "del loandata_sf_final_data[\"id\"]"
   ]
  },
  {
   "cell_type": "code",
   "execution_count": 495,
   "metadata": {
    "collapsed": false
   },
   "outputs": [
    {
     "data": {
      "text/plain": [
       "(227909, 37)"
      ]
     },
     "execution_count": 495,
     "metadata": {},
     "output_type": "execute_result"
    }
   ],
   "source": [
    "loandata_sf_final_data.shape"
   ]
  },
  {
   "cell_type": "code",
   "execution_count": 497,
   "metadata": {
    "collapsed": false
   },
   "outputs": [
    {
     "data": {
      "text/html": [
       "<div>\n",
       "<table border=\"1\" class=\"dataframe\">\n",
       "  <thead>\n",
       "    <tr style=\"text-align: right;\">\n",
       "      <th></th>\n",
       "      <th>loan_amnt</th>\n",
       "      <th>installment</th>\n",
       "      <th>annual_inc</th>\n",
       "      <th>dti</th>\n",
       "      <th>bc_util</th>\n",
       "      <th>bc_open_to_buy</th>\n",
       "      <th>total_bal_ex_mort</th>\n",
       "      <th>acc_open_past_24mths</th>\n",
       "      <th>chargeoff_within_12_mths</th>\n",
       "      <th>delinq_2yrs</th>\n",
       "      <th>...</th>\n",
       "      <th>RENT</th>\n",
       "      <th>unemployment_rate</th>\n",
       "      <th>loan_issue_yr_plus3</th>\n",
       "      <th>unemployment_rate_after3yrs</th>\n",
       "      <th>state_dum0</th>\n",
       "      <th>state_dum1</th>\n",
       "      <th>state_dum2</th>\n",
       "      <th>state_dum3</th>\n",
       "      <th>state_dum4</th>\n",
       "      <th>state_dum5</th>\n",
       "    </tr>\n",
       "  </thead>\n",
       "  <tbody>\n",
       "    <tr>\n",
       "      <th>0</th>\n",
       "      <td>5000.0</td>\n",
       "      <td>162.87</td>\n",
       "      <td>24000.0</td>\n",
       "      <td>27.65</td>\n",
       "      <td>NaN</td>\n",
       "      <td>NaN</td>\n",
       "      <td>NaN</td>\n",
       "      <td>NaN</td>\n",
       "      <td>0.0</td>\n",
       "      <td>0.0</td>\n",
       "      <td>...</td>\n",
       "      <td>1.0</td>\n",
       "      <td>9.5</td>\n",
       "      <td>2014</td>\n",
       "      <td>6.8</td>\n",
       "      <td>0</td>\n",
       "      <td>0</td>\n",
       "      <td>0</td>\n",
       "      <td>0</td>\n",
       "      <td>0</td>\n",
       "      <td>0</td>\n",
       "    </tr>\n",
       "    <tr>\n",
       "      <th>1</th>\n",
       "      <td>12400.0</td>\n",
       "      <td>403.91</td>\n",
       "      <td>41000.0</td>\n",
       "      <td>11.80</td>\n",
       "      <td>NaN</td>\n",
       "      <td>NaN</td>\n",
       "      <td>NaN</td>\n",
       "      <td>NaN</td>\n",
       "      <td>0.0</td>\n",
       "      <td>0.0</td>\n",
       "      <td>...</td>\n",
       "      <td>1.0</td>\n",
       "      <td>9.4</td>\n",
       "      <td>2014</td>\n",
       "      <td>6.5</td>\n",
       "      <td>0</td>\n",
       "      <td>0</td>\n",
       "      <td>0</td>\n",
       "      <td>0</td>\n",
       "      <td>0</td>\n",
       "      <td>1</td>\n",
       "    </tr>\n",
       "    <tr>\n",
       "      <th>2</th>\n",
       "      <td>10000.0</td>\n",
       "      <td>215.69</td>\n",
       "      <td>45996.0</td>\n",
       "      <td>21.73</td>\n",
       "      <td>NaN</td>\n",
       "      <td>NaN</td>\n",
       "      <td>NaN</td>\n",
       "      <td>NaN</td>\n",
       "      <td>0.0</td>\n",
       "      <td>0.0</td>\n",
       "      <td>...</td>\n",
       "      <td>1.0</td>\n",
       "      <td>8.8</td>\n",
       "      <td>2014</td>\n",
       "      <td>5.8</td>\n",
       "      <td>0</td>\n",
       "      <td>0</td>\n",
       "      <td>0</td>\n",
       "      <td>0</td>\n",
       "      <td>1</td>\n",
       "      <td>0</td>\n",
       "    </tr>\n",
       "    <tr>\n",
       "      <th>3</th>\n",
       "      <td>24000.0</td>\n",
       "      <td>781.76</td>\n",
       "      <td>45000.0</td>\n",
       "      <td>14.80</td>\n",
       "      <td>NaN</td>\n",
       "      <td>NaN</td>\n",
       "      <td>NaN</td>\n",
       "      <td>NaN</td>\n",
       "      <td>0.0</td>\n",
       "      <td>0.0</td>\n",
       "      <td>...</td>\n",
       "      <td>1.0</td>\n",
       "      <td>11.7</td>\n",
       "      <td>2014</td>\n",
       "      <td>7.5</td>\n",
       "      <td>0</td>\n",
       "      <td>0</td>\n",
       "      <td>0</td>\n",
       "      <td>0</td>\n",
       "      <td>1</td>\n",
       "      <td>1</td>\n",
       "    </tr>\n",
       "    <tr>\n",
       "      <th>4</th>\n",
       "      <td>7350.0</td>\n",
       "      <td>239.42</td>\n",
       "      <td>48000.0</td>\n",
       "      <td>11.93</td>\n",
       "      <td>NaN</td>\n",
       "      <td>NaN</td>\n",
       "      <td>NaN</td>\n",
       "      <td>NaN</td>\n",
       "      <td>0.0</td>\n",
       "      <td>0.0</td>\n",
       "      <td>...</td>\n",
       "      <td>0.0</td>\n",
       "      <td>8.3</td>\n",
       "      <td>2014</td>\n",
       "      <td>6.1</td>\n",
       "      <td>0</td>\n",
       "      <td>0</td>\n",
       "      <td>0</td>\n",
       "      <td>1</td>\n",
       "      <td>0</td>\n",
       "      <td>0</td>\n",
       "    </tr>\n",
       "  </tbody>\n",
       "</table>\n",
       "<p>5 rows × 37 columns</p>\n",
       "</div>"
      ],
      "text/plain": [
       "   loan_amnt  installment  annual_inc    dti  bc_util  bc_open_to_buy  \\\n",
       "0     5000.0       162.87     24000.0  27.65      NaN             NaN   \n",
       "1    12400.0       403.91     41000.0  11.80      NaN             NaN   \n",
       "2    10000.0       215.69     45996.0  21.73      NaN             NaN   \n",
       "3    24000.0       781.76     45000.0  14.80      NaN             NaN   \n",
       "4     7350.0       239.42     48000.0  11.93      NaN             NaN   \n",
       "\n",
       "   total_bal_ex_mort  acc_open_past_24mths  chargeoff_within_12_mths  \\\n",
       "0                NaN                   NaN                       0.0   \n",
       "1                NaN                   NaN                       0.0   \n",
       "2                NaN                   NaN                       0.0   \n",
       "3                NaN                   NaN                       0.0   \n",
       "4                NaN                   NaN                       0.0   \n",
       "\n",
       "   delinq_2yrs     ...      RENT  unemployment_rate  loan_issue_yr_plus3  \\\n",
       "0          0.0     ...       1.0                9.5                 2014   \n",
       "1          0.0     ...       1.0                9.4                 2014   \n",
       "2          0.0     ...       1.0                8.8                 2014   \n",
       "3          0.0     ...       1.0               11.7                 2014   \n",
       "4          0.0     ...       0.0                8.3                 2014   \n",
       "\n",
       "   unemployment_rate_after3yrs  state_dum0  state_dum1  state_dum2  \\\n",
       "0                          6.8           0           0           0   \n",
       "1                          6.5           0           0           0   \n",
       "2                          5.8           0           0           0   \n",
       "3                          7.5           0           0           0   \n",
       "4                          6.1           0           0           0   \n",
       "\n",
       "   state_dum3 state_dum4  state_dum5  \n",
       "0           0          0           0  \n",
       "1           0          0           1  \n",
       "2           0          1           0  \n",
       "3           0          1           1  \n",
       "4           1          0           0  \n",
       "\n",
       "[5 rows x 37 columns]"
      ]
     },
     "execution_count": 497,
     "metadata": {},
     "output_type": "execute_result"
    }
   ],
   "source": [
    "loandata_sf_final_data.head()"
   ]
  },
  {
   "cell_type": "markdown",
   "metadata": {},
   "source": [
    "# Data Null Filling In"
   ]
  },
  {
   "cell_type": "code",
   "execution_count": 499,
   "metadata": {
    "collapsed": false,
    "scrolled": true
   },
   "outputs": [
    {
     "data": {
      "text/plain": [
       "loan_amnt                              0\n",
       "installment                            0\n",
       "annual_inc                             0\n",
       "dti                                    0\n",
       "bc_util                            48897\n",
       "bc_open_to_buy                     48810\n",
       "total_bal_ex_mort                  47281\n",
       "acc_open_past_24mths               47281\n",
       "chargeoff_within_12_mths              56\n",
       "delinq_2yrs                            0\n",
       "mths_since_last_delinq            133271\n",
       "pct_tl_nvr_dlq                     67680\n",
       "num_sats                           55841\n",
       "num_tl_120dpd_2m                   67783\n",
       "num_tl_30dpd                       67527\n",
       "num_tl_90g_dpd_24m                 67527\n",
       "num_accts_ever_120_pd              67527\n",
       "mths_since_recent_revol_delinq    173483\n",
       "term                                   0\n",
       "int_rate                               0\n",
       "credit_score                           0\n",
       "emp_yr                                 0\n",
       "dlq_status                             0\n",
       "loan_issue_yr                          0\n",
       "loan_issue_mon                         0\n",
       "MORTGAGE                               0\n",
       "OWN                                    0\n",
       "RENT                                   0\n",
       "unemployment_rate                   6529\n",
       "loan_issue_yr_plus3                    0\n",
       "unemployment_rate_after3yrs            0\n",
       "state_dum0                             0\n",
       "state_dum1                             0\n",
       "state_dum2                             0\n",
       "state_dum3                             0\n",
       "state_dum4                             0\n",
       "state_dum5                             0\n",
       "dtype: int64"
      ]
     },
     "execution_count": 499,
     "metadata": {},
     "output_type": "execute_result"
    }
   ],
   "source": [
    "# check for number of missing values per column\n",
    "loandata_sf_final_data.isnull().sum()"
   ]
  },
  {
   "cell_type": "code",
   "execution_count": 396,
   "metadata": {
    "collapsed": false
   },
   "outputs": [
    {
     "name": "stdout",
     "output_type": "stream",
     "text": [
      "Fraction of data kept:\n",
      "0.213115761115\n"
     ]
    }
   ],
   "source": [
    "loandata_sf_final_nonnull = loandata_sf_final_data.dropna()\n",
    "print \"Fraction of data kept:\\n\",float(loandata_sf_final_nonnull.shape[0])/loandata_sf_final_data.shape[0]"
   ]
  },
  {
   "cell_type": "code",
   "execution_count": 399,
   "metadata": {
    "collapsed": false
   },
   "outputs": [
    {
     "data": {
      "text/plain": [
       "(48571, 36)"
      ]
     },
     "execution_count": 399,
     "metadata": {},
     "output_type": "execute_result"
    }
   ],
   "source": [
    "loandata_sf_final_nonnull.shape"
   ]
  },
  {
   "cell_type": "code",
   "execution_count": 503,
   "metadata": {
    "collapsed": true
   },
   "outputs": [],
   "source": [
    "mean_fill_columns = [\"unemployment_rate\", \"num_sats\", \"bc_open_to_buy\", \"bc_util\", \"pct_tl_nvr_dlq\", \"acc_open_past_24mths\"]\n",
    "zero_fill_columns = [\"total_bal_ex_mort\",\"chargeoff_within_12_mths\",\"delinq_2yrs\",\"num_tl_120dpd_2m\",\n",
    "                     \"num_tl_30dpd\",\"num_tl_90g_dpd_24m\",\"num_accts_ever_120_pd\"]"
   ]
  },
  {
   "cell_type": "code",
   "execution_count": 504,
   "metadata": {
    "collapsed": false
   },
   "outputs": [
    {
     "data": {
      "text/plain": [
       "total_bal_ex_mort           float64\n",
       "chargeoff_within_12_mths    float64\n",
       "delinq_2yrs                 float64\n",
       "num_tl_120dpd_2m            float64\n",
       "num_tl_30dpd                float64\n",
       "num_tl_90g_dpd_24m          float64\n",
       "num_accts_ever_120_pd       float64\n",
       "dtype: object"
      ]
     },
     "execution_count": 504,
     "metadata": {},
     "output_type": "execute_result"
    }
   ],
   "source": [
    "# Numeric Value na filling with zero\n",
    "default_value_per_column = loandata_sf_final_data[zero_fill_columns].fillna(0.0)\n",
    "default_value_per_column.head()\n",
    "default_value_per_column.isnull().sum()\n",
    "default_value_per_column.dtypes"
   ]
  },
  {
   "cell_type": "code",
   "execution_count": 505,
   "metadata": {
    "collapsed": false
   },
   "outputs": [
    {
     "name": "stdout",
     "output_type": "stream",
     "text": [
      "Mean value per column:\n",
      "unemployment_rate          8.001747\n",
      "num_sats                  11.085617\n",
      "bc_open_to_buy          8264.036231\n",
      "bc_util                   66.829415\n",
      "pct_tl_nvr_dlq            95.399550\n",
      "acc_open_past_24mths       3.929529\n",
      "dtype: float64\n"
     ]
    },
    {
     "data": {
      "text/plain": [
       "unemployment_rate       0\n",
       "num_sats                0\n",
       "bc_open_to_buy          0\n",
       "bc_util                 0\n",
       "pct_tl_nvr_dlq          0\n",
       "acc_open_past_24mths    0\n",
       "dtype: int64"
      ]
     },
     "execution_count": 505,
     "metadata": {},
     "output_type": "execute_result"
    }
   ],
   "source": [
    "# Mean filled column\n",
    "mean_per_column = loandata_sf_final_data[mean_fill_columns].apply(lambda x: x.mean(),axis=0)\n",
    "print \"Mean value per column:\\n\", mean_per_column\n",
    "numeric_mean_filled = loandata_sf_final_data[mean_fill_columns].fillna(mean_per_column,axis=0)\n",
    "numeric_mean_filled.head()\n",
    "numeric_mean_filled.isnull().sum()"
   ]
  },
  {
   "cell_type": "code",
   "execution_count": 506,
   "metadata": {
    "collapsed": false
   },
   "outputs": [
    {
     "data": {
      "text/plain": [
       "unemployment_rate       0\n",
       "num_sats                0\n",
       "bc_open_to_buy          0\n",
       "bc_util                 0\n",
       "pct_tl_nvr_dlq          0\n",
       "acc_open_past_24mths    0\n",
       "dtype: int64"
      ]
     },
     "execution_count": 506,
     "metadata": {},
     "output_type": "execute_result"
    }
   ],
   "source": [
    "numeric_mean_filled.isnull().sum()"
   ]
  },
  {
   "cell_type": "code",
   "execution_count": 507,
   "metadata": {
    "collapsed": true
   },
   "outputs": [],
   "source": [
    "##delinquencies - Filling in huge value - 1000 for  null mths_since_last_delinq\n",
    "loandata_sf_final_data['mths_since_last_delinq'] = [1000 if pd.isnull(x) else x for x in loandata_sf_final_data['mths_since_last_delinq']]\n",
    "\n",
    "##delinquencies - Filling in huge value - 1000 for  mths_since_recent_revol_delinq\n",
    "loandata_sf_final_data['mths_since_recent_revol_delinq'] = [1000 if pd.isnull(x) else x for x in loandata_sf_final_data['mths_since_recent_revol_delinq']]\n"
   ]
  },
  {
   "cell_type": "code",
   "execution_count": 132,
   "metadata": {
    "collapsed": false
   },
   "outputs": [
    {
     "data": {
      "text/plain": [
       "(227909, 37)"
      ]
     },
     "execution_count": 132,
     "metadata": {},
     "output_type": "execute_result"
    }
   ],
   "source": [
    "loandata_sf_final_filled.shape"
   ]
  },
  {
   "cell_type": "code",
   "execution_count": 508,
   "metadata": {
    "collapsed": false
   },
   "outputs": [
    {
     "data": {
      "text/plain": [
       "loan_amnt                         0\n",
       "installment                       0\n",
       "annual_inc                        0\n",
       "dti                               0\n",
       "bc_util                           0\n",
       "bc_open_to_buy                    0\n",
       "total_bal_ex_mort                 0\n",
       "acc_open_past_24mths              0\n",
       "chargeoff_within_12_mths          0\n",
       "delinq_2yrs                       0\n",
       "mths_since_last_delinq            0\n",
       "pct_tl_nvr_dlq                    0\n",
       "num_sats                          0\n",
       "num_tl_120dpd_2m                  0\n",
       "num_tl_30dpd                      0\n",
       "num_tl_90g_dpd_24m                0\n",
       "num_accts_ever_120_pd             0\n",
       "mths_since_recent_revol_delinq    0\n",
       "term                              0\n",
       "int_rate                          0\n",
       "credit_score                      0\n",
       "emp_yr                            0\n",
       "dlq_status                        0\n",
       "loan_issue_yr                     0\n",
       "loan_issue_mon                    0\n",
       "MORTGAGE                          0\n",
       "OWN                               0\n",
       "RENT                              0\n",
       "unemployment_rate                 0\n",
       "loan_issue_yr_plus3               0\n",
       "unemployment_rate_after3yrs       0\n",
       "state_dum0                        0\n",
       "state_dum1                        0\n",
       "state_dum2                        0\n",
       "state_dum3                        0\n",
       "state_dum4                        0\n",
       "state_dum5                        0\n",
       "dtype: int64"
      ]
     },
     "execution_count": 508,
     "metadata": {},
     "output_type": "execute_result"
    }
   ],
   "source": [
    "loandata_sf_final_filled =  loandata_sf_final_data.copy()\n",
    "loandata_sf_final_filled[zero_fill_columns] = default_value_per_column\n",
    "loandata_sf_final_filled[mean_fill_columns] = numeric_mean_filled\n",
    "loandata_sf_final_filled.isnull().sum()"
   ]
  },
  {
   "cell_type": "code",
   "execution_count": 509,
   "metadata": {
    "collapsed": true
   },
   "outputs": [],
   "source": [
    "loandata_sf_final_filled[\"change_in_umempl_3yrs\"] = loandata_sf_final_filled.unemployment_rate_after3yrs - loandata_sf_final_filled.unemployment_rate"
   ]
  },
  {
   "cell_type": "code",
   "execution_count": null,
   "metadata": {
    "collapsed": true
   },
   "outputs": [],
   "source": [
    "loandata_sf_final_filled.columns.tolist"
   ]
  },
  {
   "cell_type": "markdown",
   "metadata": {},
   "source": [
    "# And finally now the Analysis Starts....."
   ]
  },
  {
   "cell_type": "code",
   "execution_count": 510,
   "metadata": {
    "collapsed": false
   },
   "outputs": [
    {
     "data": {
      "text/plain": [
       "<matplotlib.text.Text at 0x12e523748>"
      ]
     },
     "execution_count": 510,
     "metadata": {},
     "output_type": "execute_result"
    },
    {
     "data": {
      "image/png": "[encoded data removed]",
      "text/plain": [
       "<matplotlib.figure.Figure at 0xfa47c048>"
      ]
     },
     "metadata": {},
     "output_type": "display_data"
    }
   ],
   "source": [
    "LoanCounts = loandata_sf_final_filled.loan_issue_yr.value_counts()\n",
    "LoanCounts.plot(kind='bar', title=\"Loan Count by Loan Issue Year\")\n",
    "plt.ylabel(\"Year\")\n",
    "plt.xlabel(\"No of Loans\")"
   ]
  },
  {
   "cell_type": "code",
   "execution_count": 511,
   "metadata": {
    "collapsed": false
   },
   "outputs": [
    {
     "data": {
      "text/plain": [
       "<matplotlib.text.Text at 0x129c8f400>"
      ]
     },
     "execution_count": 511,
     "metadata": {},
     "output_type": "execute_result"
    },
    {
     "data": {
      "image/png": "[encoded data removed]",
      "text/plain": [
       "<matplotlib.figure.Figure at 0x12623fa58>"
      ]
     },
     "metadata": {},
     "output_type": "display_data"
    }
   ],
   "source": [
    "loandata_sf_final_filled.credit_score.hist(bins=10)\n",
    "plt.title(\"Credit Score Distribution\")\n",
    "plt.ylabel(\"Number of Loans\")\n",
    "plt.xlabel(\"Credit Score\")"
   ]
  },
  {
   "cell_type": "code",
   "execution_count": 512,
   "metadata": {
    "collapsed": false
   },
   "outputs": [
    {
     "data": {
      "text/plain": [
       "<matplotlib.text.Text at 0x129c800f0>"
      ]
     },
     "execution_count": 512,
     "metadata": {},
     "output_type": "execute_result"
    },
    {
     "data": {
      "image/png": "[encoded data removed]",
      "text/plain": [
       "<matplotlib.figure.Figure at 0x1285855f8>"
      ]
     },
     "metadata": {},
     "output_type": "display_data"
    }
   ],
   "source": [
    "loandata_sf_final_filled.dti.hist(bins=10)\n",
    "plt.title(\"DTI Distribution\")\n",
    "plt.ylabel(\"Number of Loans\")\n",
    "plt.xlabel(\"DTI\")"
   ]
  },
  {
   "cell_type": "code",
   "execution_count": 513,
   "metadata": {
    "collapsed": false
   },
   "outputs": [
    {
     "data": {
      "text/plain": [
       "<matplotlib.text.Text at 0x129c8f390>"
      ]
     },
     "execution_count": 513,
     "metadata": {},
     "output_type": "execute_result"
    },
    {
     "data": {
      "image/png": "[encoded data removed]",
      "text/plain": [
       "<matplotlib.figure.Figure at 0x125bd3588>"
      ]
     },
     "metadata": {},
     "output_type": "display_data"
    }
   ],
   "source": [
    "loandata_sf_final_filled.loan_amnt.hist(bins=10)\n",
    "plt.title(\"Loan Amt Distribution\")\n",
    "plt.ylabel(\"Number of Loans\")\n",
    "plt.xlabel(\"Loan Amt\")"
   ]
  },
  {
   "cell_type": "code",
   "execution_count": 514,
   "metadata": {
    "collapsed": false
   },
   "outputs": [
    {
     "name": "stdout",
     "output_type": "stream",
     "text": [
      "dlq_status\n",
      "0    196228\n",
      "1     31681\n",
      "dtype: int64\n"
     ]
    }
   ],
   "source": [
    "dlq_status_grp = loandata_sf_final_filled.groupby(\"dlq_status\")\n",
    "print dlq_status_grp.size()"
   ]
  },
  {
   "cell_type": "code",
   "execution_count": 525,
   "metadata": {
    "collapsed": false
   },
   "outputs": [
    {
     "name": "stdout",
     "output_type": "stream",
     "text": [
      "Delq_Rate: 0.139007235344\n"
     ]
    }
   ],
   "source": [
    "print 'Delq_Rate:', 31681.0/(196228.0 + 31681.0)"
   ]
  },
  {
   "cell_type": "code",
   "execution_count": 523,
   "metadata": {
    "collapsed": false
   },
   "outputs": [],
   "source": [
    "loandata_sf_final_filled.to_csv(\"..//data//loandata_sf_final_filled.csv\")"
   ]
  },
  {
   "cell_type": "markdown",
   "metadata": {},
   "source": [
    "# Correlation and Heatmap"
   ]
  },
  {
   "cell_type": "code",
   "execution_count": 3,
   "metadata": {
    "collapsed": true
   },
   "outputs": [],
   "source": [
    "# Read loan details files saved to the local harddrive\n",
    "loandata_sf_final_filled = pd.read_csv(\"..//data//loandata_sf_final_filled.csv\")"
   ]
  },
  {
   "cell_type": "code",
   "execution_count": 10,
   "metadata": {
    "collapsed": false
   },
   "outputs": [
    {
     "data": {
      "text/html": [
       "<div>\n",
       "<table border=\"1\" class=\"dataframe\">\n",
       "  <thead>\n",
       "    <tr style=\"text-align: right;\">\n",
       "      <th></th>\n",
       "      <th>loan_amnt</th>\n",
       "      <th>installment</th>\n",
       "      <th>annual_inc</th>\n",
       "      <th>dti</th>\n",
       "      <th>bc_util</th>\n",
       "      <th>bc_open_to_buy</th>\n",
       "      <th>total_bal_ex_mort</th>\n",
       "      <th>acc_open_past_24mths</th>\n",
       "      <th>chargeoff_within_12_mths</th>\n",
       "      <th>delinq_2yrs</th>\n",
       "      <th>...</th>\n",
       "      <th>unemployment_rate</th>\n",
       "      <th>loan_issue_yr_plus3</th>\n",
       "      <th>unemployment_rate_after3yrs</th>\n",
       "      <th>state_dum0</th>\n",
       "      <th>state_dum1</th>\n",
       "      <th>state_dum2</th>\n",
       "      <th>state_dum3</th>\n",
       "      <th>state_dum4</th>\n",
       "      <th>state_dum5</th>\n",
       "      <th>change_in_umempl_3yrs</th>\n",
       "    </tr>\n",
       "  </thead>\n",
       "  <tbody>\n",
       "    <tr>\n",
       "      <th>0</th>\n",
       "      <td>5000.0</td>\n",
       "      <td>162.87</td>\n",
       "      <td>24000.0</td>\n",
       "      <td>27.65</td>\n",
       "      <td>66.829415</td>\n",
       "      <td>8264.036231</td>\n",
       "      <td>0.0</td>\n",
       "      <td>3.929529</td>\n",
       "      <td>0.0</td>\n",
       "      <td>0.0</td>\n",
       "      <td>...</td>\n",
       "      <td>9.5</td>\n",
       "      <td>2014</td>\n",
       "      <td>6.8</td>\n",
       "      <td>0</td>\n",
       "      <td>0</td>\n",
       "      <td>0</td>\n",
       "      <td>0</td>\n",
       "      <td>0</td>\n",
       "      <td>0</td>\n",
       "      <td>-2.7</td>\n",
       "    </tr>\n",
       "    <tr>\n",
       "      <th>1</th>\n",
       "      <td>12400.0</td>\n",
       "      <td>403.91</td>\n",
       "      <td>41000.0</td>\n",
       "      <td>11.80</td>\n",
       "      <td>66.829415</td>\n",
       "      <td>8264.036231</td>\n",
       "      <td>0.0</td>\n",
       "      <td>3.929529</td>\n",
       "      <td>0.0</td>\n",
       "      <td>0.0</td>\n",
       "      <td>...</td>\n",
       "      <td>9.4</td>\n",
       "      <td>2014</td>\n",
       "      <td>6.5</td>\n",
       "      <td>0</td>\n",
       "      <td>0</td>\n",
       "      <td>0</td>\n",
       "      <td>0</td>\n",
       "      <td>0</td>\n",
       "      <td>1</td>\n",
       "      <td>-2.9</td>\n",
       "    </tr>\n",
       "    <tr>\n",
       "      <th>2</th>\n",
       "      <td>10000.0</td>\n",
       "      <td>215.69</td>\n",
       "      <td>45996.0</td>\n",
       "      <td>21.73</td>\n",
       "      <td>66.829415</td>\n",
       "      <td>8264.036231</td>\n",
       "      <td>0.0</td>\n",
       "      <td>3.929529</td>\n",
       "      <td>0.0</td>\n",
       "      <td>0.0</td>\n",
       "      <td>...</td>\n",
       "      <td>8.8</td>\n",
       "      <td>2014</td>\n",
       "      <td>5.8</td>\n",
       "      <td>0</td>\n",
       "      <td>0</td>\n",
       "      <td>0</td>\n",
       "      <td>0</td>\n",
       "      <td>1</td>\n",
       "      <td>0</td>\n",
       "      <td>-3.0</td>\n",
       "    </tr>\n",
       "    <tr>\n",
       "      <th>3</th>\n",
       "      <td>24000.0</td>\n",
       "      <td>781.76</td>\n",
       "      <td>45000.0</td>\n",
       "      <td>14.80</td>\n",
       "      <td>66.829415</td>\n",
       "      <td>8264.036231</td>\n",
       "      <td>0.0</td>\n",
       "      <td>3.929529</td>\n",
       "      <td>0.0</td>\n",
       "      <td>0.0</td>\n",
       "      <td>...</td>\n",
       "      <td>11.7</td>\n",
       "      <td>2014</td>\n",
       "      <td>7.5</td>\n",
       "      <td>0</td>\n",
       "      <td>0</td>\n",
       "      <td>0</td>\n",
       "      <td>0</td>\n",
       "      <td>1</td>\n",
       "      <td>1</td>\n",
       "      <td>-4.2</td>\n",
       "    </tr>\n",
       "    <tr>\n",
       "      <th>4</th>\n",
       "      <td>7350.0</td>\n",
       "      <td>239.42</td>\n",
       "      <td>48000.0</td>\n",
       "      <td>11.93</td>\n",
       "      <td>66.829415</td>\n",
       "      <td>8264.036231</td>\n",
       "      <td>0.0</td>\n",
       "      <td>3.929529</td>\n",
       "      <td>0.0</td>\n",
       "      <td>0.0</td>\n",
       "      <td>...</td>\n",
       "      <td>8.3</td>\n",
       "      <td>2014</td>\n",
       "      <td>6.1</td>\n",
       "      <td>0</td>\n",
       "      <td>0</td>\n",
       "      <td>0</td>\n",
       "      <td>1</td>\n",
       "      <td>0</td>\n",
       "      <td>0</td>\n",
       "      <td>-2.2</td>\n",
       "    </tr>\n",
       "  </tbody>\n",
       "</table>\n",
       "<p>5 rows × 37 columns</p>\n",
       "</div>"
      ],
      "text/plain": [
       "   loan_amnt  installment  annual_inc    dti    bc_util  bc_open_to_buy  \\\n",
       "0     5000.0       162.87     24000.0  27.65  66.829415     8264.036231   \n",
       "1    12400.0       403.91     41000.0  11.80  66.829415     8264.036231   \n",
       "2    10000.0       215.69     45996.0  21.73  66.829415     8264.036231   \n",
       "3    24000.0       781.76     45000.0  14.80  66.829415     8264.036231   \n",
       "4     7350.0       239.42     48000.0  11.93  66.829415     8264.036231   \n",
       "\n",
       "   total_bal_ex_mort  acc_open_past_24mths  chargeoff_within_12_mths  \\\n",
       "0                0.0              3.929529                       0.0   \n",
       "1                0.0              3.929529                       0.0   \n",
       "2                0.0              3.929529                       0.0   \n",
       "3                0.0              3.929529                       0.0   \n",
       "4                0.0              3.929529                       0.0   \n",
       "\n",
       "   delinq_2yrs          ...            unemployment_rate  loan_issue_yr_plus3  \\\n",
       "0          0.0          ...                          9.5                 2014   \n",
       "1          0.0          ...                          9.4                 2014   \n",
       "2          0.0          ...                          8.8                 2014   \n",
       "3          0.0          ...                         11.7                 2014   \n",
       "4          0.0          ...                          8.3                 2014   \n",
       "\n",
       "   unemployment_rate_after3yrs  state_dum0  state_dum1  state_dum2  \\\n",
       "0                          6.8           0           0           0   \n",
       "1                          6.5           0           0           0   \n",
       "2                          5.8           0           0           0   \n",
       "3                          7.5           0           0           0   \n",
       "4                          6.1           0           0           0   \n",
       "\n",
       "   state_dum3  state_dum4  state_dum5  change_in_umempl_3yrs  \n",
       "0           0           0           0                   -2.7  \n",
       "1           0           0           1                   -2.9  \n",
       "2           0           1           0                   -3.0  \n",
       "3           0           1           1                   -4.2  \n",
       "4           1           0           0                   -2.2  \n",
       "\n",
       "[5 rows x 37 columns]"
      ]
     },
     "execution_count": 10,
     "metadata": {},
     "output_type": "execute_result"
    }
   ],
   "source": [
    "loandata_sf_final_filled.head()"
   ]
  },
  {
   "cell_type": "code",
   "execution_count": 5,
   "metadata": {
    "collapsed": false
   },
   "outputs": [],
   "source": [
    "loandata_sf_final_filled.drop(\"loan_issue_mon\", axis=1, inplace=True)"
   ]
  },
  {
   "cell_type": "code",
   "execution_count": 8,
   "metadata": {
    "collapsed": false
   },
   "outputs": [],
   "source": [
    "loandata_sf_final_filled.drop(\"Unnamed: 0\", axis=1, inplace=True)"
   ]
  },
  {
   "cell_type": "code",
   "execution_count": 526,
   "metadata": {
    "collapsed": false
   },
   "outputs": [
    {
     "data": {
      "text/html": [
       "<div>\n",
       "<table border=\"1\" class=\"dataframe\">\n",
       "  <thead>\n",
       "    <tr style=\"text-align: right;\">\n",
       "      <th></th>\n",
       "      <th>annual_inc</th>\n",
       "      <th>dti</th>\n",
       "      <th>bc_util</th>\n",
       "      <th>int_rate</th>\n",
       "      <th>credit_score</th>\n",
       "      <th>dlq_status</th>\n",
       "    </tr>\n",
       "  </thead>\n",
       "  <tbody>\n",
       "    <tr>\n",
       "      <th>0</th>\n",
       "      <td>24000.0</td>\n",
       "      <td>27.65</td>\n",
       "      <td>66.829415</td>\n",
       "      <td>0.1065</td>\n",
       "      <td>790</td>\n",
       "      <td>0</td>\n",
       "    </tr>\n",
       "    <tr>\n",
       "      <th>1</th>\n",
       "      <td>41000.0</td>\n",
       "      <td>11.80</td>\n",
       "      <td>66.829415</td>\n",
       "      <td>0.1065</td>\n",
       "      <td>790</td>\n",
       "      <td>0</td>\n",
       "    </tr>\n",
       "    <tr>\n",
       "      <th>2</th>\n",
       "      <td>45996.0</td>\n",
       "      <td>21.73</td>\n",
       "      <td>66.829415</td>\n",
       "      <td>0.1065</td>\n",
       "      <td>790</td>\n",
       "      <td>1</td>\n",
       "    </tr>\n",
       "    <tr>\n",
       "      <th>3</th>\n",
       "      <td>45000.0</td>\n",
       "      <td>14.80</td>\n",
       "      <td>66.829415</td>\n",
       "      <td>0.1065</td>\n",
       "      <td>790</td>\n",
       "      <td>0</td>\n",
       "    </tr>\n",
       "    <tr>\n",
       "      <th>4</th>\n",
       "      <td>48000.0</td>\n",
       "      <td>11.93</td>\n",
       "      <td>66.829415</td>\n",
       "      <td>0.1065</td>\n",
       "      <td>790</td>\n",
       "      <td>0</td>\n",
       "    </tr>\n",
       "  </tbody>\n",
       "</table>\n",
       "</div>"
      ],
      "text/plain": [
       "   annual_inc    dti    bc_util  int_rate  credit_score  dlq_status\n",
       "0     24000.0  27.65  66.829415    0.1065           790           0\n",
       "1     41000.0  11.80  66.829415    0.1065           790           0\n",
       "2     45996.0  21.73  66.829415    0.1065           790           1\n",
       "3     45000.0  14.80  66.829415    0.1065           790           0\n",
       "4     48000.0  11.93  66.829415    0.1065           790           0"
      ]
     },
     "execution_count": 526,
     "metadata": {},
     "output_type": "execute_result"
    }
   ],
   "source": [
    "few_feature_selected = ['annual_inc', 'dti', 'bc_util','int_rate', 'credit_score', 'dlq_status']\n",
    "loandata_few_features = loandata_sf_final_filled[few_feature_selected ]\n",
    "loandata_few_features.head()"
   ]
  },
  {
   "cell_type": "code",
   "execution_count": 416,
   "metadata": {
    "collapsed": false
   },
   "outputs": [
    {
     "name": "stdout",
     "output_type": "stream",
     "text": [
      " Correlation: \n",
      "[[ 1.     -0.1736  0.0078 -0.007  -0.0043 -0.0527]\n",
      " [-0.1736  1.      0.2695  0.1738 -0.1363  0.0641]\n",
      " [ 0.0078  0.2695  1.      0.3718 -0.2459  0.0268]\n",
      " [-0.007   0.1738  0.3718  1.     -0.9692  0.1774]\n",
      " [-0.0043 -0.1363 -0.2459 -0.9692  1.     -0.1829]\n",
      " [-0.0527  0.0641  0.0268  0.1774 -0.1829  1.    ]]\n"
     ]
    },
    {
     "data": {
      "text/plain": [
       "<matplotlib.axes._subplots.AxesSubplot at 0xfb5a7ac8>"
      ]
     },
     "execution_count": 416,
     "metadata": {},
     "output_type": "execute_result"
    },
    {
     "data": {
      "image/png": "[encoded data removed]",
      "text/plain": [
       "<matplotlib.figure.Figure at 0xfb5a7630>"
      ]
     },
     "metadata": {},
     "output_type": "display_data"
    }
   ],
   "source": [
    "# loandata_few_features_cov = np.cov(loandata_few_features.T)\n",
    "loandata_few_features_corr = np.corrcoef(loandata_few_features.T)\n",
    "\n",
    "# print \"Covariance: \\n\", loandata_few_features_cov\n",
    "print \" Correlation: \\n\", loandata_few_features_corr\n",
    "\n",
    "sns.heatmap(loandata_few_features_corr)"
   ]
  },
  {
   "cell_type": "code",
   "execution_count": 527,
   "metadata": {
    "collapsed": false
   },
   "outputs": [
    {
     "data": {
      "text/plain": [
       "-0.98088171341433561"
      ]
     },
     "execution_count": 527,
     "metadata": {},
     "output_type": "execute_result"
    }
   ],
   "source": [
    "loandata_few_features.credit_score.corr(loandata_few_features.int_rate, method=\"spearman\")"
   ]
  },
  {
   "cell_type": "code",
   "execution_count": 528,
   "metadata": {
    "collapsed": false
   },
   "outputs": [
    {
     "data": {
      "text/plain": [
       "-0.17961277701978356"
      ]
     },
     "execution_count": 528,
     "metadata": {},
     "output_type": "execute_result"
    }
   ],
   "source": [
    "loandata_few_features.credit_score.corr(loandata_few_features.dlq_status, method=\"spearman\")"
   ]
  },
  {
   "cell_type": "markdown",
   "metadata": {},
   "source": [
    "# Linear Regression to Predict Interest Rate"
   ]
  },
  {
   "cell_type": "code",
   "execution_count": 529,
   "metadata": {
    "collapsed": false
   },
   "outputs": [
    {
     "data": {
      "text/plain": [
       "<seaborn.axisgrid.PairGrid at 0x123ee2c50>"
      ]
     },
     "execution_count": 529,
     "metadata": {},
     "output_type": "execute_result"
    },
    {
     "data": {
      "image/png": "[encoded data removed]",
      "text/plain": [
       "<matplotlib.figure.Figure at 0x123ec2320>"
      ]
     },
     "metadata": {},
     "output_type": "display_data"
    }
   ],
   "source": [
    "sns.pairplot(loandata_sf_final_filled, x_vars=['credit_score','dti','num_tl_90g_dpd_24m'], y_vars='int_rate', size=6, aspect=0.8, kind='reg')"
   ]
  },
  {
   "cell_type": "code",
   "execution_count": 538,
   "metadata": {
    "collapsed": false
   },
   "outputs": [
    {
     "name": "stdout",
     "output_type": "stream",
     "text": [
      "The y intercept: 0.62861918446\n",
      "The single coefficient: [-0.0007]\n"
     ]
    }
   ],
   "source": [
    "# create X and y\n",
    "feature_cols = ['credit_score']\n",
    "X = loandata_sf_final_filled[feature_cols]\n",
    "y = loandata_sf_final_filled.int_rate\n",
    "\n",
    "# instantiate and fit\n",
    "int_rate_linreg = LinearRegression()\n",
    "int_rate_linreg.fit(X, y)\n",
    "\n",
    "# print the coefficients\n",
    "print \"The y intercept:\", int_rate_linreg.intercept_\n",
    "print \"The single coefficient:\", int_rate_linreg.coef_"
   ]
  },
  {
   "cell_type": "code",
   "execution_count": 540,
   "metadata": {
    "collapsed": false
   },
   "outputs": [
    {
     "data": {
      "text/plain": [
       "array([ 0.0691])"
      ]
     },
     "execution_count": 540,
     "metadata": {},
     "output_type": "execute_result"
    }
   ],
   "source": [
    "int_rate_linreg.predict(850)"
   ]
  },
  {
   "cell_type": "code",
   "execution_count": 541,
   "metadata": {
    "collapsed": false
   },
   "outputs": [
    {
     "data": {
      "text/plain": [
       "array([ 0.1678])"
      ]
     },
     "execution_count": 541,
     "metadata": {},
     "output_type": "execute_result"
    }
   ],
   "source": [
    "int_rate_linreg.predict(700)"
   ]
  },
  {
   "cell_type": "markdown",
   "metadata": {},
   "source": [
    "# Logistic Regression to Predict Deliquency Status"
   ]
  },
  {
   "cell_type": "code",
   "execution_count": 542,
   "metadata": {
    "collapsed": false
   },
   "outputs": [
    {
     "data": {
      "text/plain": [
       "<seaborn.axisgrid.PairGrid at 0x121081400>"
      ]
     },
     "execution_count": 542,
     "metadata": {},
     "output_type": "execute_result"
    },
    {
     "data": {
      "image/png": "[encoded data removed]",
      "text/plain": [
       "<matplotlib.figure.Figure at 0x1210813c8>"
      ]
     },
     "metadata": {},
     "output_type": "display_data"
    }
   ],
   "source": [
    "sns.pairplot(loandata_sf_final_filled, x_vars=['credit_score'],y_vars='dlq_status', size=6, aspect=0.8)"
   ]
  },
  {
   "cell_type": "code",
   "execution_count": 15,
   "metadata": {
    "collapsed": false
   },
   "outputs": [],
   "source": [
    "feature_list_all = loandata_sf_final_filled.columns.tolist"
   ]
  },
  {
   "cell_type": "code",
   "execution_count": 17,
   "metadata": {
    "collapsed": true
   },
   "outputs": [],
   "source": [
    "new_feature_list_all = ['loan_amnt', 'installment', 'annual_inc', 'dti', 'bc_util',\n",
    "       'bc_open_to_buy', 'total_bal_ex_mort', 'acc_open_past_24mths',\n",
    "       'chargeoff_within_12_mths', 'delinq_2yrs', 'mths_since_last_delinq',\n",
    "       'pct_tl_nvr_dlq', 'num_sats', 'num_tl_120dpd_2m', 'num_tl_30dpd',\n",
    "       'num_tl_90g_dpd_24m', 'num_accts_ever_120_pd',\n",
    "       'mths_since_recent_revol_delinq', 'term', 'int_rate',\n",
    "       'credit_score', 'emp_yr', 'loan_issue_yr',\n",
    "       'MORTGAGE', 'OWN', 'RENT', 'unemployment_rate',\n",
    "       'loan_issue_yr_plus3', 'unemployment_rate_after3yrs', 'state_dum0',\n",
    "       'state_dum1', 'state_dum2', 'state_dum3', 'state_dum4',\n",
    "       'state_dum5', 'change_in_umempl_3yrs','dlq_status']"
   ]
  },
  {
   "cell_type": "code",
   "execution_count": 18,
   "metadata": {
    "collapsed": true
   },
   "outputs": [],
   "source": [
    "loandata_sf_final_filled = loandata_sf_final_filled[new_feature_list_all]"
   ]
  },
  {
   "cell_type": "code",
   "execution_count": 35,
   "metadata": {
    "collapsed": false
   },
   "outputs": [],
   "source": [
    "x_feature_list = loandata_sf_final_filled.columns.tolist()[:-1]"
   ]
  },
  {
   "cell_type": "code",
   "execution_count": 37,
   "metadata": {
    "collapsed": true
   },
   "outputs": [],
   "source": [
    "# create X and y\n",
    "X = loandata_sf_final_filled[x_feature_list]\n",
    "y = loandata_sf_final_filled.dlq_status"
   ]
  },
  {
   "cell_type": "code",
   "execution_count": 59,
   "metadata": {
    "collapsed": false
   },
   "outputs": [
    {
     "name": "stdout",
     "output_type": "stream",
     "text": [
      " Model accuracy: 0.858803913826\n"
     ]
    }
   ],
   "source": [
    "# Train & Test\n",
    "X_train, X_test, y_train, y_test = train_test_split(X,y,test_size=0.3)\n",
    "\n",
    "# instantiate and fit LogisticRegression\n",
    "logreg = LogisticRegression(C=1e9)\n",
    "logreg.fit(X_train,y_train)\n",
    "print \"Model accuracy:\", metrics.accuracy_score(y_test,logreg.predict(X_test))\n",
    "\n",
    "outcome_pred_class_log = logreg.predict(X)\n",
    "\n",
    "# for val in zip(x_feature_list, logreg.coef_[0]):\n",
    "#     print val"
   ]
  },
  {
   "cell_type": "code",
   "execution_count": 60,
   "metadata": {
    "collapsed": false
   },
   "outputs": [
    {
     "data": {
      "text/plain": [
       "array([0, 0, 0, ..., 0, 0, 0], dtype=int64)"
      ]
     },
     "execution_count": 60,
     "metadata": {},
     "output_type": "execute_result"
    }
   ],
   "source": [
    "# print the class predictions\n",
    "outcome_pred_class_log"
   ]
  },
  {
   "cell_type": "markdown",
   "metadata": {},
   "source": [
    "# Random Forest Classifier to Predict Deliquency Status"
   ]
  },
  {
   "cell_type": "code",
   "execution_count": 62,
   "metadata": {
    "collapsed": false
   },
   "outputs": [
    {
     "name": "stdout",
     "output_type": "stream",
     "text": [
      "Test set accuracy:  0.967808930426\n"
     ]
    }
   ],
   "source": [
    "# Fitting Random Forest\n",
    "rf_dql_status = RandomForestClassifier(n_estimators = 100)\n",
    "rf_dql_status.fit(X_train,y_train)\n",
    "\n",
    "print \"Test set accuracy: \", accuracy_score(y_test,rf_dql_status.predict(X_test))"
   ]
  },
  {
   "cell_type": "markdown",
   "metadata": {},
   "source": [
    "# Stratified Cross Validated Random Forests"
   ]
  },
  {
   "cell_type": "code",
   "execution_count": 61,
   "metadata": {
    "collapsed": false
   },
   "outputs": [],
   "source": [
    "# Fitting Random Forests\n",
    "import pandas as pd\n",
    "import numpy as np\n",
    "from sklearn.cross_validation import KFold, StratifiedKFold, cross_val_score, train_test_split\n",
    "from sklearn.grid_search import GridSearchCV\n",
    "from sklearn import cross_validation \n",
    "from sklearn.preprocessing import StandardScaler, LabelEncoder, PolynomialFeatures\n",
    "from sklearn.tree import DecisionTreeRegressor\n",
    "from sklearn.ensemble import BaggingRegressor, RandomForestRegressor, RandomForestClassifier\n",
    "from sklearn.naive_bayes import GaussianNB\n",
    "from sklearn.linear_model import Lasso, Ridge, LinearRegression, LogisticRegression\n",
    "\n",
    "from sklearn.metrics import mean_squared_error, accuracy_score\n",
    "from sklearn.externals.six import StringIO\n",
    "\n",
    "from sklearn import metrics\n",
    "import scipy.stats as stats\n",
    "\n",
    "pd.options.display.mpl_style = 'default'\n",
    "np.set_printoptions(precision=4,suppress=True)"
   ]
  },
  {
   "cell_type": "code",
   "execution_count": 82,
   "metadata": {
    "collapsed": false
   },
   "outputs": [
    {
     "name": "stdout",
     "output_type": "stream",
     "text": [
      "10-fold cross validation:\n",
      "\n",
      "Accuracy: 0.86 (+/- 0.00) [Logistic Regression - L1]\n",
      "Accuracy: 0.86 (+/- 0.00) [Logistic Regression - L2]\n",
      "Accuracy: 0.73 (+/- 0.12) [Random Forest]\n",
      "Accuracy: 0.79 (+/- 0.05) [Naive Bayes]\n"
     ]
    }
   ],
   "source": [
    "#example stratified cross validation\n",
    "\n",
    "X = loandata_sf_final_filled[x_feature_list]\n",
    "X_scaled = StandardScaler().fit_transform(X)\n",
    "y = loandata_sf_final_filled.dlq_status\n",
    "\n",
    "strat = StratifiedKFold(y,n_folds=10)\n",
    "\n",
    "clf1 = LogisticRegression(penalty='l1',C=0.0001)\n",
    "clf2 = LogisticRegression(penalty='l2',C=0.0001)\n",
    "clf3 = RandomForestClassifier(n_estimators = 100)\n",
    "clf4 = GaussianNB()\n",
    "\n",
    "print('10-fold cross validation:\\n')\n",
    "\n",
    "for clf, label in zip([clf1, clf2, clf3, clf4], ['Logistic Regression - L1','Logistic Regression - L2', 'Random Forest', 'Naive Bayes']):\n",
    "    scores = cross_val_score(clf, X_scaled, y, cv = strat, scoring='accuracy')\n",
    "    print(\"Accuracy: %0.2f (+/- %0.2f) [%s]\" % (scores.mean(), scores.std(), label))"
   ]
  },
  {
   "cell_type": "code",
   "execution_count": 133,
   "metadata": {
    "collapsed": false
   },
   "outputs": [
    {
     "name": "stdout",
     "output_type": "stream",
     "text": [
      "10-fold cross validation:\n",
      "\n",
      "Accuracy: 0.86 (+/- 0.00) [Logistic Regression - L1]\n",
      "Accuracy: 0.86 (+/- 0.00) [Logistic Regression - L2]\n",
      "Accuracy: 0.73 (+/- 0.12) [Random Forest]\n",
      "Accuracy: 0.79 (+/- 0.05) [Naive Bayes]\n"
     ]
    }
   ],
   "source": [
    "#example stratified cross validation\n",
    "\n",
    "X = loandata_sf_final_filled[x_feature_list]\n",
    "X_scaled = StandardScaler().fit_transform(X)\n",
    "y = loandata_sf_final_filled.dlq_status\n",
    "\n",
    "strat = StratifiedKFold(y,n_folds=10)\n",
    "\n",
    "clf1 = LogisticRegression(penalty='l1',C=0.0001)\n",
    "clf2 = LogisticRegression(penalty='l2',C=0.0001)\n",
    "clf3 = RandomForestClassifier(n_estimators = 1000)\n",
    "clf4 = GaussianNB()\n",
    "\n",
    "print('10-fold cross validation:\\n')\n",
    "\n",
    "for clf, label in zip([clf1, clf2, clf3, clf4], ['Logistic Regression - L1','Logistic Regression - L2', 'Random Forest', 'Naive Bayes']):\n",
    "    scores = cross_val_score(clf, X_scaled, y, cv = strat, scoring='accuracy')\n",
    "    print(\"Accuracy: %0.2f (+/- %0.2f) [%s]\" % (scores.mean(), scores.std(), label))"
   ]
  },
  {
   "cell_type": "code",
   "execution_count": 100,
   "metadata": {
    "collapsed": false
   },
   "outputs": [
    {
     "data": {
      "text/html": [
       "<div>\n",
       "<table border=\"1\" class=\"dataframe\">\n",
       "  <thead>\n",
       "    <tr style=\"text-align: right;\">\n",
       "      <th></th>\n",
       "      <th>features</th>\n",
       "      <th>coeff</th>\n",
       "    </tr>\n",
       "  </thead>\n",
       "  <tbody>\n",
       "    <tr>\n",
       "      <th>19</th>\n",
       "      <td>int_rate</td>\n",
       "      <td>0.518448</td>\n",
       "    </tr>\n",
       "    <tr>\n",
       "      <th>2</th>\n",
       "      <td>annual_inc</td>\n",
       "      <td>0.293107</td>\n",
       "    </tr>\n",
       "    <tr>\n",
       "      <th>7</th>\n",
       "      <td>acc_open_past_24mths</td>\n",
       "      <td>0.164500</td>\n",
       "    </tr>\n",
       "    <tr>\n",
       "      <th>3</th>\n",
       "      <td>dti</td>\n",
       "      <td>0.095740</td>\n",
       "    </tr>\n",
       "    <tr>\n",
       "      <th>27</th>\n",
       "      <td>loan_issue_yr_plus3</td>\n",
       "      <td>0.082200</td>\n",
       "    </tr>\n",
       "    <tr>\n",
       "      <th>22</th>\n",
       "      <td>loan_issue_yr</td>\n",
       "      <td>0.082200</td>\n",
       "    </tr>\n",
       "    <tr>\n",
       "      <th>18</th>\n",
       "      <td>term</td>\n",
       "      <td>0.072173</td>\n",
       "    </tr>\n",
       "    <tr>\n",
       "      <th>6</th>\n",
       "      <td>total_bal_ex_mort</td>\n",
       "      <td>0.071659</td>\n",
       "    </tr>\n",
       "    <tr>\n",
       "      <th>1</th>\n",
       "      <td>installment</td>\n",
       "      <td>0.069861</td>\n",
       "    </tr>\n",
       "    <tr>\n",
       "      <th>5</th>\n",
       "      <td>bc_open_to_buy</td>\n",
       "      <td>0.060561</td>\n",
       "    </tr>\n",
       "    <tr>\n",
       "      <th>20</th>\n",
       "      <td>credit_score</td>\n",
       "      <td>0.051025</td>\n",
       "    </tr>\n",
       "    <tr>\n",
       "      <th>35</th>\n",
       "      <td>change_in_umempl_3yrs</td>\n",
       "      <td>0.046445</td>\n",
       "    </tr>\n",
       "    <tr>\n",
       "      <th>17</th>\n",
       "      <td>mths_since_recent_revol_delinq</td>\n",
       "      <td>0.027400</td>\n",
       "    </tr>\n",
       "    <tr>\n",
       "      <th>25</th>\n",
       "      <td>RENT</td>\n",
       "      <td>0.026309</td>\n",
       "    </tr>\n",
       "    <tr>\n",
       "      <th>26</th>\n",
       "      <td>unemployment_rate</td>\n",
       "      <td>0.025335</td>\n",
       "    </tr>\n",
       "    <tr>\n",
       "      <th>29</th>\n",
       "      <td>state_dum0</td>\n",
       "      <td>0.024524</td>\n",
       "    </tr>\n",
       "    <tr>\n",
       "      <th>0</th>\n",
       "      <td>loan_amnt</td>\n",
       "      <td>0.024317</td>\n",
       "    </tr>\n",
       "    <tr>\n",
       "      <th>23</th>\n",
       "      <td>MORTGAGE</td>\n",
       "      <td>0.024155</td>\n",
       "    </tr>\n",
       "    <tr>\n",
       "      <th>12</th>\n",
       "      <td>num_sats</td>\n",
       "      <td>0.021555</td>\n",
       "    </tr>\n",
       "    <tr>\n",
       "      <th>9</th>\n",
       "      <td>delinq_2yrs</td>\n",
       "      <td>0.021457</td>\n",
       "    </tr>\n",
       "    <tr>\n",
       "      <th>21</th>\n",
       "      <td>emp_yr</td>\n",
       "      <td>0.020417</td>\n",
       "    </tr>\n",
       "    <tr>\n",
       "      <th>10</th>\n",
       "      <td>mths_since_last_delinq</td>\n",
       "      <td>0.019874</td>\n",
       "    </tr>\n",
       "    <tr>\n",
       "      <th>4</th>\n",
       "      <td>bc_util</td>\n",
       "      <td>0.019082</td>\n",
       "    </tr>\n",
       "    <tr>\n",
       "      <th>11</th>\n",
       "      <td>pct_tl_nvr_dlq</td>\n",
       "      <td>0.014409</td>\n",
       "    </tr>\n",
       "    <tr>\n",
       "      <th>30</th>\n",
       "      <td>state_dum1</td>\n",
       "      <td>0.014159</td>\n",
       "    </tr>\n",
       "    <tr>\n",
       "      <th>16</th>\n",
       "      <td>num_accts_ever_120_pd</td>\n",
       "      <td>0.013897</td>\n",
       "    </tr>\n",
       "    <tr>\n",
       "      <th>33</th>\n",
       "      <td>state_dum4</td>\n",
       "      <td>0.013029</td>\n",
       "    </tr>\n",
       "    <tr>\n",
       "      <th>28</th>\n",
       "      <td>unemployment_rate_after3yrs</td>\n",
       "      <td>0.011476</td>\n",
       "    </tr>\n",
       "    <tr>\n",
       "      <th>15</th>\n",
       "      <td>num_tl_90g_dpd_24m</td>\n",
       "      <td>0.009403</td>\n",
       "    </tr>\n",
       "    <tr>\n",
       "      <th>8</th>\n",
       "      <td>chargeoff_within_12_mths</td>\n",
       "      <td>0.008803</td>\n",
       "    </tr>\n",
       "    <tr>\n",
       "      <th>31</th>\n",
       "      <td>state_dum2</td>\n",
       "      <td>0.008685</td>\n",
       "    </tr>\n",
       "    <tr>\n",
       "      <th>13</th>\n",
       "      <td>num_tl_120dpd_2m</td>\n",
       "      <td>0.005394</td>\n",
       "    </tr>\n",
       "    <tr>\n",
       "      <th>14</th>\n",
       "      <td>num_tl_30dpd</td>\n",
       "      <td>0.004948</td>\n",
       "    </tr>\n",
       "    <tr>\n",
       "      <th>24</th>\n",
       "      <td>OWN</td>\n",
       "      <td>0.003252</td>\n",
       "    </tr>\n",
       "    <tr>\n",
       "      <th>32</th>\n",
       "      <td>state_dum3</td>\n",
       "      <td>0.001385</td>\n",
       "    </tr>\n",
       "    <tr>\n",
       "      <th>34</th>\n",
       "      <td>state_dum5</td>\n",
       "      <td>0.000909</td>\n",
       "    </tr>\n",
       "  </tbody>\n",
       "</table>\n",
       "</div>"
      ],
      "text/plain": [
       "                          features     coeff\n",
       "19                        int_rate  0.518448\n",
       "2                       annual_inc  0.293107\n",
       "7             acc_open_past_24mths  0.164500\n",
       "3                              dti  0.095740\n",
       "27             loan_issue_yr_plus3  0.082200\n",
       "22                   loan_issue_yr  0.082200\n",
       "18                            term  0.072173\n",
       "6                total_bal_ex_mort  0.071659\n",
       "1                      installment  0.069861\n",
       "5                   bc_open_to_buy  0.060561\n",
       "20                    credit_score  0.051025\n",
       "35           change_in_umempl_3yrs  0.046445\n",
       "17  mths_since_recent_revol_delinq  0.027400\n",
       "25                            RENT  0.026309\n",
       "26               unemployment_rate  0.025335\n",
       "29                      state_dum0  0.024524\n",
       "0                        loan_amnt  0.024317\n",
       "23                        MORTGAGE  0.024155\n",
       "12                        num_sats  0.021555\n",
       "9                      delinq_2yrs  0.021457\n",
       "21                          emp_yr  0.020417\n",
       "10          mths_since_last_delinq  0.019874\n",
       "4                          bc_util  0.019082\n",
       "11                  pct_tl_nvr_dlq  0.014409\n",
       "30                      state_dum1  0.014159\n",
       "16           num_accts_ever_120_pd  0.013897\n",
       "33                      state_dum4  0.013029\n",
       "28     unemployment_rate_after3yrs  0.011476\n",
       "15              num_tl_90g_dpd_24m  0.009403\n",
       "8         chargeoff_within_12_mths  0.008803\n",
       "31                      state_dum2  0.008685\n",
       "13                num_tl_120dpd_2m  0.005394\n",
       "14                    num_tl_30dpd  0.004948\n",
       "24                             OWN  0.003252\n",
       "32                      state_dum3  0.001385\n",
       "34                      state_dum5  0.000909"
      ]
     },
     "execution_count": 100,
     "metadata": {},
     "output_type": "execute_result"
    }
   ],
   "source": [
    "# showing ordered coeff\n",
    "my_log_odds_per_feature = np.abs(LogisticRegression().fit(X_scaled,y).coef_)\n",
    "coeff_df = pd.DataFrame(zip(x_feature_list, my_log_odds_per_feature[0]),columns=[\"features\",\"coeff\"])\n",
    "coeff_df.sort_values(\"coeff\",ascending=False,inplace=True)\n",
    "coeff_df.index = range(1,len(dfm) + 1)\n",
    "coeff_df.reindex()\n",
    "coeff_df"
   ]
  },
  {
   "cell_type": "code",
   "execution_count": 102,
   "metadata": {
    "collapsed": true
   },
   "outputs": [],
   "source": [
    "# Next time try using just the following features\n",
    "short_feature_list = ['int_rate','annual_inc','acc_open_past_24mths','dti','loan_issue_yr','term','total_bal_ex_mort','installment',\n",
    "'bc_open_to_buy','credit_score','change_in_umempl_3yrs','mths_since_recent_revol_delinq','RENT','unemployment_rate']"
   ]
  },
  {
   "cell_type": "code",
   "execution_count": 90,
   "metadata": {
    "collapsed": false
   },
   "outputs": [
    {
     "data": {
      "text/html": [
       "<div>\n",
       "<table border=\"1\" class=\"dataframe\">\n",
       "  <thead>\n",
       "    <tr style=\"text-align: right;\">\n",
       "      <th></th>\n",
       "      <th>feature</th>\n",
       "      <th>importance</th>\n",
       "    </tr>\n",
       "  </thead>\n",
       "  <tbody>\n",
       "    <tr>\n",
       "      <th>19</th>\n",
       "      <td>int_rate</td>\n",
       "      <td>1.679419</td>\n",
       "    </tr>\n",
       "    <tr>\n",
       "      <th>7</th>\n",
       "      <td>acc_open_past_24mths</td>\n",
       "      <td>1.178804</td>\n",
       "    </tr>\n",
       "    <tr>\n",
       "      <th>3</th>\n",
       "      <td>dti</td>\n",
       "      <td>1.100472</td>\n",
       "    </tr>\n",
       "    <tr>\n",
       "      <th>18</th>\n",
       "      <td>term</td>\n",
       "      <td>1.074842</td>\n",
       "    </tr>\n",
       "    <tr>\n",
       "      <th>1</th>\n",
       "      <td>installment</td>\n",
       "      <td>1.072359</td>\n",
       "    </tr>\n",
       "    <tr>\n",
       "      <th>20</th>\n",
       "      <td>credit_score</td>\n",
       "      <td>1.052349</td>\n",
       "    </tr>\n",
       "    <tr>\n",
       "      <th>17</th>\n",
       "      <td>mths_since_recent_revol_delinq</td>\n",
       "      <td>1.027779</td>\n",
       "    </tr>\n",
       "    <tr>\n",
       "      <th>25</th>\n",
       "      <td>RENT</td>\n",
       "      <td>1.026658</td>\n",
       "    </tr>\n",
       "    <tr>\n",
       "      <th>26</th>\n",
       "      <td>unemployment_rate</td>\n",
       "      <td>1.025658</td>\n",
       "    </tr>\n",
       "    <tr>\n",
       "      <th>0</th>\n",
       "      <td>loan_amnt</td>\n",
       "      <td>1.024615</td>\n",
       "    </tr>\n",
       "    <tr>\n",
       "      <th>9</th>\n",
       "      <td>delinq_2yrs</td>\n",
       "      <td>1.021688</td>\n",
       "    </tr>\n",
       "    <tr>\n",
       "      <th>10</th>\n",
       "      <td>mths_since_last_delinq</td>\n",
       "      <td>1.020073</td>\n",
       "    </tr>\n",
       "    <tr>\n",
       "      <th>11</th>\n",
       "      <td>pct_tl_nvr_dlq</td>\n",
       "      <td>1.014513</td>\n",
       "    </tr>\n",
       "    <tr>\n",
       "      <th>15</th>\n",
       "      <td>num_tl_90g_dpd_24m</td>\n",
       "      <td>1.009447</td>\n",
       "    </tr>\n",
       "    <tr>\n",
       "      <th>31</th>\n",
       "      <td>state_dum2</td>\n",
       "      <td>1.008723</td>\n",
       "    </tr>\n",
       "    <tr>\n",
       "      <th>13</th>\n",
       "      <td>num_tl_120dpd_2m</td>\n",
       "      <td>1.005409</td>\n",
       "    </tr>\n",
       "    <tr>\n",
       "      <th>14</th>\n",
       "      <td>num_tl_30dpd</td>\n",
       "      <td>1.004960</td>\n",
       "    </tr>\n",
       "    <tr>\n",
       "      <th>32</th>\n",
       "      <td>state_dum3</td>\n",
       "      <td>1.001386</td>\n",
       "    </tr>\n",
       "    <tr>\n",
       "      <th>34</th>\n",
       "      <td>state_dum5</td>\n",
       "      <td>0.999091</td>\n",
       "    </tr>\n",
       "    <tr>\n",
       "      <th>24</th>\n",
       "      <td>OWN</td>\n",
       "      <td>0.996753</td>\n",
       "    </tr>\n",
       "    <tr>\n",
       "      <th>8</th>\n",
       "      <td>chargeoff_within_12_mths</td>\n",
       "      <td>0.991235</td>\n",
       "    </tr>\n",
       "    <tr>\n",
       "      <th>28</th>\n",
       "      <td>unemployment_rate_after3yrs</td>\n",
       "      <td>0.988589</td>\n",
       "    </tr>\n",
       "    <tr>\n",
       "      <th>33</th>\n",
       "      <td>state_dum4</td>\n",
       "      <td>0.987056</td>\n",
       "    </tr>\n",
       "    <tr>\n",
       "      <th>16</th>\n",
       "      <td>num_accts_ever_120_pd</td>\n",
       "      <td>0.986199</td>\n",
       "    </tr>\n",
       "    <tr>\n",
       "      <th>30</th>\n",
       "      <td>state_dum1</td>\n",
       "      <td>0.985941</td>\n",
       "    </tr>\n",
       "    <tr>\n",
       "      <th>4</th>\n",
       "      <td>bc_util</td>\n",
       "      <td>0.981099</td>\n",
       "    </tr>\n",
       "    <tr>\n",
       "      <th>21</th>\n",
       "      <td>emp_yr</td>\n",
       "      <td>0.979790</td>\n",
       "    </tr>\n",
       "    <tr>\n",
       "      <th>12</th>\n",
       "      <td>num_sats</td>\n",
       "      <td>0.978675</td>\n",
       "    </tr>\n",
       "    <tr>\n",
       "      <th>23</th>\n",
       "      <td>MORTGAGE</td>\n",
       "      <td>0.976134</td>\n",
       "    </tr>\n",
       "    <tr>\n",
       "      <th>29</th>\n",
       "      <td>state_dum0</td>\n",
       "      <td>0.975775</td>\n",
       "    </tr>\n",
       "    <tr>\n",
       "      <th>35</th>\n",
       "      <td>change_in_umempl_3yrs</td>\n",
       "      <td>0.954617</td>\n",
       "    </tr>\n",
       "    <tr>\n",
       "      <th>5</th>\n",
       "      <td>bc_open_to_buy</td>\n",
       "      <td>0.941237</td>\n",
       "    </tr>\n",
       "    <tr>\n",
       "      <th>6</th>\n",
       "      <td>total_bal_ex_mort</td>\n",
       "      <td>0.930849</td>\n",
       "    </tr>\n",
       "    <tr>\n",
       "      <th>27</th>\n",
       "      <td>loan_issue_yr_plus3</td>\n",
       "      <td>0.921088</td>\n",
       "    </tr>\n",
       "    <tr>\n",
       "      <th>22</th>\n",
       "      <td>loan_issue_yr</td>\n",
       "      <td>0.921088</td>\n",
       "    </tr>\n",
       "    <tr>\n",
       "      <th>2</th>\n",
       "      <td>annual_inc</td>\n",
       "      <td>0.745942</td>\n",
       "    </tr>\n",
       "  </tbody>\n",
       "</table>\n",
       "</div>"
      ],
      "text/plain": [
       "                           feature  importance\n",
       "19                        int_rate    1.679419\n",
       "7             acc_open_past_24mths    1.178804\n",
       "3                              dti    1.100472\n",
       "18                            term    1.074842\n",
       "1                      installment    1.072359\n",
       "20                    credit_score    1.052349\n",
       "17  mths_since_recent_revol_delinq    1.027779\n",
       "25                            RENT    1.026658\n",
       "26               unemployment_rate    1.025658\n",
       "0                        loan_amnt    1.024615\n",
       "9                      delinq_2yrs    1.021688\n",
       "10          mths_since_last_delinq    1.020073\n",
       "11                  pct_tl_nvr_dlq    1.014513\n",
       "15              num_tl_90g_dpd_24m    1.009447\n",
       "31                      state_dum2    1.008723\n",
       "13                num_tl_120dpd_2m    1.005409\n",
       "14                    num_tl_30dpd    1.004960\n",
       "32                      state_dum3    1.001386\n",
       "34                      state_dum5    0.999091\n",
       "24                             OWN    0.996753\n",
       "8         chargeoff_within_12_mths    0.991235\n",
       "28     unemployment_rate_after3yrs    0.988589\n",
       "33                      state_dum4    0.987056\n",
       "16           num_accts_ever_120_pd    0.986199\n",
       "30                      state_dum1    0.985941\n",
       "4                          bc_util    0.981099\n",
       "21                          emp_yr    0.979790\n",
       "12                        num_sats    0.978675\n",
       "23                        MORTGAGE    0.976134\n",
       "29                      state_dum0    0.975775\n",
       "35           change_in_umempl_3yrs    0.954617\n",
       "5                   bc_open_to_buy    0.941237\n",
       "6                total_bal_ex_mort    0.930849\n",
       "27             loan_issue_yr_plus3    0.921088\n",
       "22                   loan_issue_yr    0.921088\n",
       "2                       annual_inc    0.745942"
      ]
     },
     "execution_count": 90,
     "metadata": {},
     "output_type": "execute_result"
    }
   ],
   "source": [
    "my_log_odds_per_feature = LogisticRegression().fit(X_scaled,y).coef_\n",
    "my_odds = map(np.exp, my_log_odds_per_feature)\n",
    "my_odds\n",
    "# zip(x_feature_list, my_odds[0])\n",
    "\n",
    "# compute feature importances\n",
    "odds_df =pd.DataFrame({'feature':x_feature_list, 'odds importance':my_odds[0]}).sort_values(by='odds importance',ascending=False)\n",
    "\n",
    "# another way of doing the above\n",
    "# odds_df = pd.DataFrame(zip(x_feature_list, my_odds[0]),columns=[\"features\",\"odds\"])\n",
    "# odds_df.sort_values(\"odds\",ascending=False,inplace=True)\n",
    "# odds_df"
   ]
  },
  {
   "cell_type": "markdown",
   "metadata": {},
   "source": [
    "# Accuracy, Sensitivity, and F-Score"
   ]
  },
  {
   "cell_type": "code",
   "execution_count": 101,
   "metadata": {
    "collapsed": false
   },
   "outputs": [
    {
     "name": "stdout",
     "output_type": "stream",
     "text": [
      "Test set accuracy of LR model:  0.860456612991\n"
     ]
    }
   ],
   "source": [
    "X_train, X_test, y_train, y_test = train_test_split(X_scaled, y, test_size=0.3,random_state=1)\n",
    "\n",
    "lr = LogisticRegression(C=1e9)\n",
    "lr.fit(X_train,y_train)\n",
    "y_test_pred = lr.predict(X_test)\n",
    "\n",
    "print \"Test set accuracy of LR model: \",metrics.accuracy_score(y_test, y_test_pred)"
   ]
  },
  {
   "cell_type": "code",
   "execution_count": 105,
   "metadata": {
    "collapsed": false
   },
   "outputs": [
    {
     "name": "stdout",
     "output_type": "stream",
     "text": [
      "Null accuracy on the test set:  0.139484884384\n"
     ]
    }
   ],
   "source": [
    "# compute null accuracy manually\n",
    "print \"Null accuracy on the test set: \",y_test.mean()"
   ]
  },
  {
   "cell_type": "code",
   "execution_count": 106,
   "metadata": {
    "collapsed": false
   },
   "outputs": [
    {
     "name": "stdout",
     "output_type": "stream",
     "text": [
      "[[58824    12]\n",
      " [ 9529     8]]\n"
     ]
    },
    {
     "data": {
      "text/plain": [
       "<matplotlib.axes._subplots.AxesSubplot at 0x12099358>"
      ]
     },
     "execution_count": 106,
     "metadata": {},
     "output_type": "execute_result"
    },
    {
     "data": {
      "image/png": "[encoded data removed]",
      "text/plain": [
       "<matplotlib.figure.Figure at 0x581b6588>"
      ]
     },
     "metadata": {},
     "output_type": "display_data"
    }
   ],
   "source": [
    "# confusion matrix\n",
    "cm = metrics.confusion_matrix(y_test, y_test_pred)\n",
    "print cm\n",
    "sns.heatmap(cm)"
   ]
  },
  {
   "cell_type": "code",
   "execution_count": 107,
   "metadata": {
    "collapsed": false
   },
   "outputs": [
    {
     "name": "stdout",
     "output_type": "stream",
     "text": [
      "Sensitivity/Recall (TPR):  0.00083883820908\n",
      "Precision (PPV):  0.4\n",
      "Accuracy:  0.860456612991\n",
      "F1: 0.00167416553312\n"
     ]
    }
   ],
   "source": [
    "# calculate some of these metrics using sklearn and the test set samples\n",
    "print \"Sensitivity/Recall (TPR): \",metrics.recall_score(y_test,y_test_pred)\n",
    "print \"Precision (PPV): \", metrics.precision_score(y_test,y_test_pred)\n",
    "print \"Accuracy: \", metrics.accuracy_score(y_test,y_test_pred)\n",
    "print \"F1:\", metrics.f1_score(y_test,y_test_pred)"
   ]
  },
  {
   "cell_type": "code",
   "execution_count": 108,
   "metadata": {
    "collapsed": false
   },
   "outputs": [
    {
     "name": "stdout",
     "output_type": "stream",
     "text": [
      "Classification Report:\n",
      "             precision    recall  f1-score   support\n",
      "\n",
      "          0       0.86      1.00      0.92     58836\n",
      "          1       0.40      0.00      0.00      9537\n",
      "\n",
      "avg / total       0.80      0.86      0.80     68373\n",
      "\n"
     ]
    }
   ],
   "source": [
    "print \"Classification Report:\\n\", metrics.classification_report(y_test,y_test_pred)"
   ]
  },
  {
   "cell_type": "code",
   "execution_count": 109,
   "metadata": {
    "collapsed": false
   },
   "outputs": [
    {
     "name": "stdout",
     "output_type": "stream",
     "text": [
      "Logistic Regression predicted probabilities for first five samples in test set:\n",
      "[[ 0.91   0.09 ]\n",
      " [ 0.94   0.06 ]\n",
      " [ 0.697  0.303]\n",
      " [ 0.873  0.127]\n",
      " [ 0.803  0.197]]\n",
      "Logistic Regression predictions for first five samples in test set:\n",
      "[0 0 0 0 0]\n"
     ]
    },
    {
     "data": {
      "text/html": [
       "<div>\n",
       "<table border=\"1\" class=\"dataframe\">\n",
       "  <thead>\n",
       "    <tr style=\"text-align: right;\">\n",
       "      <th></th>\n",
       "      <th>class_0</th>\n",
       "      <th>class_1</th>\n",
       "      <th>predicted</th>\n",
       "      <th>actual</th>\n",
       "    </tr>\n",
       "  </thead>\n",
       "  <tbody>\n",
       "    <tr>\n",
       "      <th>0</th>\n",
       "      <td>0.910</td>\n",
       "      <td>0.090</td>\n",
       "      <td>0.0</td>\n",
       "      <td>0.0</td>\n",
       "    </tr>\n",
       "    <tr>\n",
       "      <th>1</th>\n",
       "      <td>0.940</td>\n",
       "      <td>0.060</td>\n",
       "      <td>0.0</td>\n",
       "      <td>0.0</td>\n",
       "    </tr>\n",
       "    <tr>\n",
       "      <th>2</th>\n",
       "      <td>0.697</td>\n",
       "      <td>0.303</td>\n",
       "      <td>0.0</td>\n",
       "      <td>0.0</td>\n",
       "    </tr>\n",
       "    <tr>\n",
       "      <th>3</th>\n",
       "      <td>0.873</td>\n",
       "      <td>0.127</td>\n",
       "      <td>0.0</td>\n",
       "      <td>0.0</td>\n",
       "    </tr>\n",
       "    <tr>\n",
       "      <th>4</th>\n",
       "      <td>0.803</td>\n",
       "      <td>0.197</td>\n",
       "      <td>0.0</td>\n",
       "      <td>0.0</td>\n",
       "    </tr>\n",
       "  </tbody>\n",
       "</table>\n",
       "</div>"
      ],
      "text/plain": [
       "   class_0  class_1  predicted  actual\n",
       "0    0.910    0.090        0.0     0.0\n",
       "1    0.940    0.060        0.0     0.0\n",
       "2    0.697    0.303        0.0     0.0\n",
       "3    0.873    0.127        0.0     0.0\n",
       "4    0.803    0.197        0.0     0.0"
      ]
     },
     "execution_count": 109,
     "metadata": {},
     "output_type": "execute_result"
    }
   ],
   "source": [
    "#lr probabilities per category for first five samples\n",
    "predicted_probs_lr = lr.predict_proba(X_test).round(3)\n",
    "predictions_lr = lr.predict(X_test)\n",
    "\n",
    "print \"Logistic Regression predicted probabilities for first five samples in test set:\\n\",predicted_probs_lr[:5]\n",
    "print \"Logistic Regression predictions for first five samples in test set:\\n\",predictions_lr[:5]\n",
    "y_test_lr_df = pd.DataFrame(\n",
    "    np.concatenate((\n",
    "        predicted_probs_lr,predictions_lr.reshape((predictions_lr.shape[0],-1)),\n",
    "        y_test.reshape((y_test.shape[0],-1))),axis=1\n",
    "    ),\n",
    "    columns = [\"class_0\",\"class_1\",\"predicted\",\"actual\"])\n",
    "\n",
    "y_test_lr_df.head()"
   ]
  },
  {
   "cell_type": "code",
   "execution_count": 110,
   "metadata": {
    "collapsed": false
   },
   "outputs": [
    {
     "data": {
      "text/html": [
       "<div>\n",
       "<table border=\"1\" class=\"dataframe\">\n",
       "  <thead>\n",
       "    <tr style=\"text-align: right;\">\n",
       "      <th></th>\n",
       "      <th>class_0</th>\n",
       "      <th>class_1</th>\n",
       "      <th>predicted</th>\n",
       "      <th>actual</th>\n",
       "    </tr>\n",
       "  </thead>\n",
       "  <tbody>\n",
       "    <tr>\n",
       "      <th>0</th>\n",
       "      <td>0.91</td>\n",
       "      <td>0.09</td>\n",
       "      <td>0.0</td>\n",
       "      <td>0.0</td>\n",
       "    </tr>\n",
       "    <tr>\n",
       "      <th>1</th>\n",
       "      <td>0.73</td>\n",
       "      <td>0.27</td>\n",
       "      <td>0.0</td>\n",
       "      <td>0.0</td>\n",
       "    </tr>\n",
       "    <tr>\n",
       "      <th>2</th>\n",
       "      <td>0.69</td>\n",
       "      <td>0.31</td>\n",
       "      <td>0.0</td>\n",
       "      <td>0.0</td>\n",
       "    </tr>\n",
       "    <tr>\n",
       "      <th>3</th>\n",
       "      <td>0.86</td>\n",
       "      <td>0.14</td>\n",
       "      <td>0.0</td>\n",
       "      <td>0.0</td>\n",
       "    </tr>\n",
       "    <tr>\n",
       "      <th>4</th>\n",
       "      <td>0.78</td>\n",
       "      <td>0.22</td>\n",
       "      <td>0.0</td>\n",
       "      <td>0.0</td>\n",
       "    </tr>\n",
       "  </tbody>\n",
       "</table>\n",
       "</div>"
      ],
      "text/plain": [
       "   class_0  class_1  predicted  actual\n",
       "0     0.91     0.09        0.0     0.0\n",
       "1     0.73     0.27        0.0     0.0\n",
       "2     0.69     0.31        0.0     0.0\n",
       "3     0.86     0.14        0.0     0.0\n",
       "4     0.78     0.22        0.0     0.0"
      ]
     },
     "execution_count": 110,
     "metadata": {},
     "output_type": "execute_result"
    }
   ],
   "source": [
    "# Lets generate the same table of predicted probabilities, predictions, and actual values\n",
    "# for a trained random forest classifier that contains 100 trees:\n",
    "\n",
    "rf = RandomForestClassifier(n_estimators=100)\n",
    "rf.fit(X_train,y_train)\n",
    "\n",
    "predicted_probs_rf = rf.predict_proba(X_test)\n",
    "predictions_rf = rf.predict(X_test)\n",
    "\n",
    "y_test_rf_df = pd.DataFrame(\n",
    "    np.concatenate((\n",
    "        predicted_probs_rf,predictions_rf.reshape((predictions_rf.shape[0],-1)),\n",
    "        y_test.reshape((y_test.shape[0],-1))),axis=1\n",
    "    ),\n",
    "    columns = [\"class_0\",\"class_1\",\"predicted\",\"actual\"])\n",
    "\n",
    "y_test_rf_df.head()\n"
   ]
  },
  {
   "cell_type": "code",
   "execution_count": 111,
   "metadata": {
    "collapsed": false
   },
   "outputs": [
    {
     "data": {
      "text/plain": [
       "<matplotlib.text.Text at 0x4e4bd588>"
      ]
     },
     "execution_count": 111,
     "metadata": {},
     "output_type": "execute_result"
    },
    {
     "data": {
      "image/png": "[encoded data removed]",
      "text/plain": [
       "<matplotlib.figure.Figure at 0x581b6550>"
      ]
     },
     "metadata": {},
     "output_type": "display_data"
    }
   ],
   "source": [
    "#generate lr model false positive and true positive rates\n",
    "fpr_lr, tpr_lr, thresholds_lr = metrics.roc_curve(y_test, predicted_probs_lr[:,1])\n",
    "\n",
    "#generate same for random forest model\n",
    "fpr_rf, tpr_rf, thresholds_rf = metrics.roc_curve(y_test, predicted_probs_rf[:,1])\n",
    "\n",
    "# plot LR and RF model ROC curves\n",
    "sns.plt.plot(fpr_lr, tpr_lr,label=\"lr\")\n",
    "sns.plt.plot(fpr_rf, tpr_rf,label=\"rf\")\n",
    "sns.plt.xlim([0, 1])\n",
    "sns.plt.ylim([0, 1.05])\n",
    "sns.plt.legend(loc=\"lower right\")\n",
    "sns.plt.xlabel('False Positive Rate (1 - Specificity)')\n",
    "sns.plt.ylabel('True Positive Rate (Sensitivity)')"
   ]
  },
  {
   "cell_type": "code",
   "execution_count": 112,
   "metadata": {
    "collapsed": false
   },
   "outputs": [
    {
     "name": "stdout",
     "output_type": "stream",
     "text": [
      "LR model AUC:  0.67248291847\n",
      "RF model AUC:  0.655727081224\n"
     ]
    }
   ],
   "source": [
    "# calculate AUC for lr and rf\n",
    "# If model A has a higher AUC than model B then this means that on average, model A is a better classifier\n",
    "# across all decision thresholds (all probabilities).\n",
    "print \"LR model AUC: \",metrics.roc_auc_score(y_test, predicted_probs_lr[:,1])\n",
    "print \"RF model AUC: \",metrics.roc_auc_score(y_test, predicted_probs_rf[:,1])"
   ]
  },
  {
   "cell_type": "code",
   "execution_count": 113,
   "metadata": {
    "collapsed": false
   },
   "outputs": [
    {
     "data": {
      "text/plain": [
       "<matplotlib.text.Text at 0x3f7b5780>"
      ]
     },
     "execution_count": 113,
     "metadata": {},
     "output_type": "execute_result"
    },
    {
     "data": {
      "image/png": "[encoded data removed]",
      "text/plain": [
       "<matplotlib.figure.Figure at 0x49a0f278>"
      ]
     },
     "metadata": {},
     "output_type": "display_data"
    }
   ],
   "source": [
    "# plot LR and RF model ROC curves\n",
    "sns.plt.plot(fpr_lr, tpr_lr,label=\"lr\")\n",
    "sns.plt.plot(fpr_lr,thresholds_lr, label=\"lr_thresh\")\n",
    "sns.plt.xlim([0, 1])\n",
    "sns.plt.ylim([0, 1.05])\n",
    "sns.plt.legend(loc=\"center\")\n",
    "sns.plt.xlabel('False Positive Rate (1 - Specificity)')\n",
    "sns.plt.ylabel('True Positive Rate (Sensitivity) or Class 1 Threshold Probability')\n"
   ]
  },
  {
   "cell_type": "code",
   "execution_count": 119,
   "metadata": {
    "collapsed": false
   },
   "outputs": [
    {
     "name": "stdout",
     "output_type": "stream",
     "text": [
      "   class_0  class_1  predicted  actual  predicted_04  predicted_03  \\\n",
      "0    0.910    0.090        0.0     0.0           0.0           0.0   \n",
      "1    0.940    0.060        0.0     0.0           0.0           0.0   \n",
      "2    0.697    0.303        0.0     0.0           0.0           1.0   \n",
      "3    0.873    0.127        0.0     0.0           0.0           0.0   \n",
      "4    0.803    0.197        0.0     0.0           0.0           0.0   \n",
      "\n",
      "   predicted_02  predicted_01  \n",
      "0           0.0           0.0  \n",
      "1           0.0           0.0  \n",
      "2           1.0           1.0  \n",
      "3           0.0           1.0  \n",
      "4           0.0           1.0  \n",
      "Confusion matrix at original 0.5 threshold:\n",
      "[[58824    12]\n",
      " [ 9529     8]] \n",
      "\n",
      "Classification Report at original 0.5 threshold:\n",
      "             precision    recall  f1-score   support\n",
      "\n",
      "        0.0       0.86      1.00      0.92     58836\n",
      "        1.0       0.40      0.00      0.00      9537\n",
      "\n",
      "avg / total       0.80      0.86      0.80     68373\n",
      "\n",
      "\n",
      "Confusion matrix at 0.2 threshold:\n",
      "[[49611  9225]\n",
      " [ 6321  3216]] \n",
      "\n",
      "Classification Report at 0.2 threshold:\n",
      "             precision    recall  f1-score   support\n",
      "\n",
      "        0.0       0.89      0.84      0.86     58836\n",
      "        1.0       0.26      0.34      0.29      9537\n",
      "\n",
      "avg / total       0.80      0.77      0.78     68373\n",
      "\n"
     ]
    }
   ],
   "source": [
    "# Lets say - It looks like the threshold that satisfies our criteria is ~0.3.\n",
    "\n",
    "y_test_lr_df[\"predicted_02\"] = (y_test_lr_df.class_1 > 0.2).astype(float)\n",
    "print y_test_lr_df.head()\n",
    "print \"Confusion matrix at original 0.5 threshold:\\n\",metrics.confusion_matrix(y_test_lr_df.actual,\n",
    "                                                                      y_test_lr_df.predicted),\"\\n\"\n",
    "print \"Classification Report at original 0.5 threshold:\\n\", metrics.classification_report(y_test_lr_df.actual,\n",
    "                                                                                          y_test_lr_df.predicted),\"\\n\"\n",
    "print \"Confusion matrix at 0.2 threshold:\\n\",metrics.confusion_matrix(y_test_lr_df.actual,\n",
    "                                                                      y_test_lr_df.predicted_02),\"\\n\"\n",
    "print \"Classification Report at 0.2 threshold:\\n\", metrics.classification_report(y_test_lr_df.actual,\n",
    "                                                                                 y_test_lr_df.predicted_02)"
   ]
  }
 ],
 "metadata": {
  "kernelspec": {
   "display_name": "Python 2",
   "language": "python",
   "name": "python2"
  },
  "language_info": {
   "codemirror_mode": {
    "name": "ipython",
    "version": 2
   },
   "file_extension": ".py",
   "mimetype": "text/x-python",
   "name": "python",
   "nbconvert_exporter": "python",
   "pygments_lexer": "ipython2",
   "version": "2.7.11"
  }
 },
 "nbformat": 4,
 "nbformat_minor": 0
}
